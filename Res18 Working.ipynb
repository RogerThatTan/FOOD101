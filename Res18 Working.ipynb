{
 "cells": [
  {
   "cell_type": "code",
   "execution_count": 1,
   "id": "1aec4ad2",
   "metadata": {},
   "outputs": [],
   "source": [
    "import json\n",
    "import os\n",
    "import torch\n",
    "import torch.nn as nn\n",
    "import torch.optim as optim\n",
    "from sklearn.model_selection import train_test_split\n",
    "from torch.utils.data import DataLoader, Subset\n",
    "from torchvision.datasets import DatasetFolder\n",
    "from torchvision.io import read_image\n",
    "from torchvision.transforms import functional as F\n",
    "from torchvision import transforms, models\n",
    "from tqdm import tqdm\n",
    "import random\n",
    "import matplotlib.pyplot as plt\n",
    "from efficientnet_pytorch import EfficientNet"
   ]
  },
  {
   "cell_type": "code",
   "execution_count": 2,
   "id": "fa573721-190f-40f0-a469-679418e6b91a",
   "metadata": {},
   "outputs": [],
   "source": [
    "# Paths to JSON files and data directory\n",
    "train_json_path = 'G:/food-101.zip/food-101/meta/train.json'\n",
    "test_json_path = 'G:/food-101.zip/food-101/meta/test.json'\n",
    "data_dir = 'G:/food-101.zip/food-101/images'"
   ]
  },
  {
   "cell_type": "code",
   "execution_count": 3,
   "id": "4981d10a-b2f6-4d5e-b2a0-3383b5cd6080",
   "metadata": {},
   "outputs": [
    {
     "name": "stdout",
     "output_type": "stream",
     "text": [
      "Loading JSON files...\n"
     ]
    }
   ],
   "source": [
    "print(\"Loading JSON files...\")\n",
    "# Load JSON files\n",
    "with open(train_json_path, 'r') as f:\n",
    "    train_data = json.load(f)\n",
    "with open(test_json_path, 'r') as f:\n",
    "    test_data = json.load(f)"
   ]
  },
  {
   "cell_type": "code",
   "execution_count": 4,
   "id": "8f3eeaee-e9d7-4d9a-895a-a3448eb73550",
   "metadata": {},
   "outputs": [
    {
     "name": "stdout",
     "output_type": "stream",
     "text": [
      "Splitting train data into training and validation sets...\n"
     ]
    }
   ],
   "source": [
    "print(\"Splitting train data into training and validation sets...\")\n",
    "# Split train data into train and validation\n",
    "train_data_split = {}\n",
    "val_data_split = {}\n",
    "\n",
    "for cls, items in train_data.items():\n",
    "    train_items, val_items = train_test_split(items, test_size=0.2, random_state=42)\n",
    "    train_data_split[cls] = train_items\n",
    "    val_data_split[cls] = val_items"
   ]
  },
  {
   "cell_type": "code",
   "execution_count": 5,
   "id": "2c0bfde1-df25-4b8e-b439-03067e7e4309",
   "metadata": {},
   "outputs": [],
   "source": [
    "# Create custom dataset class\n",
    "class FoodDataset(DatasetFolder):\n",
    "    def __init__(self, data, root_dir, transform=None):\n",
    "        self.data = data\n",
    "        self.root_dir = root_dir\n",
    "        self.transform = transform\n",
    "        self.classes = list(self.data.keys())\n",
    "        self.class_to_idx = {cls: idx for idx, cls in enumerate(self.classes)}\n",
    "        self.samples = [(os.path.join(self.root_dir, item + \".jpg\"), self.class_to_idx[cls])\n",
    "                        for cls, items in self.data.items() for item in items]\n",
    "\n",
    "    def __len__(self):\n",
    "        return len(self.samples)\n",
    "\n",
    "    def __getitem__(self, idx):\n",
    "        img_path, label = self.samples[idx]\n",
    "        image = read_image(img_path)\n",
    "        if image.shape[0] == 1:  # Check if the image has 1 channel\n",
    "            image = image.repeat(3, 1, 1)  # Convert 1-channel image to 3-channel\n",
    "        if self.transform:\n",
    "            image = F.to_pil_image(image)\n",
    "            image = self.transform(image)\n",
    "        return image, label"
   ]
  },
  {
   "cell_type": "code",
   "execution_count": 6,
   "id": "813d7667-3c92-4242-85ca-23dda7967818",
   "metadata": {},
   "outputs": [],
   "source": [
    "# Define transformations\n",
    "transform = transforms.Compose([\n",
    "    transforms.Resize((32, 32)),\n",
    "    transforms.ToTensor(),\n",
    "    transforms.Normalize(mean=[0.485, 0.456, 0.406], std=[0.229, 0.224, 0.225])\n",
    "])"
   ]
  },
  {
   "cell_type": "code",
   "execution_count": 7,
   "id": "9b7e9bb4-a991-4e27-b18c-f582bc626c4c",
   "metadata": {},
   "outputs": [
    {
     "name": "stdout",
     "output_type": "stream",
     "text": [
      "Initializing datasets and dataloaders...\n"
     ]
    }
   ],
   "source": [
    "print(\"Initializing datasets and dataloaders...\")\n",
    "# Initialize datasets and dataloaders\n",
    "train_dataset = FoodDataset(data=train_data_split, root_dir=data_dir, transform=transform)\n",
    "val_dataset = FoodDataset(data=val_data_split, root_dir=data_dir, transform=transform)\n",
    "test_dataset = FoodDataset(data=test_data, root_dir=data_dir, transform=transform)"
   ]
  },
  {
   "cell_type": "code",
   "execution_count": 8,
   "id": "a96fbf19-1e76-4ee2-9663-63055ff5d0b5",
   "metadata": {},
   "outputs": [
    {
     "name": "stdout",
     "output_type": "stream",
     "text": [
      "Number of training images: 6060\n",
      "Number of validation images: 1515\n",
      "Number of testing images: 2525\n"
     ]
    }
   ],
   "source": [
    "# Use a small subset of the dataset for initial testing\n",
    "def get_subset(dataset, fraction=0.1):\n",
    "    num_samples = int(len(dataset) * fraction)\n",
    "    subset_indices = random.sample(range(len(dataset)), num_samples)\n",
    "    return Subset(dataset, subset_indices)\n",
    "\n",
    "train_subset = get_subset(train_dataset, fraction=0.1)\n",
    "val_subset = get_subset(val_dataset, fraction=0.1)\n",
    "test_subset = get_subset(test_dataset, fraction=0.1)\n",
    "\n",
    "print(f\"Number of training images: {len(train_subset)}\")\n",
    "print(f\"Number of validation images: {len(val_subset)}\")\n",
    "print(f\"Number of testing images: {len(test_subset)}\")"
   ]
  },
  {
   "cell_type": "code",
   "execution_count": 9,
   "id": "a23a99b7-2dda-4e5d-ab0d-81c2e9f6d2ff",
   "metadata": {},
   "outputs": [],
   "source": [
    "batch_size = 2048\n",
    "train_loader = DataLoader(train_subset, batch_size=batch_size, shuffle=True)\n",
    "val_loader = DataLoader(val_subset, batch_size=batch_size, shuffle=False)\n",
    "test_loader = DataLoader(test_subset, batch_size=batch_size, shuffle=False)"
   ]
  },
  {
   "cell_type": "code",
   "execution_count": 10,
   "id": "ff446bf3-53b8-4769-b63c-a1a85c9e08ea",
   "metadata": {},
   "outputs": [
    {
     "name": "stdout",
     "output_type": "stream",
     "text": [
      "Using device: cuda\n",
      "Loading pre-trained ResNet18 model...\n"
     ]
    },
    {
     "name": "stderr",
     "output_type": "stream",
     "text": [
      "C:\\Users\\xtanv\\anaconda3\\envs\\pytorch\\lib\\site-packages\\torchvision\\models\\_utils.py:208: UserWarning: The parameter 'pretrained' is deprecated since 0.13 and may be removed in the future, please use 'weights' instead.\n",
      "  warnings.warn(\n",
      "C:\\Users\\xtanv\\anaconda3\\envs\\pytorch\\lib\\site-packages\\torchvision\\models\\_utils.py:223: UserWarning: Arguments other than a weight enum or `None` for 'weights' are deprecated since 0.13 and may be removed in the future. The current behavior is equivalent to passing `weights=ResNet18_Weights.IMAGENET1K_V1`. You can also use `weights=ResNet18_Weights.DEFAULT` to get the most up-to-date weights.\n",
      "  warnings.warn(msg)\n"
     ]
    }
   ],
   "source": [
    "# Check for GPU\n",
    "device = torch.device(\"cuda\" if torch.cuda.is_available() else \"cpu\")\n",
    "print(f\"Using device: {device}\")\n",
    "\n",
    "# print(\"Loading pre-trained ResNet18 model...\")\n",
    "# model = models.resnet18(pretrained=True)\n",
    "# print(\"Loading pre-trained EfficientNet B7 model...\")\n",
    "# model = EfficientNet.from_pretrained('efficientnet-b7', num_classes=101)\n",
    "# # num_ftrs = model.fc.in_features\n",
    "# num_ftrs = model._fc.in_features  # or model._classifier.in_features\n",
    "\n",
    "# model.fc = nn.Linear(num_ftrs, 101)  # 101 classes\n",
    "# model = model.to(device)\n",
    "\n",
    "\n",
    "\n",
    "print(\"Loading pre-trained ResNet18 model...\")\n",
    "model = models.resnet18(pretrained=True)\n",
    "num_ftrs = model.fc.in_features\n",
    "model.fc = nn.Linear(num_ftrs, 101)  # 101 classes\n",
    "model = model.to(device)"
   ]
  },
  {
   "cell_type": "code",
   "execution_count": 11,
   "id": "838a37cb-21df-4f31-8a62-2c7545058e41",
   "metadata": {},
   "outputs": [],
   "source": [
    "# Loss and optimizer\n",
    "criterion = nn.CrossEntropyLoss()\n",
    "optimizer = optim.Adam(model.parameters(), lr=0.001)"
   ]
  },
  {
   "cell_type": "code",
   "execution_count": 12,
   "id": "34c8713d-bb48-4a4c-8b5f-b0e8b6c7c5d5",
   "metadata": {},
   "outputs": [],
   "source": [
    "# def prune_layer(layer, pruning_rate):\n",
    "#     \"\"\"Prunes the given layer by setting a percentage of its weights to zero.\"\"\"\n",
    "#     print(f\"Pruning layer with pruning rate: {pruning_rate}\")\n",
    "#     with torch.no_grad():\n",
    "#         weight = layer.weight.data.abs().clone()\n",
    "#         threshold = torch.quantile(weight, pruning_rate)\n",
    "#         mask = weight.ge(threshold).float()\n",
    "#         layer.weight.data.mul_(mask)\n",
    "#         return mask"
   ]
  },
  {
   "cell_type": "code",
   "execution_count": 13,
   "id": "f23458c8-9f3b-44e3-ac53-8897b8ef9a81",
   "metadata": {},
   "outputs": [],
   "source": [
    "# def prune_layer(layer, pruning_rate):\n",
    "#     \"\"\"Prunes the given layer by setting a percentage of its weights to zero.\"\"\"\n",
    "#     print(f\"Pruning layer with pruning rate: {pruning_rate}\")\n",
    "#     with torch.no_grad():\n",
    "#         weight = layer.weight.data.abs().clone()\n",
    "#         threshold = torch.quantile(weight, pruning_rate)\n",
    "#         mask = weight.ge(threshold).float()\n",
    "#         layer.weight.data.mul_(mask)\n",
    "#         return mask.clone().detach()  # Return a copy of the mask tensor"
   ]
  },
  {
   "cell_type": "code",
   "execution_count": 14,
   "id": "4af4696f-8508-4e30-8228-8aba6766f587",
   "metadata": {},
   "outputs": [],
   "source": [
    "# def prune_layer(layer, pruning_rate):\n",
    "#     \"\"\"Prunes the given layer by setting a percentage of its weights to zero.\"\"\"\n",
    "#     print(f\"Pruning layer with pruning rate: {pruning_rate}\")\n",
    "#     with torch.no_grad():\n",
    "#         weight = layer.weight.data.abs().clone()\n",
    "#         threshold = torch.quantile(weight, pruning_rate)\n",
    "#         mask = weight.ge(threshold).float()\n",
    "#         layer.weight.data.mul_(mask)\n",
    "#         return torch.tensor(mask, dtype=torch.float32)  # Convert mask to tensor explicitly"
   ]
  },
  {
   "cell_type": "code",
   "execution_count": 15,
   "id": "34138942-0c92-465f-9d23-096467abd528",
   "metadata": {},
   "outputs": [],
   "source": [
    "def prune_layer(layer, pruning_rate):\n",
    "    \"\"\"Prunes the given layer by setting a percentage of its weights to zero.\"\"\"\n",
    "    print(f\"Pruning layer with pruning rate: {pruning_rate}\")\n",
    "    with torch.no_grad():\n",
    "        weight = layer.weight.data.abs().clone()\n",
    "        threshold = torch.quantile(weight, pruning_rate)\n",
    "        mask = weight.ge(threshold).float()\n",
    "        layer.weight.data.mul_(mask)\n",
    "        # print(f\"Mask type: {type(mask)}\")\n",
    "        # print(f\"Mask value: {mask}\")\n",
    "        return mask"
   ]
  },
  {
   "cell_type": "code",
   "execution_count": 16,
   "id": "2a96a888-53e2-459d-9a2a-b4ec5ff69b7f",
   "metadata": {},
   "outputs": [],
   "source": [
    "# def fine_tune_model(model, train_loader, criterion, optimizer, num_epochs):\n",
    "#     \"\"\"Fine-tunes the model after pruning.\"\"\"\n",
    "#     print(\"Starting fine-tuning...\")\n",
    "#     for epoch in range(num_epochs):\n",
    "#         print(f\"Epoch {epoch + 1}/{num_epochs}\")\n",
    "#         running_loss = 0.0\n",
    "#         train_loader_tqdm = tqdm(train_loader, desc=f'Epoch {epoch+1}/{num_epochs}')\n",
    "#         for inputs, labels in train_loader_tqdm:\n",
    "#             inputs, labels = inputs.to(device), labels.to(device)\n",
    "#             optimizer.zero_grad()\n",
    "#             outputs = model(inputs)\n",
    "#             loss = criterion(outputs, labels)\n",
    "#             loss.backward()\n",
    "#             optimizer.step()\n",
    "#             running_loss += loss.item()\n",
    "#             train_loader_tqdm.set_postfix(loss=running_loss/len(train_loader))\n",
    "#         epoch_loss = running_loss / len(train_loader)\n",
    "#         print(f'Epoch [{epoch+1}/{num_epochs}], Loss: {epoch_loss}')"
   ]
  },
  {
   "cell_type": "code",
   "execution_count": 17,
   "id": "faebe170-37df-463f-a2ee-3d1557a63686",
   "metadata": {},
   "outputs": [],
   "source": [
    "pruning_rates_log = []\n",
    "\n",
    "def fine_tune_model(model, train_loader, criterion, optimizer, num_epochs):\n",
    "    \"\"\"Fine-tunes the model after pruning.\"\"\"\n",
    "    print(\"Starting fine-tuning...\")\n",
    "    for epoch in range(num_epochs):\n",
    "        print(f\"Epoch {epoch + 1}/{num_epochs}\")\n",
    "        running_loss = 0.0\n",
    "        train_loader_tqdm = tqdm(train_loader, desc=f'Epoch {epoch+1}/{num_epochs}')\n",
    "        for inputs, labels in train_loader_tqdm:\n",
    "            inputs, labels = inputs.to(device), labels.to(device)\n",
    "            optimizer.zero_grad()\n",
    "            outputs = model(inputs)\n",
    "            loss = criterion(outputs, labels)\n",
    "            loss.backward()\n",
    "            optimizer.step()\n",
    "            running_loss += loss.item()\n",
    "            train_loader_tqdm.set_postfix(loss=running_loss/len(train_loader))\n",
    "        epoch_loss = running_loss / len(train_loader)\n",
    "        print(f'Epoch [{epoch+1}/{num_epochs}], Loss: {epoch_loss}')\n",
    "\n",
    "        # # Append loss to log\n",
    "        # loss_log.append(epoch_loss)\n",
    "        \n",
    "        # # Log pruning rates after each epoch\n",
    "        # # epoch_pruning_rates = {name: float(mask.sum()) / float(mask.numel()) for name, mask in pruning_rates.items()}\n",
    "        # # pruning_rates_log.append(epoch_pruning_rates)\n",
    "\n",
    "        # # Log pruning rates after each epoch\n",
    "        # epoch_pruning_rates = {}\n",
    "        # for name, mask in pruning_rates.items():\n",
    "        #     print(f\"Mask type for {name}: {type(mask)}\")\n",
    "        #     epoch_pruning_rates[name] = float(torch.tensor(mask).sum()) / float(mask.numel())\n",
    "        # pruning_rates_log.append(epoch_pruning_rates)\n",
    "        \n",
    "        # # Append loss to log\n",
    "        # loss_log.append(epoch_loss)\n",
    "        \n",
    "        # # Log pruning rates after each epoch\n",
    "        # pruning_rates_log.append({name: float(mask.sum()) / float(mask.numel()) for name, mask in pruning_rates.items()})"
   ]
  },
  {
   "cell_type": "code",
   "execution_count": 18,
   "id": "e85f4afd-e9fe-422c-bc60-98a6ae0ad188",
   "metadata": {},
   "outputs": [],
   "source": [
    "def layer_sensitivity_analysis(model, data_loader, criterion):\n",
    "    \"\"\"Performs sensitivity analysis for each layer.\"\"\"\n",
    "    print(\"Starting layer sensitivity analysis...\")\n",
    "    sensitivities = {}\n",
    "    for name, layer in model.named_modules():\n",
    "        if isinstance(layer, nn.Conv2d) or isinstance(layer, nn.Linear):\n",
    "            print(f\"Analyzing layer: {name}\")\n",
    "            initial_loss = evaluate_model(model, data_loader, criterion)\n",
    "            mask = prune_layer(layer, 0.1)  # Prune 10% as a test\n",
    "            new_loss = evaluate_model(model, data_loader, criterion)\n",
    "            sensitivities[name] = new_loss - initial_loss\n",
    "            layer.weight.data.mul_(mask)  # Revert pruning\n",
    "            print(f\"Sensitivity for layer {name}: {sensitivities[name]}\")\n",
    "    return sensitivities"
   ]
  },
  {
   "cell_type": "code",
   "execution_count": 19,
   "id": "af6ea99f-1692-442e-adcf-d168d2c57aa8",
   "metadata": {},
   "outputs": [],
   "source": [
    "def evaluate_model(model, data_loader, criterion):\n",
    "    \"\"\"Evaluates the model performance.\"\"\"\n",
    "    model.eval()\n",
    "    total_loss = 0.0\n",
    "    total_correct = 0\n",
    "    total_samples = 0\n",
    "    with torch.no_grad():\n",
    "        for inputs, labels in tqdm(data_loader, desc=\"Evaluating model\", leave=False):\n",
    "            inputs, labels = inputs.to(device), labels.to(device)\n",
    "            outputs = model(inputs)\n",
    "            loss = criterion(outputs, labels)\n",
    "            total_loss += loss.item()\n",
    "\n",
    "            # Calculate accuracy\n",
    "            _, predicted = torch.max(outputs, 1)\n",
    "            total_correct += (predicted == labels).sum().item()\n",
    "            total_samples += labels.size(0)\n",
    "\n",
    "    average_loss = total_loss / len(data_loader)\n",
    "    accuracy = 100 * total_correct / total_samples\n",
    "    print(f\"Validation Loss: {average_loss:.4f}, Validation Accuracy: {accuracy:.2f}%\")\n",
    "    return average_loss"
   ]
  },
  {
   "cell_type": "code",
   "execution_count": 20,
   "id": "e0ca64d6-5984-4c24-8f1a-6040c247c1d9",
   "metadata": {},
   "outputs": [
    {
     "name": "stdout",
     "output_type": "stream",
     "text": [
      "Performing sensitivity analysis...\n",
      "Starting layer sensitivity analysis...\n",
      "Analyzing layer: conv1\n"
     ]
    },
    {
     "name": "stderr",
     "output_type": "stream",
     "text": [
      "                                                                                                                       \r"
     ]
    },
    {
     "name": "stdout",
     "output_type": "stream",
     "text": [
      "Validation Loss: 4.7979, Validation Accuracy: 1.32%\n",
      "Pruning layer with pruning rate: 0.1\n"
     ]
    },
    {
     "name": "stderr",
     "output_type": "stream",
     "text": [
      "                                                                                                                       \r"
     ]
    },
    {
     "name": "stdout",
     "output_type": "stream",
     "text": [
      "Validation Loss: 4.7979, Validation Accuracy: 1.32%\n",
      "Sensitivity for layer conv1: 0.0\n",
      "Analyzing layer: layer1.0.conv1\n"
     ]
    },
    {
     "name": "stderr",
     "output_type": "stream",
     "text": [
      "                                                                                                                       \r"
     ]
    },
    {
     "name": "stdout",
     "output_type": "stream",
     "text": [
      "Validation Loss: 4.7979, Validation Accuracy: 1.32%\n",
      "Pruning layer with pruning rate: 0.1\n"
     ]
    },
    {
     "name": "stderr",
     "output_type": "stream",
     "text": [
      "                                                                                                                       \r"
     ]
    },
    {
     "name": "stdout",
     "output_type": "stream",
     "text": [
      "Validation Loss: 4.7979, Validation Accuracy: 1.32%\n",
      "Sensitivity for layer layer1.0.conv1: 0.0\n",
      "Analyzing layer: layer1.0.conv2\n"
     ]
    },
    {
     "name": "stderr",
     "output_type": "stream",
     "text": [
      "                                                                                                                       \r"
     ]
    },
    {
     "name": "stdout",
     "output_type": "stream",
     "text": [
      "Validation Loss: 4.7979, Validation Accuracy: 1.32%\n",
      "Pruning layer with pruning rate: 0.1\n"
     ]
    },
    {
     "name": "stderr",
     "output_type": "stream",
     "text": [
      "                                                                                                                       \r"
     ]
    },
    {
     "name": "stdout",
     "output_type": "stream",
     "text": [
      "Validation Loss: 4.7979, Validation Accuracy: 1.25%\n",
      "Sensitivity for layer layer1.0.conv2: 3.147125244140625e-05\n",
      "Analyzing layer: layer1.1.conv1\n"
     ]
    },
    {
     "name": "stderr",
     "output_type": "stream",
     "text": [
      "                                                                                                                       \r"
     ]
    },
    {
     "name": "stdout",
     "output_type": "stream",
     "text": [
      "Validation Loss: 4.7979, Validation Accuracy: 1.25%\n",
      "Pruning layer with pruning rate: 0.1\n"
     ]
    },
    {
     "name": "stderr",
     "output_type": "stream",
     "text": [
      "                                                                                                                       \r"
     ]
    },
    {
     "name": "stdout",
     "output_type": "stream",
     "text": [
      "Validation Loss: 4.7980, Validation Accuracy: 1.32%\n",
      "Sensitivity for layer layer1.1.conv1: 6.437301635742188e-05\n",
      "Analyzing layer: layer1.1.conv2\n"
     ]
    },
    {
     "name": "stderr",
     "output_type": "stream",
     "text": [
      "                                                                                                                       \r"
     ]
    },
    {
     "name": "stdout",
     "output_type": "stream",
     "text": [
      "Validation Loss: 4.7980, Validation Accuracy: 1.32%\n",
      "Pruning layer with pruning rate: 0.1\n"
     ]
    },
    {
     "name": "stderr",
     "output_type": "stream",
     "text": [
      "                                                                                                                       \r"
     ]
    },
    {
     "name": "stdout",
     "output_type": "stream",
     "text": [
      "Validation Loss: 4.7979, Validation Accuracy: 1.32%\n",
      "Sensitivity for layer layer1.1.conv2: -7.152557373046875e-05\n",
      "Analyzing layer: layer2.0.conv1\n"
     ]
    },
    {
     "name": "stderr",
     "output_type": "stream",
     "text": [
      "                                                                                                                       \r"
     ]
    },
    {
     "name": "stdout",
     "output_type": "stream",
     "text": [
      "Validation Loss: 4.7979, Validation Accuracy: 1.32%\n",
      "Pruning layer with pruning rate: 0.1\n"
     ]
    },
    {
     "name": "stderr",
     "output_type": "stream",
     "text": [
      "                                                                                                                       \r"
     ]
    },
    {
     "name": "stdout",
     "output_type": "stream",
     "text": [
      "Validation Loss: 4.7979, Validation Accuracy: 1.25%\n",
      "Sensitivity for layer layer2.0.conv1: -7.963180541992188e-05\n",
      "Analyzing layer: layer2.0.conv2\n"
     ]
    },
    {
     "name": "stderr",
     "output_type": "stream",
     "text": [
      "                                                                                                                       \r"
     ]
    },
    {
     "name": "stdout",
     "output_type": "stream",
     "text": [
      "Validation Loss: 4.7979, Validation Accuracy: 1.25%\n",
      "Pruning layer with pruning rate: 0.1\n"
     ]
    },
    {
     "name": "stderr",
     "output_type": "stream",
     "text": [
      "                                                                                                                       \r"
     ]
    },
    {
     "name": "stdout",
     "output_type": "stream",
     "text": [
      "Validation Loss: 4.7975, Validation Accuracy: 1.25%\n",
      "Sensitivity for layer layer2.0.conv2: -0.0003376007080078125\n",
      "Analyzing layer: layer2.0.downsample.0\n"
     ]
    },
    {
     "name": "stderr",
     "output_type": "stream",
     "text": [
      "                                                                                                                       \r"
     ]
    },
    {
     "name": "stdout",
     "output_type": "stream",
     "text": [
      "Validation Loss: 4.7975, Validation Accuracy: 1.25%\n",
      "Pruning layer with pruning rate: 0.1\n"
     ]
    },
    {
     "name": "stderr",
     "output_type": "stream",
     "text": [
      "                                                                                                                       \r"
     ]
    },
    {
     "name": "stdout",
     "output_type": "stream",
     "text": [
      "Validation Loss: 4.7976, Validation Accuracy: 1.25%\n",
      "Sensitivity for layer layer2.0.downsample.0: 0.0001010894775390625\n",
      "Analyzing layer: layer2.1.conv1\n"
     ]
    },
    {
     "name": "stderr",
     "output_type": "stream",
     "text": [
      "                                                                                                                       \r"
     ]
    },
    {
     "name": "stdout",
     "output_type": "stream",
     "text": [
      "Validation Loss: 4.7976, Validation Accuracy: 1.25%\n",
      "Pruning layer with pruning rate: 0.1\n"
     ]
    },
    {
     "name": "stderr",
     "output_type": "stream",
     "text": [
      "                                                                                                                       \r"
     ]
    },
    {
     "name": "stdout",
     "output_type": "stream",
     "text": [
      "Validation Loss: 4.7974, Validation Accuracy: 1.25%\n",
      "Sensitivity for layer layer2.1.conv1: -0.00021266937255859375\n",
      "Analyzing layer: layer2.1.conv2\n"
     ]
    },
    {
     "name": "stderr",
     "output_type": "stream",
     "text": [
      "                                                                                                                       \r"
     ]
    },
    {
     "name": "stdout",
     "output_type": "stream",
     "text": [
      "Validation Loss: 4.7974, Validation Accuracy: 1.25%\n",
      "Pruning layer with pruning rate: 0.1\n"
     ]
    },
    {
     "name": "stderr",
     "output_type": "stream",
     "text": [
      "                                                                                                                       \r"
     ]
    },
    {
     "name": "stdout",
     "output_type": "stream",
     "text": [
      "Validation Loss: 4.7972, Validation Accuracy: 1.25%\n",
      "Sensitivity for layer layer2.1.conv2: -0.00023746490478515625\n",
      "Analyzing layer: layer3.0.conv1\n"
     ]
    },
    {
     "name": "stderr",
     "output_type": "stream",
     "text": [
      "                                                                                                                       \r"
     ]
    },
    {
     "name": "stdout",
     "output_type": "stream",
     "text": [
      "Validation Loss: 4.7972, Validation Accuracy: 1.25%\n",
      "Pruning layer with pruning rate: 0.1\n"
     ]
    },
    {
     "name": "stderr",
     "output_type": "stream",
     "text": [
      "                                                                                                                       \r"
     ]
    },
    {
     "name": "stdout",
     "output_type": "stream",
     "text": [
      "Validation Loss: 4.7976, Validation Accuracy: 1.25%\n",
      "Sensitivity for layer layer3.0.conv1: 0.0004239082336425781\n",
      "Analyzing layer: layer3.0.conv2\n"
     ]
    },
    {
     "name": "stderr",
     "output_type": "stream",
     "text": [
      "                                                                                                                       \r"
     ]
    },
    {
     "name": "stdout",
     "output_type": "stream",
     "text": [
      "Validation Loss: 4.7976, Validation Accuracy: 1.25%\n",
      "Pruning layer with pruning rate: 0.1\n"
     ]
    },
    {
     "name": "stderr",
     "output_type": "stream",
     "text": [
      "                                                                                                                       \r"
     ]
    },
    {
     "name": "stdout",
     "output_type": "stream",
     "text": [
      "Validation Loss: 4.7976, Validation Accuracy: 1.25%\n",
      "Sensitivity for layer layer3.0.conv2: 3.0517578125e-05\n",
      "Analyzing layer: layer3.0.downsample.0\n"
     ]
    },
    {
     "name": "stderr",
     "output_type": "stream",
     "text": [
      "                                                                                                                       \r"
     ]
    },
    {
     "name": "stdout",
     "output_type": "stream",
     "text": [
      "Validation Loss: 4.7976, Validation Accuracy: 1.25%\n",
      "Pruning layer with pruning rate: 0.1\n"
     ]
    },
    {
     "name": "stderr",
     "output_type": "stream",
     "text": [
      "                                                                                                                       \r"
     ]
    },
    {
     "name": "stdout",
     "output_type": "stream",
     "text": [
      "Validation Loss: 4.7977, Validation Accuracy: 1.25%\n",
      "Sensitivity for layer layer3.0.downsample.0: 0.00010538101196289062\n",
      "Analyzing layer: layer3.1.conv1\n"
     ]
    },
    {
     "name": "stderr",
     "output_type": "stream",
     "text": [
      "                                                                                                                       \r"
     ]
    },
    {
     "name": "stdout",
     "output_type": "stream",
     "text": [
      "Validation Loss: 4.7977, Validation Accuracy: 1.25%\n",
      "Pruning layer with pruning rate: 0.1\n"
     ]
    },
    {
     "name": "stderr",
     "output_type": "stream",
     "text": [
      "                                                                                                                       \r"
     ]
    },
    {
     "name": "stdout",
     "output_type": "stream",
     "text": [
      "Validation Loss: 4.7976, Validation Accuracy: 1.25%\n",
      "Sensitivity for layer layer3.1.conv1: -0.00011777877807617188\n",
      "Analyzing layer: layer3.1.conv2\n"
     ]
    },
    {
     "name": "stderr",
     "output_type": "stream",
     "text": [
      "                                                                                                                       \r"
     ]
    },
    {
     "name": "stdout",
     "output_type": "stream",
     "text": [
      "Validation Loss: 4.7976, Validation Accuracy: 1.25%\n",
      "Pruning layer with pruning rate: 0.1\n"
     ]
    },
    {
     "name": "stderr",
     "output_type": "stream",
     "text": [
      "                                                                                                                       \r"
     ]
    },
    {
     "name": "stdout",
     "output_type": "stream",
     "text": [
      "Validation Loss: 4.7978, Validation Accuracy: 1.25%\n",
      "Sensitivity for layer layer3.1.conv2: 0.000225067138671875\n",
      "Analyzing layer: layer4.0.conv1\n"
     ]
    },
    {
     "name": "stderr",
     "output_type": "stream",
     "text": [
      "                                                                                                                       \r"
     ]
    },
    {
     "name": "stdout",
     "output_type": "stream",
     "text": [
      "Validation Loss: 4.7978, Validation Accuracy: 1.25%\n",
      "Pruning layer with pruning rate: 0.1\n"
     ]
    },
    {
     "name": "stderr",
     "output_type": "stream",
     "text": [
      "                                                                                                                       \r"
     ]
    },
    {
     "name": "stdout",
     "output_type": "stream",
     "text": [
      "Validation Loss: 4.7978, Validation Accuracy: 1.25%\n",
      "Sensitivity for layer layer4.0.conv1: -5.5789947509765625e-05\n",
      "Analyzing layer: layer4.0.conv2\n"
     ]
    },
    {
     "name": "stderr",
     "output_type": "stream",
     "text": [
      "                                                                                                                       \r"
     ]
    },
    {
     "name": "stdout",
     "output_type": "stream",
     "text": [
      "Validation Loss: 4.7978, Validation Accuracy: 1.25%\n",
      "Pruning layer with pruning rate: 0.1\n"
     ]
    },
    {
     "name": "stderr",
     "output_type": "stream",
     "text": [
      "                                                                                                                       \r"
     ]
    },
    {
     "name": "stdout",
     "output_type": "stream",
     "text": [
      "Validation Loss: 4.7980, Validation Accuracy: 1.25%\n",
      "Sensitivity for layer layer4.0.conv2: 0.00017213821411132812\n",
      "Analyzing layer: layer4.0.downsample.0\n"
     ]
    },
    {
     "name": "stderr",
     "output_type": "stream",
     "text": [
      "                                                                                                                       \r"
     ]
    },
    {
     "name": "stdout",
     "output_type": "stream",
     "text": [
      "Validation Loss: 4.7980, Validation Accuracy: 1.25%\n",
      "Pruning layer with pruning rate: 0.1\n"
     ]
    },
    {
     "name": "stderr",
     "output_type": "stream",
     "text": [
      "                                                                                                                       \r"
     ]
    },
    {
     "name": "stdout",
     "output_type": "stream",
     "text": [
      "Validation Loss: 4.7975, Validation Accuracy: 1.25%\n",
      "Sensitivity for layer layer4.0.downsample.0: -0.00042247772216796875\n",
      "Analyzing layer: layer4.1.conv1\n"
     ]
    },
    {
     "name": "stderr",
     "output_type": "stream",
     "text": [
      "                                                                                                                       \r"
     ]
    },
    {
     "name": "stdout",
     "output_type": "stream",
     "text": [
      "Validation Loss: 4.7975, Validation Accuracy: 1.25%\n",
      "Pruning layer with pruning rate: 0.1\n"
     ]
    },
    {
     "name": "stderr",
     "output_type": "stream",
     "text": [
      "                                                                                                                       \r"
     ]
    },
    {
     "name": "stdout",
     "output_type": "stream",
     "text": [
      "Validation Loss: 4.7974, Validation Accuracy: 1.25%\n",
      "Sensitivity for layer layer4.1.conv1: -8.487701416015625e-05\n",
      "Analyzing layer: layer4.1.conv2\n"
     ]
    },
    {
     "name": "stderr",
     "output_type": "stream",
     "text": [
      "                                                                                                                       \r"
     ]
    },
    {
     "name": "stdout",
     "output_type": "stream",
     "text": [
      "Validation Loss: 4.7974, Validation Accuracy: 1.25%\n",
      "Pruning layer with pruning rate: 0.1\n"
     ]
    },
    {
     "name": "stderr",
     "output_type": "stream",
     "text": [
      "                                                                                                                       \r"
     ]
    },
    {
     "name": "stdout",
     "output_type": "stream",
     "text": [
      "Validation Loss: 4.7984, Validation Accuracy: 1.32%\n",
      "Sensitivity for layer layer4.1.conv2: 0.0009431838989257812\n",
      "Analyzing layer: fc\n"
     ]
    },
    {
     "name": "stderr",
     "output_type": "stream",
     "text": [
      "                                                                                                                       \r"
     ]
    },
    {
     "name": "stdout",
     "output_type": "stream",
     "text": [
      "Validation Loss: 4.7984, Validation Accuracy: 1.32%\n",
      "Pruning layer with pruning rate: 0.1\n"
     ]
    },
    {
     "name": "stderr",
     "output_type": "stream",
     "text": [
      "                                                                                                                       "
     ]
    },
    {
     "name": "stdout",
     "output_type": "stream",
     "text": [
      "Validation Loss: 4.8004, Validation Accuracy: 1.39%\n",
      "Sensitivity for layer fc: 0.0019989013671875\n"
     ]
    },
    {
     "name": "stderr",
     "output_type": "stream",
     "text": [
      "\r"
     ]
    }
   ],
   "source": [
    "print(\"Performing sensitivity analysis...\")\n",
    "# Perform sensitivity analysis\n",
    "sensitivities = layer_sensitivity_analysis(model, val_loader, criterion)"
   ]
  },
  {
   "cell_type": "code",
   "execution_count": 21,
   "id": "249b0b81-8555-45f1-a2aa-a88882cafbe4",
   "metadata": {},
   "outputs": [
    {
     "name": "stdout",
     "output_type": "stream",
     "text": [
      "Applying adaptive pruning...\n",
      "Pruning layer with pruning rate: 0.0\n",
      "Pruning layer with pruning rate: 0.0\n",
      "Pruning layer with pruning rate: 0.012709416522241479\n",
      "Pruning layer with pruning rate: 0.025996533795493933\n",
      "Pruning layer with pruning rate: 0.0\n",
      "Pruning layer with pruning rate: 0.0\n",
      "Pruning layer with pruning rate: 0.0\n",
      "Pruning layer with pruning rate: 0.04082418640477566\n",
      "Pruning layer with pruning rate: 0.0\n",
      "Pruning layer with pruning rate: 0.0\n",
      "Pruning layer with pruning rate: 0.17119198921625264\n",
      "Pruning layer with pruning rate: 0.012324282688234161\n",
      "Pruning layer with pruning rate: 0.04255728865780859\n",
      "Pruning layer with pruning rate: 0.0\n",
      "Pruning layer with pruning rate: 0.09089158482572694\n",
      "Pruning layer with pruning rate: 0.0\n",
      "Pruning layer with pruning rate: 0.06951665703832081\n",
      "Pruning layer with pruning rate: 0.0\n",
      "Pruning layer with pruning rate: 0.0\n",
      "Pruning layer with pruning rate: 0.380897361833237\n",
      "Pruning layer with pruning rate: 0.8072405160793376\n"
     ]
    }
   ],
   "source": [
    "# Determine adaptive pruning rates\n",
    "total_sensitivity = sum(sensitivities.values())\n",
    "pruning_rates = {name: max(0.0, min(1.0, sens / total_sensitivity)) for name, sens in sensitivities.items()}\n",
    "\n",
    "print(\"Applying adaptive pruning...\")\n",
    "# Apply adaptive pruning\n",
    "for name, layer in model.named_modules():\n",
    "    if name in pruning_rates:\n",
    "        prune_layer(layer, pruning_rates[name])\n"
   ]
  },
  {
   "cell_type": "code",
   "execution_count": 22,
   "id": "04716dfd-adaa-486a-ada1-e3c9cb77ecfc",
   "metadata": {},
   "outputs": [
    {
     "name": "stdout",
     "output_type": "stream",
     "text": [
      "Fine-tuning the pruned model...\n",
      "Starting fine-tuning...\n",
      "Epoch 1/5\n"
     ]
    },
    {
     "name": "stderr",
     "output_type": "stream",
     "text": [
      "Epoch 1/5: 100%|██████████████████████████████████████████████████████████████| 3/3 [00:27<00:00,  9.02s/it, loss=4.66]\n"
     ]
    },
    {
     "name": "stdout",
     "output_type": "stream",
     "text": [
      "Epoch [1/5], Loss: 4.658824284871419\n",
      "Epoch 2/5\n"
     ]
    },
    {
     "name": "stderr",
     "output_type": "stream",
     "text": [
      "Epoch 2/5: 100%|██████████████████████████████████████████████████████████████| 3/3 [00:11<00:00,  3.98s/it, loss=4.62]\n"
     ]
    },
    {
     "name": "stdout",
     "output_type": "stream",
     "text": [
      "Epoch [2/5], Loss: 4.624129931131999\n",
      "Epoch 3/5\n"
     ]
    },
    {
     "name": "stderr",
     "output_type": "stream",
     "text": [
      "Epoch 3/5: 100%|██████████████████████████████████████████████████████████████| 3/3 [00:12<00:00,  4.06s/it, loss=4.61]\n"
     ]
    },
    {
     "name": "stdout",
     "output_type": "stream",
     "text": [
      "Epoch [3/5], Loss: 4.613083521525065\n",
      "Epoch 4/5\n"
     ]
    },
    {
     "name": "stderr",
     "output_type": "stream",
     "text": [
      "Epoch 4/5: 100%|██████████████████████████████████████████████████████████████| 3/3 [00:12<00:00,  4.22s/it, loss=4.61]\n"
     ]
    },
    {
     "name": "stdout",
     "output_type": "stream",
     "text": [
      "Epoch [4/5], Loss: 4.6114433606465655\n",
      "Epoch 5/5\n"
     ]
    },
    {
     "name": "stderr",
     "output_type": "stream",
     "text": [
      "Epoch 5/5: 100%|██████████████████████████████████████████████████████████████| 3/3 [00:12<00:00,  4.24s/it, loss=4.61]"
     ]
    },
    {
     "name": "stdout",
     "output_type": "stream",
     "text": [
      "Epoch [5/5], Loss: 4.609378178914388\n"
     ]
    },
    {
     "name": "stderr",
     "output_type": "stream",
     "text": [
      "\n"
     ]
    }
   ],
   "source": [
    "print(\"Fine-tuning the pruned model...\")\n",
    "# Fine-tune the pruned model\n",
    "loss_log = []\n",
    "pruning_rates_log = []\n",
    "fine_tune_model(model, train_loader, criterion, optimizer, num_epochs=5)"
   ]
  },
  {
   "cell_type": "code",
   "execution_count": 23,
   "id": "10c3640c-3c03-4230-9462-87d2061472d7",
   "metadata": {},
   "outputs": [
    {
     "name": "stdout",
     "output_type": "stream",
     "text": [
      "Saving the pruned and fine-tuned model...\n"
     ]
    }
   ],
   "source": [
    "print(\"Saving the pruned and fine-tuned model...\")\n",
    "# Save the model\n",
    "torch.save(model.state_dict(), 'food101_Res18_pruned.pth')"
   ]
  },
  {
   "cell_type": "code",
   "execution_count": 24,
   "id": "c6874158-cfa1-4f4f-a156-2aa80de669b4",
   "metadata": {},
   "outputs": [
    {
     "name": "stdout",
     "output_type": "stream",
     "text": [
      "Evaluating the final model on the test set...\n"
     ]
    },
    {
     "name": "stderr",
     "output_type": "stream",
     "text": [
      "Testing model: 100%|█████████████████████████████████████████████████████████████████████| 2/2 [00:12<00:00,  6.08s/it]\n"
     ]
    },
    {
     "name": "stdout",
     "output_type": "stream",
     "text": [
      "Test Accuracy: 1.07%\n"
     ]
    },
    {
     "data": {
      "image/png": "[encoded data removed]",
      "text/plain": [
       "<Figure size 1200x500 with 2 Axes>"
      ]
     },
     "metadata": {},
     "output_type": "display_data"
    }
   ],
   "source": [
    "print(\"Evaluating the final model on the test set...\")\n",
    "# Evaluate the final model on the test set\n",
    "model.eval()\n",
    "correct = 0\n",
    "total = 0\n",
    "with torch.no_grad():\n",
    "    for inputs, labels in tqdm(test_loader, desc=\"Testing model\"):\n",
    "        inputs, labels = inputs.to(device), labels.to(device)\n",
    "        outputs = model(inputs)\n",
    "        _, predicted = torch.max(outputs.data, 1)\n",
    "        total += labels.size(0)\n",
    "        correct += (predicted == labels).sum().item()\n",
    "\n",
    "test_accuracy = 100 * correct / total\n",
    "print(f'Test Accuracy: {test_accuracy:.2f}%')\n",
    "\n",
    "# Plotting the loss log and pruning rates log\n",
    "plt.figure(figsize=(12, 5))\n",
    "plt.subplot(1, 2, 1)\n",
    "plt.plot(range(1, len(loss_log) + 1), loss_log, marker='o')\n",
    "plt.title('Loss During Fine-tuning')\n",
    "plt.xlabel('Epoch')\n",
    "plt.ylabel('Loss')\n",
    "plt.grid(True)\n",
    "\n",
    "plt.subplot(1, 2, 2)\n",
    "for name, rate in pruning_rates.items():\n",
    "    plt.plot(range(1, 11), [rate] * 10, label=name)\n",
    "plt.title('Pruning Rates After Fine-tuning')\n",
    "plt.xlabel('Epoch')\n",
    "plt.ylabel('Pruning Rate')\n",
    "plt.legend()\n",
    "plt.grid(True)\n",
    "plt.show()"
   ]
  },
  {
   "cell_type": "code",
   "execution_count": null,
   "id": "8a927432-f359-4d46-969a-3d3e8485f6ba",
   "metadata": {},
   "outputs": [],
   "source": []
  }
 ],
 "metadata": {
  "kernelspec": {
   "display_name": "Python 3 (ipykernel)",
   "language": "python",
   "name": "python3"
  },
  "language_info": {
   "codemirror_mode": {
    "name": "ipython",
    "version": 3
   },
   "file_extension": ".py",
   "mimetype": "text/x-python",
   "name": "python",
   "nbconvert_exporter": "python",
   "pygments_lexer": "ipython3",
   "version": "3.8.19"
  }
 },
 "nbformat": 4,
 "nbformat_minor": 5
}
