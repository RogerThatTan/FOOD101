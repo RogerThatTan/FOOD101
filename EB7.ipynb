{
 "cells": [
  {
   "cell_type": "code",
   "execution_count": 1,
   "id": "1aec4ad2",
   "metadata": {},
   "outputs": [],
   "source": [
    "import json\n",
    "import os\n",
    "import torch\n",
    "import torch.nn as nn\n",
    "import torch.optim as optim\n",
    "from sklearn.model_selection import train_test_split\n",
    "from torch.utils.data import DataLoader, Subset\n",
    "from torchvision.datasets import DatasetFolder\n",
    "from torchvision.io import read_image\n",
    "from torchvision.transforms import functional as F\n",
    "from torchvision import transforms, models\n",
    "from tqdm import tqdm\n",
    "import random\n",
    "import matplotlib.pyplot as plt\n",
    "from efficientnet_pytorch import EfficientNet\n"
   ]
  },
  {
   "cell_type": "code",
   "execution_count": 2,
   "id": "fa573721-190f-40f0-a469-679418e6b91a",
   "metadata": {},
   "outputs": [],
   "source": [
    "# Paths to JSON files and data directory\n",
    "train_json_path = 'G:/food-101.zip/food-101/meta/train.json'\n",
    "test_json_path = 'G:/food-101.zip/food-101/meta/test.json'\n",
    "data_dir = 'G:/food-101.zip/food-101/images'"
   ]
  },
  {
   "cell_type": "code",
   "execution_count": 3,
   "id": "4981d10a-b2f6-4d5e-b2a0-3383b5cd6080",
   "metadata": {},
   "outputs": [
    {
     "name": "stdout",
     "output_type": "stream",
     "text": [
      "Loading JSON files...\n"
     ]
    }
   ],
   "source": [
    "print(\"Loading JSON files...\")\n",
    "# Load JSON files\n",
    "with open(train_json_path, 'r') as f:\n",
    "    train_data = json.load(f)\n",
    "with open(test_json_path, 'r') as f:\n",
    "    test_data = json.load(f)"
   ]
  },
  {
   "cell_type": "code",
   "execution_count": 4,
   "id": "8f3eeaee-e9d7-4d9a-895a-a3448eb73550",
   "metadata": {},
   "outputs": [
    {
     "name": "stdout",
     "output_type": "stream",
     "text": [
      "Splitting train data into training and validation sets...\n"
     ]
    }
   ],
   "source": [
    "print(\"Splitting train data into training and validation sets...\")\n",
    "# Split train data into train and validation\n",
    "train_data_split = {}\n",
    "val_data_split = {}\n",
    "\n",
    "for cls, items in train_data.items():\n",
    "    train_items, val_items = train_test_split(items, test_size=0.2, random_state=42)\n",
    "    train_data_split[cls] = train_items\n",
    "    val_data_split[cls] = val_items"
   ]
  },
  {
   "cell_type": "code",
   "execution_count": 5,
   "id": "2c0bfde1-df25-4b8e-b439-03067e7e4309",
   "metadata": {},
   "outputs": [],
   "source": [
    "# Create custom dataset class\n",
    "class FoodDataset(DatasetFolder):\n",
    "    def __init__(self, data, root_dir, transform=None):\n",
    "        self.data = data\n",
    "        self.root_dir = root_dir\n",
    "        self.transform = transform\n",
    "        self.classes = list(self.data.keys())\n",
    "        self.class_to_idx = {cls: idx for idx, cls in enumerate(self.classes)}\n",
    "        self.samples = [(os.path.join(self.root_dir, item + \".jpg\"), self.class_to_idx[cls])\n",
    "                        for cls, items in self.data.items() for item in items]\n",
    "\n",
    "    def __len__(self):\n",
    "        return len(self.samples)\n",
    "\n",
    "    def __getitem__(self, idx):\n",
    "        img_path, label = self.samples[idx]\n",
    "        image = read_image(img_path)\n",
    "        if image.shape[0] == 1:  # Check if the image has 1 channel\n",
    "            image = image.repeat(3, 1, 1)  # Convert 1-channel image to 3-channel\n",
    "        if self.transform:\n",
    "            image = F.to_pil_image(image)\n",
    "            image = self.transform(image)\n",
    "        return image, label"
   ]
  },
  {
   "cell_type": "code",
   "execution_count": 6,
   "id": "813d7667-3c92-4242-85ca-23dda7967818",
   "metadata": {},
   "outputs": [],
   "source": [
    "# Define transformations\n",
    "transform = transforms.Compose([\n",
    "    transforms.Resize((32, 32)),\n",
    "    transforms.ToTensor(),\n",
    "    transforms.Normalize(mean=[0.485, 0.456, 0.406], std=[0.229, 0.224, 0.225])\n",
    "])"
   ]
  },
  {
   "cell_type": "code",
   "execution_count": 7,
   "id": "9b7e9bb4-a991-4e27-b18c-f582bc626c4c",
   "metadata": {},
   "outputs": [
    {
     "name": "stdout",
     "output_type": "stream",
     "text": [
      "Initializing datasets and dataloaders...\n"
     ]
    }
   ],
   "source": [
    "print(\"Initializing datasets and dataloaders...\")\n",
    "# Initialize datasets and dataloaders\n",
    "train_dataset = FoodDataset(data=train_data_split, root_dir=data_dir, transform=transform)\n",
    "val_dataset = FoodDataset(data=val_data_split, root_dir=data_dir, transform=transform)\n",
    "test_dataset = FoodDataset(data=test_data, root_dir=data_dir, transform=transform)"
   ]
  },
  {
   "cell_type": "code",
   "execution_count": 8,
   "id": "a96fbf19-1e76-4ee2-9663-63055ff5d0b5",
   "metadata": {},
   "outputs": [
    {
     "name": "stdout",
     "output_type": "stream",
     "text": [
      "Number of training images: 12120\n",
      "Number of validation images: 3030\n",
      "Number of testing images: 5050\n"
     ]
    }
   ],
   "source": [
    "# Use a small subset of the dataset for initial testing\n",
    "def get_subset(dataset, fraction=0.2):\n",
    "    num_samples = int(len(dataset) * fraction)\n",
    "    subset_indices = random.sample(range(len(dataset)), num_samples)\n",
    "    return Subset(dataset, subset_indices)\n",
    "\n",
    "train_subset = get_subset(train_dataset, fraction=0.2)\n",
    "val_subset = get_subset(val_dataset, fraction=0.2)\n",
    "test_subset = get_subset(test_dataset, fraction=0.2)\n",
    "\n",
    "print(f\"Number of training images: {len(train_subset)}\")\n",
    "print(f\"Number of validation images: {len(val_subset)}\")\n",
    "print(f\"Number of testing images: {len(test_subset)}\")"
   ]
  },
  {
   "cell_type": "code",
   "execution_count": 9,
   "id": "a23a99b7-2dda-4e5d-ab0d-81c2e9f6d2ff",
   "metadata": {},
   "outputs": [],
   "source": [
    "batch_size = 2048\n",
    "train_loader = DataLoader(train_subset, batch_size=batch_size, shuffle=True)\n",
    "val_loader = DataLoader(val_subset, batch_size=batch_size, shuffle=False)\n",
    "test_loader = DataLoader(test_subset, batch_size=batch_size, shuffle=False)"
   ]
  },
  {
   "cell_type": "code",
   "execution_count": 11,
   "id": "ff446bf3-53b8-4769-b63c-a1a85c9e08ea",
   "metadata": {},
   "outputs": [
    {
     "name": "stdout",
     "output_type": "stream",
     "text": [
      "Using device: cuda\n",
      "Loading pre-trained EfficientNet B7 model...\n",
      "Loaded pretrained weights for efficientnet-b7\n"
     ]
    }
   ],
   "source": [
    "# Check for GPU\n",
    "device = torch.device(\"cuda\" if torch.cuda.is_available() else \"cpu\")\n",
    "print(f\"Using device: {device}\")\n",
    "\n",
    "# print(\"Loading pre-trained ResNet18 model...\")\n",
    "# model = models.resnet18(pretrained=True)\n",
    "print(\"Loading pre-trained EfficientNet B7 model...\")\n",
    "model = EfficientNet.from_pretrained('efficientnet-b7', num_classes=101)\n",
    "# num_ftrs = model.fc.in_features\n",
    "num_ftrs = model._fc.in_features  # or model._classifier.in_features\n",
    "\n",
    "model.fc = nn.Linear(num_ftrs, 101)  # 101 classes\n",
    "model = model.to(device)"
   ]
  },
  {
   "cell_type": "code",
   "execution_count": 12,
   "id": "838a37cb-21df-4f31-8a62-2c7545058e41",
   "metadata": {},
   "outputs": [],
   "source": [
    "# Loss and optimizer\n",
    "criterion = nn.CrossEntropyLoss()\n",
    "optimizer = optim.Adam(model.parameters(), lr=0.001)"
   ]
  },
  {
   "cell_type": "code",
   "execution_count": null,
   "id": "34c8713d-bb48-4a4c-8b5f-b0e8b6c7c5d5",
   "metadata": {},
   "outputs": [],
   "source": [
    "# def prune_layer(layer, pruning_rate):\n",
    "#     \"\"\"Prunes the given layer by setting a percentage of its weights to zero.\"\"\"\n",
    "#     print(f\"Pruning layer with pruning rate: {pruning_rate}\")\n",
    "#     with torch.no_grad():\n",
    "#         weight = layer.weight.data.abs().clone()\n",
    "#         threshold = torch.quantile(weight, pruning_rate)\n",
    "#         mask = weight.ge(threshold).float()\n",
    "#         layer.weight.data.mul_(mask)\n",
    "#         return mask"
   ]
  },
  {
   "cell_type": "code",
   "execution_count": null,
   "id": "f23458c8-9f3b-44e3-ac53-8897b8ef9a81",
   "metadata": {},
   "outputs": [],
   "source": [
    "# def prune_layer(layer, pruning_rate):\n",
    "#     \"\"\"Prunes the given layer by setting a percentage of its weights to zero.\"\"\"\n",
    "#     print(f\"Pruning layer with pruning rate: {pruning_rate}\")\n",
    "#     with torch.no_grad():\n",
    "#         weight = layer.weight.data.abs().clone()\n",
    "#         threshold = torch.quantile(weight, pruning_rate)\n",
    "#         mask = weight.ge(threshold).float()\n",
    "#         layer.weight.data.mul_(mask)\n",
    "#         return mask.clone().detach()  # Return a copy of the mask tensor"
   ]
  },
  {
   "cell_type": "code",
   "execution_count": null,
   "id": "4af4696f-8508-4e30-8228-8aba6766f587",
   "metadata": {},
   "outputs": [],
   "source": [
    "# def prune_layer(layer, pruning_rate):\n",
    "#     \"\"\"Prunes the given layer by setting a percentage of its weights to zero.\"\"\"\n",
    "#     print(f\"Pruning layer with pruning rate: {pruning_rate}\")\n",
    "#     with torch.no_grad():\n",
    "#         weight = layer.weight.data.abs().clone()\n",
    "#         threshold = torch.quantile(weight, pruning_rate)\n",
    "#         mask = weight.ge(threshold).float()\n",
    "#         layer.weight.data.mul_(mask)\n",
    "#         return torch.tensor(mask, dtype=torch.float32)  # Convert mask to tensor explicitly"
   ]
  },
  {
   "cell_type": "code",
   "execution_count": 13,
   "id": "34138942-0c92-465f-9d23-096467abd528",
   "metadata": {},
   "outputs": [],
   "source": [
    "def prune_layer(layer, pruning_rate):\n",
    "    \"\"\"Prunes the given layer by setting a percentage of its weights to zero.\"\"\"\n",
    "    print(f\"Pruning layer with pruning rate: {pruning_rate}\")\n",
    "    with torch.no_grad():\n",
    "        weight = layer.weight.data.abs().clone()\n",
    "        threshold = torch.quantile(weight, pruning_rate)\n",
    "        mask = weight.ge(threshold).float()\n",
    "        layer.weight.data.mul_(mask)\n",
    "        # print(f\"Mask type: {type(mask)}\")\n",
    "        # print(f\"Mask value: {mask}\")\n",
    "        return mask\n"
   ]
  },
  {
   "cell_type": "code",
   "execution_count": null,
   "id": "2a96a888-53e2-459d-9a2a-b4ec5ff69b7f",
   "metadata": {},
   "outputs": [],
   "source": [
    "# def fine_tune_model(model, train_loader, criterion, optimizer, num_epochs):\n",
    "#     \"\"\"Fine-tunes the model after pruning.\"\"\"\n",
    "#     print(\"Starting fine-tuning...\")\n",
    "#     for epoch in range(num_epochs):\n",
    "#         print(f\"Epoch {epoch + 1}/{num_epochs}\")\n",
    "#         running_loss = 0.0\n",
    "#         train_loader_tqdm = tqdm(train_loader, desc=f'Epoch {epoch+1}/{num_epochs}')\n",
    "#         for inputs, labels in train_loader_tqdm:\n",
    "#             inputs, labels = inputs.to(device), labels.to(device)\n",
    "#             optimizer.zero_grad()\n",
    "#             outputs = model(inputs)\n",
    "#             loss = criterion(outputs, labels)\n",
    "#             loss.backward()\n",
    "#             optimizer.step()\n",
    "#             running_loss += loss.item()\n",
    "#             train_loader_tqdm.set_postfix(loss=running_loss/len(train_loader))\n",
    "#         epoch_loss = running_loss / len(train_loader)\n",
    "#         print(f'Epoch [{epoch+1}/{num_epochs}], Loss: {epoch_loss}')"
   ]
  },
  {
   "cell_type": "code",
   "execution_count": 14,
   "id": "faebe170-37df-463f-a2ee-3d1557a63686",
   "metadata": {},
   "outputs": [],
   "source": [
    "pruning_rates_log = []\n",
    "\n",
    "def fine_tune_model(model, train_loader, criterion, optimizer, num_epochs):\n",
    "    \"\"\"Fine-tunes the model after pruning.\"\"\"\n",
    "    print(\"Starting fine-tuning...\")\n",
    "    for epoch in range(num_epochs):\n",
    "        print(f\"Epoch {epoch + 1}/{num_epochs}\")\n",
    "        running_loss = 0.0\n",
    "        train_loader_tqdm = tqdm(train_loader, desc=f'Epoch {epoch+1}/{num_epochs}')\n",
    "        for inputs, labels in train_loader_tqdm:\n",
    "            inputs, labels = inputs.to(device), labels.to(device)\n",
    "            optimizer.zero_grad()\n",
    "            outputs = model(inputs)\n",
    "            loss = criterion(outputs, labels)\n",
    "            loss.backward()\n",
    "            optimizer.step()\n",
    "            running_loss += loss.item()\n",
    "            train_loader_tqdm.set_postfix(loss=running_loss/len(train_loader))\n",
    "        epoch_loss = running_loss / len(train_loader)\n",
    "        print(f'Epoch [{epoch+1}/{num_epochs}], Loss: {epoch_loss}')"
   ]
  },
  {
   "cell_type": "code",
   "execution_count": 15,
   "id": "e85f4afd-e9fe-422c-bc60-98a6ae0ad188",
   "metadata": {},
   "outputs": [],
   "source": [
    "def layer_sensitivity_analysis(model, data_loader, criterion):\n",
    "    \"\"\"Performs sensitivity analysis for each layer.\"\"\"\n",
    "    print(\"Starting layer sensitivity analysis...\")\n",
    "    sensitivities = {}\n",
    "    for name, layer in model.named_modules():\n",
    "        if isinstance(layer, nn.Conv2d) or isinstance(layer, nn.Linear):\n",
    "            print(f\"Analyzing layer: {name}\")\n",
    "            initial_loss = evaluate_model(model, data_loader, criterion)\n",
    "            mask = prune_layer(layer, 0.1)  # Prune 10% as a test\n",
    "            new_loss = evaluate_model(model, data_loader, criterion)\n",
    "            sensitivities[name] = new_loss - initial_loss\n",
    "            layer.weight.data.mul_(mask)  # Revert pruning\n",
    "            print(f\"Sensitivity for layer {name}: {sensitivities[name]}\")\n",
    "    return sensitivities"
   ]
  },
  {
   "cell_type": "code",
   "execution_count": 16,
   "id": "af6ea99f-1692-442e-adcf-d168d2c57aa8",
   "metadata": {},
   "outputs": [],
   "source": [
    "def evaluate_model(model, data_loader, criterion):\n",
    "    \"\"\"Evaluates the model performance.\"\"\"\n",
    "    model.eval()\n",
    "    total_loss = 0.0\n",
    "    total_correct = 0\n",
    "    total_samples = 0\n",
    "    with torch.no_grad():\n",
    "        for inputs, labels in tqdm(data_loader, desc=\"Evaluating model\", leave=False):\n",
    "            inputs, labels = inputs.to(device), labels.to(device)\n",
    "            outputs = model(inputs)\n",
    "            loss = criterion(outputs, labels)\n",
    "            total_loss += loss.item()\n",
    "\n",
    "            # Calculate accuracy\n",
    "            _, predicted = torch.max(outputs, 1)\n",
    "            total_correct += (predicted == labels).sum().item()\n",
    "            total_samples += labels.size(0)\n",
    "\n",
    "    average_loss = total_loss / len(data_loader)\n",
    "    accuracy = 100 * total_correct / total_samples\n",
    "    print(f\"Validation Loss: {average_loss:.4f}, Validation Accuracy: {accuracy:.2f}%\")\n",
    "    return average_loss"
   ]
  },
  {
   "cell_type": "code",
   "execution_count": 17,
   "id": "e0ca64d6-5984-4c24-8f1a-6040c247c1d9",
   "metadata": {},
   "outputs": [
    {
     "name": "stdout",
     "output_type": "stream",
     "text": [
      "Performing sensitivity analysis...\n",
      "Starting layer sensitivity analysis...\n",
      "Analyzing layer: _conv_stem\n"
     ]
    },
    {
     "name": "stderr",
     "output_type": "stream",
     "text": [
      "                                                                                                                       \r"
     ]
    },
    {
     "name": "stdout",
     "output_type": "stream",
     "text": [
      "Validation Loss: 5.7688, Validation Accuracy: 0.83%\n",
      "Pruning layer with pruning rate: 0.1\n"
     ]
    },
    {
     "name": "stderr",
     "output_type": "stream",
     "text": [
      "                                                                                                                       \r"
     ]
    },
    {
     "name": "stdout",
     "output_type": "stream",
     "text": [
      "Validation Loss: 5.7688, Validation Accuracy: 0.83%\n",
      "Sensitivity for layer _conv_stem: 4.0531158447265625e-06\n",
      "Analyzing layer: _blocks.0._depthwise_conv\n"
     ]
    },
    {
     "name": "stderr",
     "output_type": "stream",
     "text": [
      "                                                                                                                       \r"
     ]
    },
    {
     "name": "stdout",
     "output_type": "stream",
     "text": [
      "Validation Loss: 5.7688, Validation Accuracy: 0.83%\n",
      "Pruning layer with pruning rate: 0.1\n"
     ]
    },
    {
     "name": "stderr",
     "output_type": "stream",
     "text": [
      "                                                                                                                       \r"
     ]
    },
    {
     "name": "stdout",
     "output_type": "stream",
     "text": [
      "Validation Loss: 5.7688, Validation Accuracy: 0.83%\n",
      "Sensitivity for layer _blocks.0._depthwise_conv: 9.059906005859375e-06\n",
      "Analyzing layer: _blocks.0._se_reduce\n"
     ]
    },
    {
     "name": "stderr",
     "output_type": "stream",
     "text": [
      "                                                                                                                       \r"
     ]
    },
    {
     "name": "stdout",
     "output_type": "stream",
     "text": [
      "Validation Loss: 5.7688, Validation Accuracy: 0.83%\n",
      "Pruning layer with pruning rate: 0.1\n"
     ]
    },
    {
     "name": "stderr",
     "output_type": "stream",
     "text": [
      "                                                                                                                       \r"
     ]
    },
    {
     "name": "stdout",
     "output_type": "stream",
     "text": [
      "Validation Loss: 5.7688, Validation Accuracy: 0.83%\n",
      "Sensitivity for layer _blocks.0._se_reduce: -5.9604644775390625e-06\n",
      "Analyzing layer: _blocks.0._se_expand\n"
     ]
    },
    {
     "name": "stderr",
     "output_type": "stream",
     "text": [
      "                                                                                                                       \r"
     ]
    },
    {
     "name": "stdout",
     "output_type": "stream",
     "text": [
      "Validation Loss: 5.7688, Validation Accuracy: 0.83%\n",
      "Pruning layer with pruning rate: 0.1\n"
     ]
    },
    {
     "name": "stderr",
     "output_type": "stream",
     "text": [
      "                                                                                                                       \r"
     ]
    },
    {
     "name": "stdout",
     "output_type": "stream",
     "text": [
      "Validation Loss: 5.7688, Validation Accuracy: 0.83%\n",
      "Sensitivity for layer _blocks.0._se_expand: -6.4373016357421875e-06\n",
      "Analyzing layer: _blocks.0._project_conv\n"
     ]
    },
    {
     "name": "stderr",
     "output_type": "stream",
     "text": [
      "                                                                                                                       \r"
     ]
    },
    {
     "name": "stdout",
     "output_type": "stream",
     "text": [
      "Validation Loss: 5.7688, Validation Accuracy: 0.83%\n",
      "Pruning layer with pruning rate: 0.1\n"
     ]
    },
    {
     "name": "stderr",
     "output_type": "stream",
     "text": [
      "                                                                                                                       \r"
     ]
    },
    {
     "name": "stdout",
     "output_type": "stream",
     "text": [
      "Validation Loss: 5.7688, Validation Accuracy: 0.83%\n",
      "Sensitivity for layer _blocks.0._project_conv: 2.384185791015625e-06\n",
      "Analyzing layer: _blocks.1._depthwise_conv\n"
     ]
    },
    {
     "name": "stderr",
     "output_type": "stream",
     "text": [
      "                                                                                                                       \r"
     ]
    },
    {
     "name": "stdout",
     "output_type": "stream",
     "text": [
      "Validation Loss: 5.7688, Validation Accuracy: 0.83%\n",
      "Pruning layer with pruning rate: 0.1\n"
     ]
    },
    {
     "name": "stderr",
     "output_type": "stream",
     "text": [
      "                                                                                                                       \r"
     ]
    },
    {
     "name": "stdout",
     "output_type": "stream",
     "text": [
      "Validation Loss: 5.7688, Validation Accuracy: 0.83%\n",
      "Sensitivity for layer _blocks.1._depthwise_conv: -1.7642974853515625e-05\n",
      "Analyzing layer: _blocks.1._se_reduce\n"
     ]
    },
    {
     "name": "stderr",
     "output_type": "stream",
     "text": [
      "                                                                                                                       \r"
     ]
    },
    {
     "name": "stdout",
     "output_type": "stream",
     "text": [
      "Validation Loss: 5.7688, Validation Accuracy: 0.83%\n",
      "Pruning layer with pruning rate: 0.1\n"
     ]
    },
    {
     "name": "stderr",
     "output_type": "stream",
     "text": [
      "                                                                                                                       \r"
     ]
    },
    {
     "name": "stdout",
     "output_type": "stream",
     "text": [
      "Validation Loss: 5.7688, Validation Accuracy: 0.83%\n",
      "Sensitivity for layer _blocks.1._se_reduce: -1.2636184692382812e-05\n",
      "Analyzing layer: _blocks.1._se_expand\n"
     ]
    },
    {
     "name": "stderr",
     "output_type": "stream",
     "text": [
      "                                                                                                                       \r"
     ]
    },
    {
     "name": "stdout",
     "output_type": "stream",
     "text": [
      "Validation Loss: 5.7688, Validation Accuracy: 0.83%\n",
      "Pruning layer with pruning rate: 0.1\n"
     ]
    },
    {
     "name": "stderr",
     "output_type": "stream",
     "text": [
      "                                                                                                                       \r"
     ]
    },
    {
     "name": "stdout",
     "output_type": "stream",
     "text": [
      "Validation Loss: 5.7688, Validation Accuracy: 0.83%\n",
      "Sensitivity for layer _blocks.1._se_expand: 2.0265579223632812e-05\n",
      "Analyzing layer: _blocks.1._project_conv\n"
     ]
    },
    {
     "name": "stderr",
     "output_type": "stream",
     "text": [
      "                                                                                                                       \r"
     ]
    },
    {
     "name": "stdout",
     "output_type": "stream",
     "text": [
      "Validation Loss: 5.7688, Validation Accuracy: 0.83%\n",
      "Pruning layer with pruning rate: 0.1\n"
     ]
    },
    {
     "name": "stderr",
     "output_type": "stream",
     "text": [
      "                                                                                                                       \r"
     ]
    },
    {
     "name": "stdout",
     "output_type": "stream",
     "text": [
      "Validation Loss: 5.7688, Validation Accuracy: 0.83%\n",
      "Sensitivity for layer _blocks.1._project_conv: 8.344650268554688e-06\n",
      "Analyzing layer: _blocks.2._depthwise_conv\n"
     ]
    },
    {
     "name": "stderr",
     "output_type": "stream",
     "text": [
      "                                                                                                                       \r"
     ]
    },
    {
     "name": "stdout",
     "output_type": "stream",
     "text": [
      "Validation Loss: 5.7688, Validation Accuracy: 0.83%\n",
      "Pruning layer with pruning rate: 0.1\n"
     ]
    },
    {
     "name": "stderr",
     "output_type": "stream",
     "text": [
      "                                                                                                                       \r"
     ]
    },
    {
     "name": "stdout",
     "output_type": "stream",
     "text": [
      "Validation Loss: 5.7688, Validation Accuracy: 0.83%\n",
      "Sensitivity for layer _blocks.2._depthwise_conv: -4.0531158447265625e-06\n",
      "Analyzing layer: _blocks.2._se_reduce\n"
     ]
    },
    {
     "name": "stderr",
     "output_type": "stream",
     "text": [
      "                                                                                                                       \r"
     ]
    },
    {
     "name": "stdout",
     "output_type": "stream",
     "text": [
      "Validation Loss: 5.7688, Validation Accuracy: 0.83%\n",
      "Pruning layer with pruning rate: 0.1\n"
     ]
    },
    {
     "name": "stderr",
     "output_type": "stream",
     "text": [
      "                                                                                                                       \r"
     ]
    },
    {
     "name": "stdout",
     "output_type": "stream",
     "text": [
      "Validation Loss: 5.7688, Validation Accuracy: 0.83%\n",
      "Sensitivity for layer _blocks.2._se_reduce: -2.384185791015625e-05\n",
      "Analyzing layer: _blocks.2._se_expand\n"
     ]
    },
    {
     "name": "stderr",
     "output_type": "stream",
     "text": [
      "                                                                                                                       \r"
     ]
    },
    {
     "name": "stdout",
     "output_type": "stream",
     "text": [
      "Validation Loss: 5.7688, Validation Accuracy: 0.83%\n",
      "Pruning layer with pruning rate: 0.1\n"
     ]
    },
    {
     "name": "stderr",
     "output_type": "stream",
     "text": [
      "                                                                                                                       \r"
     ]
    },
    {
     "name": "stdout",
     "output_type": "stream",
     "text": [
      "Validation Loss: 5.7688, Validation Accuracy: 0.83%\n",
      "Sensitivity for layer _blocks.2._se_expand: 1.5974044799804688e-05\n",
      "Analyzing layer: _blocks.2._project_conv\n"
     ]
    },
    {
     "name": "stderr",
     "output_type": "stream",
     "text": [
      "                                                                                                                       \r"
     ]
    },
    {
     "name": "stdout",
     "output_type": "stream",
     "text": [
      "Validation Loss: 5.7688, Validation Accuracy: 0.83%\n",
      "Pruning layer with pruning rate: 0.1\n"
     ]
    },
    {
     "name": "stderr",
     "output_type": "stream",
     "text": [
      "                                                                                                                       \r"
     ]
    },
    {
     "name": "stdout",
     "output_type": "stream",
     "text": [
      "Validation Loss: 5.7688, Validation Accuracy: 0.83%\n",
      "Sensitivity for layer _blocks.2._project_conv: 1.4543533325195312e-05\n",
      "Analyzing layer: _blocks.3._depthwise_conv\n"
     ]
    },
    {
     "name": "stderr",
     "output_type": "stream",
     "text": [
      "                                                                                                                       \r"
     ]
    },
    {
     "name": "stdout",
     "output_type": "stream",
     "text": [
      "Validation Loss: 5.7688, Validation Accuracy: 0.83%\n",
      "Pruning layer with pruning rate: 0.1\n"
     ]
    },
    {
     "name": "stderr",
     "output_type": "stream",
     "text": [
      "                                                                                                                       \r"
     ]
    },
    {
     "name": "stdout",
     "output_type": "stream",
     "text": [
      "Validation Loss: 5.7688, Validation Accuracy: 0.83%\n",
      "Sensitivity for layer _blocks.3._depthwise_conv: -2.9802322387695312e-05\n",
      "Analyzing layer: _blocks.3._se_reduce\n"
     ]
    },
    {
     "name": "stderr",
     "output_type": "stream",
     "text": [
      "                                                                                                                       \r"
     ]
    },
    {
     "name": "stdout",
     "output_type": "stream",
     "text": [
      "Validation Loss: 5.7688, Validation Accuracy: 0.83%\n",
      "Pruning layer with pruning rate: 0.1\n"
     ]
    },
    {
     "name": "stderr",
     "output_type": "stream",
     "text": [
      "                                                                                                                       \r"
     ]
    },
    {
     "name": "stdout",
     "output_type": "stream",
     "text": [
      "Validation Loss: 5.7688, Validation Accuracy: 0.83%\n",
      "Sensitivity for layer _blocks.3._se_reduce: -2.384185791015625e-07\n",
      "Analyzing layer: _blocks.3._se_expand\n"
     ]
    },
    {
     "name": "stderr",
     "output_type": "stream",
     "text": [
      "                                                                                                                       \r"
     ]
    },
    {
     "name": "stdout",
     "output_type": "stream",
     "text": [
      "Validation Loss: 5.7688, Validation Accuracy: 0.83%\n",
      "Pruning layer with pruning rate: 0.1\n"
     ]
    },
    {
     "name": "stderr",
     "output_type": "stream",
     "text": [
      "                                                                                                                       \r"
     ]
    },
    {
     "name": "stdout",
     "output_type": "stream",
     "text": [
      "Validation Loss: 5.7687, Validation Accuracy: 0.83%\n",
      "Sensitivity for layer _blocks.3._se_expand: -9.775161743164062e-06\n",
      "Analyzing layer: _blocks.3._project_conv\n"
     ]
    },
    {
     "name": "stderr",
     "output_type": "stream",
     "text": [
      "                                                                                                                       \r"
     ]
    },
    {
     "name": "stdout",
     "output_type": "stream",
     "text": [
      "Validation Loss: 5.7687, Validation Accuracy: 0.83%\n",
      "Pruning layer with pruning rate: 0.1\n"
     ]
    },
    {
     "name": "stderr",
     "output_type": "stream",
     "text": [
      "                                                                                                                       \r"
     ]
    },
    {
     "name": "stdout",
     "output_type": "stream",
     "text": [
      "Validation Loss: 5.7688, Validation Accuracy: 0.83%\n",
      "Sensitivity for layer _blocks.3._project_conv: 1.1444091796875e-05\n",
      "Analyzing layer: _blocks.4._expand_conv\n"
     ]
    },
    {
     "name": "stderr",
     "output_type": "stream",
     "text": [
      "                                                                                                                       \r"
     ]
    },
    {
     "name": "stdout",
     "output_type": "stream",
     "text": [
      "Validation Loss: 5.7688, Validation Accuracy: 0.83%\n",
      "Pruning layer with pruning rate: 0.1\n"
     ]
    },
    {
     "name": "stderr",
     "output_type": "stream",
     "text": [
      "                                                                                                                       \r"
     ]
    },
    {
     "name": "stdout",
     "output_type": "stream",
     "text": [
      "Validation Loss: 5.7688, Validation Accuracy: 0.83%\n",
      "Sensitivity for layer _blocks.4._expand_conv: 1.6927719116210938e-05\n",
      "Analyzing layer: _blocks.4._depthwise_conv\n"
     ]
    },
    {
     "name": "stderr",
     "output_type": "stream",
     "text": [
      "                                                                                                                       \r"
     ]
    },
    {
     "name": "stdout",
     "output_type": "stream",
     "text": [
      "Validation Loss: 5.7688, Validation Accuracy: 0.83%\n",
      "Pruning layer with pruning rate: 0.1\n"
     ]
    },
    {
     "name": "stderr",
     "output_type": "stream",
     "text": [
      "                                                                                                                       \r"
     ]
    },
    {
     "name": "stdout",
     "output_type": "stream",
     "text": [
      "Validation Loss: 5.7688, Validation Accuracy: 0.83%\n",
      "Sensitivity for layer _blocks.4._depthwise_conv: 5.054473876953125e-05\n",
      "Analyzing layer: _blocks.4._se_reduce\n"
     ]
    },
    {
     "name": "stderr",
     "output_type": "stream",
     "text": [
      "                                                                                                                       \r"
     ]
    },
    {
     "name": "stdout",
     "output_type": "stream",
     "text": [
      "Validation Loss: 5.7688, Validation Accuracy: 0.83%\n",
      "Pruning layer with pruning rate: 0.1\n"
     ]
    },
    {
     "name": "stderr",
     "output_type": "stream",
     "text": [
      "                                                                                                                       \r"
     ]
    },
    {
     "name": "stdout",
     "output_type": "stream",
     "text": [
      "Validation Loss: 5.7688, Validation Accuracy: 0.83%\n",
      "Sensitivity for layer _blocks.4._se_reduce: 6.4373016357421875e-06\n",
      "Analyzing layer: _blocks.4._se_expand\n"
     ]
    },
    {
     "name": "stderr",
     "output_type": "stream",
     "text": [
      "                                                                                                                       \r"
     ]
    },
    {
     "name": "stdout",
     "output_type": "stream",
     "text": [
      "Validation Loss: 5.7688, Validation Accuracy: 0.83%\n",
      "Pruning layer with pruning rate: 0.1\n"
     ]
    },
    {
     "name": "stderr",
     "output_type": "stream",
     "text": [
      "                                                                                                                       \r"
     ]
    },
    {
     "name": "stdout",
     "output_type": "stream",
     "text": [
      "Validation Loss: 5.7688, Validation Accuracy: 0.83%\n",
      "Sensitivity for layer _blocks.4._se_expand: -1.71661376953125e-05\n",
      "Analyzing layer: _blocks.4._project_conv\n"
     ]
    },
    {
     "name": "stderr",
     "output_type": "stream",
     "text": [
      "                                                                                                                       \r"
     ]
    },
    {
     "name": "stdout",
     "output_type": "stream",
     "text": [
      "Validation Loss: 5.7688, Validation Accuracy: 0.83%\n",
      "Pruning layer with pruning rate: 0.1\n"
     ]
    },
    {
     "name": "stderr",
     "output_type": "stream",
     "text": [
      "                                                                                                                       \r"
     ]
    },
    {
     "name": "stdout",
     "output_type": "stream",
     "text": [
      "Validation Loss: 5.7689, Validation Accuracy: 0.83%\n",
      "Sensitivity for layer _blocks.4._project_conv: 3.409385681152344e-05\n",
      "Analyzing layer: _blocks.5._expand_conv\n"
     ]
    },
    {
     "name": "stderr",
     "output_type": "stream",
     "text": [
      "                                                                                                                       \r"
     ]
    },
    {
     "name": "stdout",
     "output_type": "stream",
     "text": [
      "Validation Loss: 5.7689, Validation Accuracy: 0.83%\n",
      "Pruning layer with pruning rate: 0.1\n"
     ]
    },
    {
     "name": "stderr",
     "output_type": "stream",
     "text": [
      "                                                                                                                       \r"
     ]
    },
    {
     "name": "stdout",
     "output_type": "stream",
     "text": [
      "Validation Loss: 5.7689, Validation Accuracy: 0.83%\n",
      "Sensitivity for layer _blocks.5._expand_conv: 7.62939453125e-06\n",
      "Analyzing layer: _blocks.5._depthwise_conv\n"
     ]
    },
    {
     "name": "stderr",
     "output_type": "stream",
     "text": [
      "                                                                                                                       \r"
     ]
    },
    {
     "name": "stdout",
     "output_type": "stream",
     "text": [
      "Validation Loss: 5.7689, Validation Accuracy: 0.83%\n",
      "Pruning layer with pruning rate: 0.1\n"
     ]
    },
    {
     "name": "stderr",
     "output_type": "stream",
     "text": [
      "                                                                                                                       \r"
     ]
    },
    {
     "name": "stdout",
     "output_type": "stream",
     "text": [
      "Validation Loss: 5.7688, Validation Accuracy: 0.83%\n",
      "Sensitivity for layer _blocks.5._depthwise_conv: -1.0251998901367188e-05\n",
      "Analyzing layer: _blocks.5._se_reduce\n"
     ]
    },
    {
     "name": "stderr",
     "output_type": "stream",
     "text": [
      "                                                                                                                       \r"
     ]
    },
    {
     "name": "stdout",
     "output_type": "stream",
     "text": [
      "Validation Loss: 5.7688, Validation Accuracy: 0.83%\n",
      "Pruning layer with pruning rate: 0.1\n"
     ]
    },
    {
     "name": "stderr",
     "output_type": "stream",
     "text": [
      "                                                                                                                       \r"
     ]
    },
    {
     "name": "stdout",
     "output_type": "stream",
     "text": [
      "Validation Loss: 5.7689, Validation Accuracy: 0.83%\n",
      "Sensitivity for layer _blocks.5._se_reduce: 6.4373016357421875e-06\n",
      "Analyzing layer: _blocks.5._se_expand\n"
     ]
    },
    {
     "name": "stderr",
     "output_type": "stream",
     "text": [
      "                                                                                                                       \r"
     ]
    },
    {
     "name": "stdout",
     "output_type": "stream",
     "text": [
      "Validation Loss: 5.7689, Validation Accuracy: 0.83%\n",
      "Pruning layer with pruning rate: 0.1\n"
     ]
    },
    {
     "name": "stderr",
     "output_type": "stream",
     "text": [
      "                                                                                                                       \r"
     ]
    },
    {
     "name": "stdout",
     "output_type": "stream",
     "text": [
      "Validation Loss: 5.7689, Validation Accuracy: 0.83%\n",
      "Sensitivity for layer _blocks.5._se_expand: 3.0994415283203125e-06\n",
      "Analyzing layer: _blocks.5._project_conv\n"
     ]
    },
    {
     "name": "stderr",
     "output_type": "stream",
     "text": [
      "                                                                                                                       \r"
     ]
    },
    {
     "name": "stdout",
     "output_type": "stream",
     "text": [
      "Validation Loss: 5.7689, Validation Accuracy: 0.83%\n",
      "Pruning layer with pruning rate: 0.1\n"
     ]
    },
    {
     "name": "stderr",
     "output_type": "stream",
     "text": [
      "                                                                                                                       \r"
     ]
    },
    {
     "name": "stdout",
     "output_type": "stream",
     "text": [
      "Validation Loss: 5.7689, Validation Accuracy: 0.83%\n",
      "Sensitivity for layer _blocks.5._project_conv: 2.1219253540039062e-05\n",
      "Analyzing layer: _blocks.6._expand_conv\n"
     ]
    },
    {
     "name": "stderr",
     "output_type": "stream",
     "text": [
      "                                                                                                                       \r"
     ]
    },
    {
     "name": "stdout",
     "output_type": "stream",
     "text": [
      "Validation Loss: 5.7689, Validation Accuracy: 0.83%\n",
      "Pruning layer with pruning rate: 0.1\n"
     ]
    },
    {
     "name": "stderr",
     "output_type": "stream",
     "text": [
      "                                                                                                                       \r"
     ]
    },
    {
     "name": "stdout",
     "output_type": "stream",
     "text": [
      "Validation Loss: 5.7689, Validation Accuracy: 0.83%\n",
      "Sensitivity for layer _blocks.6._expand_conv: 3.0994415283203125e-05\n",
      "Analyzing layer: _blocks.6._depthwise_conv\n"
     ]
    },
    {
     "name": "stderr",
     "output_type": "stream",
     "text": [
      "                                                                                                                       \r"
     ]
    },
    {
     "name": "stdout",
     "output_type": "stream",
     "text": [
      "Validation Loss: 5.7689, Validation Accuracy: 0.83%\n",
      "Pruning layer with pruning rate: 0.1\n"
     ]
    },
    {
     "name": "stderr",
     "output_type": "stream",
     "text": [
      "                                                                                                                       \r"
     ]
    },
    {
     "name": "stdout",
     "output_type": "stream",
     "text": [
      "Validation Loss: 5.7689, Validation Accuracy: 0.83%\n",
      "Sensitivity for layer _blocks.6._depthwise_conv: -2.0265579223632812e-05\n",
      "Analyzing layer: _blocks.6._se_reduce\n"
     ]
    },
    {
     "name": "stderr",
     "output_type": "stream",
     "text": [
      "                                                                                                                       \r"
     ]
    },
    {
     "name": "stdout",
     "output_type": "stream",
     "text": [
      "Validation Loss: 5.7689, Validation Accuracy: 0.83%\n",
      "Pruning layer with pruning rate: 0.1\n"
     ]
    },
    {
     "name": "stderr",
     "output_type": "stream",
     "text": [
      "                                                                                                                       \r"
     ]
    },
    {
     "name": "stdout",
     "output_type": "stream",
     "text": [
      "Validation Loss: 5.7689, Validation Accuracy: 0.83%\n",
      "Sensitivity for layer _blocks.6._se_reduce: 1.430511474609375e-06\n",
      "Analyzing layer: _blocks.6._se_expand\n"
     ]
    },
    {
     "name": "stderr",
     "output_type": "stream",
     "text": [
      "                                                                                                                       \r"
     ]
    },
    {
     "name": "stdout",
     "output_type": "stream",
     "text": [
      "Validation Loss: 5.7689, Validation Accuracy: 0.83%\n",
      "Pruning layer with pruning rate: 0.1\n"
     ]
    },
    {
     "name": "stderr",
     "output_type": "stream",
     "text": [
      "                                                                                                                       \r"
     ]
    },
    {
     "name": "stdout",
     "output_type": "stream",
     "text": [
      "Validation Loss: 5.7689, Validation Accuracy: 0.83%\n",
      "Sensitivity for layer _blocks.6._se_expand: 9.5367431640625e-07\n",
      "Analyzing layer: _blocks.6._project_conv\n"
     ]
    },
    {
     "name": "stderr",
     "output_type": "stream",
     "text": [
      "                                                                                                                       \r"
     ]
    },
    {
     "name": "stdout",
     "output_type": "stream",
     "text": [
      "Validation Loss: 5.7689, Validation Accuracy: 0.83%\n",
      "Pruning layer with pruning rate: 0.1\n"
     ]
    },
    {
     "name": "stderr",
     "output_type": "stream",
     "text": [
      "                                                                                                                       \r"
     ]
    },
    {
     "name": "stdout",
     "output_type": "stream",
     "text": [
      "Validation Loss: 5.7689, Validation Accuracy: 0.83%\n",
      "Sensitivity for layer _blocks.6._project_conv: -2.1219253540039062e-05\n",
      "Analyzing layer: _blocks.7._expand_conv\n"
     ]
    },
    {
     "name": "stderr",
     "output_type": "stream",
     "text": [
      "                                                                                                                       \r"
     ]
    },
    {
     "name": "stdout",
     "output_type": "stream",
     "text": [
      "Validation Loss: 5.7689, Validation Accuracy: 0.83%\n",
      "Pruning layer with pruning rate: 0.1\n"
     ]
    },
    {
     "name": "stderr",
     "output_type": "stream",
     "text": [
      "                                                                                                                       \r"
     ]
    },
    {
     "name": "stdout",
     "output_type": "stream",
     "text": [
      "Validation Loss: 5.7689, Validation Accuracy: 0.83%\n",
      "Sensitivity for layer _blocks.7._expand_conv: 2.0503997802734375e-05\n",
      "Analyzing layer: _blocks.7._depthwise_conv\n"
     ]
    },
    {
     "name": "stderr",
     "output_type": "stream",
     "text": [
      "                                                                                                                       \r"
     ]
    },
    {
     "name": "stdout",
     "output_type": "stream",
     "text": [
      "Validation Loss: 5.7689, Validation Accuracy: 0.83%\n",
      "Pruning layer with pruning rate: 0.1\n"
     ]
    },
    {
     "name": "stderr",
     "output_type": "stream",
     "text": [
      "                                                                                                                       \r"
     ]
    },
    {
     "name": "stdout",
     "output_type": "stream",
     "text": [
      "Validation Loss: 5.7689, Validation Accuracy: 0.83%\n",
      "Sensitivity for layer _blocks.7._depthwise_conv: 2.4080276489257812e-05\n",
      "Analyzing layer: _blocks.7._se_reduce\n"
     ]
    },
    {
     "name": "stderr",
     "output_type": "stream",
     "text": [
      "                                                                                                                       \r"
     ]
    },
    {
     "name": "stdout",
     "output_type": "stream",
     "text": [
      "Validation Loss: 5.7689, Validation Accuracy: 0.83%\n",
      "Pruning layer with pruning rate: 0.1\n"
     ]
    },
    {
     "name": "stderr",
     "output_type": "stream",
     "text": [
      "                                                                                                                       \r"
     ]
    },
    {
     "name": "stdout",
     "output_type": "stream",
     "text": [
      "Validation Loss: 5.7689, Validation Accuracy: 0.83%\n",
      "Sensitivity for layer _blocks.7._se_reduce: -1.0728836059570312e-05\n",
      "Analyzing layer: _blocks.7._se_expand\n"
     ]
    },
    {
     "name": "stderr",
     "output_type": "stream",
     "text": [
      "                                                                                                                       \r"
     ]
    },
    {
     "name": "stdout",
     "output_type": "stream",
     "text": [
      "Validation Loss: 5.7689, Validation Accuracy: 0.83%\n",
      "Pruning layer with pruning rate: 0.1\n"
     ]
    },
    {
     "name": "stderr",
     "output_type": "stream",
     "text": [
      "                                                                                                                       \r"
     ]
    },
    {
     "name": "stdout",
     "output_type": "stream",
     "text": [
      "Validation Loss: 5.7689, Validation Accuracy: 0.83%\n",
      "Sensitivity for layer _blocks.7._se_expand: -1.1920928955078125e-06\n",
      "Analyzing layer: _blocks.7._project_conv\n"
     ]
    },
    {
     "name": "stderr",
     "output_type": "stream",
     "text": [
      "                                                                                                                       \r"
     ]
    },
    {
     "name": "stdout",
     "output_type": "stream",
     "text": [
      "Validation Loss: 5.7689, Validation Accuracy: 0.83%\n",
      "Pruning layer with pruning rate: 0.1\n"
     ]
    },
    {
     "name": "stderr",
     "output_type": "stream",
     "text": [
      "                                                                                                                       \r"
     ]
    },
    {
     "name": "stdout",
     "output_type": "stream",
     "text": [
      "Validation Loss: 5.7689, Validation Accuracy: 0.83%\n",
      "Sensitivity for layer _blocks.7._project_conv: 3.4332275390625e-05\n",
      "Analyzing layer: _blocks.8._expand_conv\n"
     ]
    },
    {
     "name": "stderr",
     "output_type": "stream",
     "text": [
      "                                                                                                                       \r"
     ]
    },
    {
     "name": "stdout",
     "output_type": "stream",
     "text": [
      "Validation Loss: 5.7689, Validation Accuracy: 0.83%\n",
      "Pruning layer with pruning rate: 0.1\n"
     ]
    },
    {
     "name": "stderr",
     "output_type": "stream",
     "text": [
      "                                                                                                                       \r"
     ]
    },
    {
     "name": "stdout",
     "output_type": "stream",
     "text": [
      "Validation Loss: 5.7689, Validation Accuracy: 0.83%\n",
      "Sensitivity for layer _blocks.8._expand_conv: -3.4332275390625e-05\n",
      "Analyzing layer: _blocks.8._depthwise_conv\n"
     ]
    },
    {
     "name": "stderr",
     "output_type": "stream",
     "text": [
      "                                                                                                                       \r"
     ]
    },
    {
     "name": "stdout",
     "output_type": "stream",
     "text": [
      "Validation Loss: 5.7689, Validation Accuracy: 0.83%\n",
      "Pruning layer with pruning rate: 0.1\n"
     ]
    },
    {
     "name": "stderr",
     "output_type": "stream",
     "text": [
      "                                                                                                                       \r"
     ]
    },
    {
     "name": "stdout",
     "output_type": "stream",
     "text": [
      "Validation Loss: 5.7689, Validation Accuracy: 0.83%\n",
      "Sensitivity for layer _blocks.8._depthwise_conv: 2.7894973754882812e-05\n",
      "Analyzing layer: _blocks.8._se_reduce\n"
     ]
    },
    {
     "name": "stderr",
     "output_type": "stream",
     "text": [
      "                                                                                                                       \r"
     ]
    },
    {
     "name": "stdout",
     "output_type": "stream",
     "text": [
      "Validation Loss: 5.7689, Validation Accuracy: 0.83%\n",
      "Pruning layer with pruning rate: 0.1\n"
     ]
    },
    {
     "name": "stderr",
     "output_type": "stream",
     "text": [
      "                                                                                                                       \r"
     ]
    },
    {
     "name": "stdout",
     "output_type": "stream",
     "text": [
      "Validation Loss: 5.7689, Validation Accuracy: 0.83%\n",
      "Sensitivity for layer _blocks.8._se_reduce: 5.7220458984375e-06\n",
      "Analyzing layer: _blocks.8._se_expand\n"
     ]
    },
    {
     "name": "stderr",
     "output_type": "stream",
     "text": [
      "                                                                                                                       \r"
     ]
    },
    {
     "name": "stdout",
     "output_type": "stream",
     "text": [
      "Validation Loss: 5.7689, Validation Accuracy: 0.83%\n",
      "Pruning layer with pruning rate: 0.1\n"
     ]
    },
    {
     "name": "stderr",
     "output_type": "stream",
     "text": [
      "                                                                                                                       \r"
     ]
    },
    {
     "name": "stdout",
     "output_type": "stream",
     "text": [
      "Validation Loss: 5.7689, Validation Accuracy: 0.83%\n",
      "Sensitivity for layer _blocks.8._se_expand: -1.2636184692382812e-05\n",
      "Analyzing layer: _blocks.8._project_conv\n"
     ]
    },
    {
     "name": "stderr",
     "output_type": "stream",
     "text": [
      "                                                                                                                       \r"
     ]
    },
    {
     "name": "stdout",
     "output_type": "stream",
     "text": [
      "Validation Loss: 5.7689, Validation Accuracy: 0.83%\n",
      "Pruning layer with pruning rate: 0.1\n"
     ]
    },
    {
     "name": "stderr",
     "output_type": "stream",
     "text": [
      "                                                                                                                       \r"
     ]
    },
    {
     "name": "stdout",
     "output_type": "stream",
     "text": [
      "Validation Loss: 5.7689, Validation Accuracy: 0.83%\n",
      "Sensitivity for layer _blocks.8._project_conv: 8.821487426757812e-06\n",
      "Analyzing layer: _blocks.9._expand_conv\n"
     ]
    },
    {
     "name": "stderr",
     "output_type": "stream",
     "text": [
      "                                                                                                                       \r"
     ]
    },
    {
     "name": "stdout",
     "output_type": "stream",
     "text": [
      "Validation Loss: 5.7689, Validation Accuracy: 0.83%\n",
      "Pruning layer with pruning rate: 0.1\n"
     ]
    },
    {
     "name": "stderr",
     "output_type": "stream",
     "text": [
      "                                                                                                                       \r"
     ]
    },
    {
     "name": "stdout",
     "output_type": "stream",
     "text": [
      "Validation Loss: 5.7689, Validation Accuracy: 0.83%\n",
      "Sensitivity for layer _blocks.9._expand_conv: 1.1444091796875e-05\n",
      "Analyzing layer: _blocks.9._depthwise_conv\n"
     ]
    },
    {
     "name": "stderr",
     "output_type": "stream",
     "text": [
      "                                                                                                                       \r"
     ]
    },
    {
     "name": "stdout",
     "output_type": "stream",
     "text": [
      "Validation Loss: 5.7689, Validation Accuracy: 0.83%\n",
      "Pruning layer with pruning rate: 0.1\n"
     ]
    },
    {
     "name": "stderr",
     "output_type": "stream",
     "text": [
      "                                                                                                                       \r"
     ]
    },
    {
     "name": "stdout",
     "output_type": "stream",
     "text": [
      "Validation Loss: 5.7690, Validation Accuracy: 0.83%\n",
      "Sensitivity for layer _blocks.9._depthwise_conv: 1.8835067749023438e-05\n",
      "Analyzing layer: _blocks.9._se_reduce\n"
     ]
    },
    {
     "name": "stderr",
     "output_type": "stream",
     "text": [
      "                                                                                                                       \r"
     ]
    },
    {
     "name": "stdout",
     "output_type": "stream",
     "text": [
      "Validation Loss: 5.7690, Validation Accuracy: 0.83%\n",
      "Pruning layer with pruning rate: 0.1\n"
     ]
    },
    {
     "name": "stderr",
     "output_type": "stream",
     "text": [
      "                                                                                                                       \r"
     ]
    },
    {
     "name": "stdout",
     "output_type": "stream",
     "text": [
      "Validation Loss: 5.7690, Validation Accuracy: 0.83%\n",
      "Sensitivity for layer _blocks.9._se_reduce: -2.86102294921875e-06\n",
      "Analyzing layer: _blocks.9._se_expand\n"
     ]
    },
    {
     "name": "stderr",
     "output_type": "stream",
     "text": [
      "                                                                                                                       \r"
     ]
    },
    {
     "name": "stdout",
     "output_type": "stream",
     "text": [
      "Validation Loss: 5.7690, Validation Accuracy: 0.83%\n",
      "Pruning layer with pruning rate: 0.1\n"
     ]
    },
    {
     "name": "stderr",
     "output_type": "stream",
     "text": [
      "                                                                                                                       \r"
     ]
    },
    {
     "name": "stdout",
     "output_type": "stream",
     "text": [
      "Validation Loss: 5.7690, Validation Accuracy: 0.83%\n",
      "Sensitivity for layer _blocks.9._se_expand: 1.430511474609375e-05\n",
      "Analyzing layer: _blocks.9._project_conv\n"
     ]
    },
    {
     "name": "stderr",
     "output_type": "stream",
     "text": [
      "                                                                                                                       \r"
     ]
    },
    {
     "name": "stdout",
     "output_type": "stream",
     "text": [
      "Validation Loss: 5.7690, Validation Accuracy: 0.83%\n",
      "Pruning layer with pruning rate: 0.1\n"
     ]
    },
    {
     "name": "stderr",
     "output_type": "stream",
     "text": [
      "                                                                                                                       \r"
     ]
    },
    {
     "name": "stdout",
     "output_type": "stream",
     "text": [
      "Validation Loss: 5.7690, Validation Accuracy: 0.83%\n",
      "Sensitivity for layer _blocks.9._project_conv: 3.814697265625e-06\n",
      "Analyzing layer: _blocks.10._expand_conv\n"
     ]
    },
    {
     "name": "stderr",
     "output_type": "stream",
     "text": [
      "                                                                                                                       \r"
     ]
    },
    {
     "name": "stdout",
     "output_type": "stream",
     "text": [
      "Validation Loss: 5.7690, Validation Accuracy: 0.83%\n",
      "Pruning layer with pruning rate: 0.1\n"
     ]
    },
    {
     "name": "stderr",
     "output_type": "stream",
     "text": [
      "                                                                                                                       \r"
     ]
    },
    {
     "name": "stdout",
     "output_type": "stream",
     "text": [
      "Validation Loss: 5.7690, Validation Accuracy: 0.83%\n",
      "Sensitivity for layer _blocks.10._expand_conv: 1.5497207641601562e-05\n",
      "Analyzing layer: _blocks.10._depthwise_conv\n"
     ]
    },
    {
     "name": "stderr",
     "output_type": "stream",
     "text": [
      "                                                                                                                       \r"
     ]
    },
    {
     "name": "stdout",
     "output_type": "stream",
     "text": [
      "Validation Loss: 5.7690, Validation Accuracy: 0.83%\n",
      "Pruning layer with pruning rate: 0.1\n"
     ]
    },
    {
     "name": "stderr",
     "output_type": "stream",
     "text": [
      "                                                                                                                       \r"
     ]
    },
    {
     "name": "stdout",
     "output_type": "stream",
     "text": [
      "Validation Loss: 5.7690, Validation Accuracy: 0.83%\n",
      "Sensitivity for layer _blocks.10._depthwise_conv: -4.76837158203125e-07\n",
      "Analyzing layer: _blocks.10._se_reduce\n"
     ]
    },
    {
     "name": "stderr",
     "output_type": "stream",
     "text": [
      "                                                                                                                       \r"
     ]
    },
    {
     "name": "stdout",
     "output_type": "stream",
     "text": [
      "Validation Loss: 5.7690, Validation Accuracy: 0.83%\n",
      "Pruning layer with pruning rate: 0.1\n"
     ]
    },
    {
     "name": "stderr",
     "output_type": "stream",
     "text": [
      "                                                                                                                       \r"
     ]
    },
    {
     "name": "stdout",
     "output_type": "stream",
     "text": [
      "Validation Loss: 5.7690, Validation Accuracy: 0.83%\n",
      "Sensitivity for layer _blocks.10._se_reduce: 3.814697265625e-06\n",
      "Analyzing layer: _blocks.10._se_expand\n"
     ]
    },
    {
     "name": "stderr",
     "output_type": "stream",
     "text": [
      "                                                                                                                       \r"
     ]
    },
    {
     "name": "stdout",
     "output_type": "stream",
     "text": [
      "Validation Loss: 5.7690, Validation Accuracy: 0.83%\n",
      "Pruning layer with pruning rate: 0.1\n"
     ]
    },
    {
     "name": "stderr",
     "output_type": "stream",
     "text": [
      "                                                                                                                       \r"
     ]
    },
    {
     "name": "stdout",
     "output_type": "stream",
     "text": [
      "Validation Loss: 5.7690, Validation Accuracy: 0.83%\n",
      "Sensitivity for layer _blocks.10._se_expand: 1.0251998901367188e-05\n",
      "Analyzing layer: _blocks.10._project_conv\n"
     ]
    },
    {
     "name": "stderr",
     "output_type": "stream",
     "text": [
      "                                                                                                                       \r"
     ]
    },
    {
     "name": "stdout",
     "output_type": "stream",
     "text": [
      "Validation Loss: 5.7690, Validation Accuracy: 0.83%\n",
      "Pruning layer with pruning rate: 0.1\n"
     ]
    },
    {
     "name": "stderr",
     "output_type": "stream",
     "text": [
      "                                                                                                                       \r"
     ]
    },
    {
     "name": "stdout",
     "output_type": "stream",
     "text": [
      "Validation Loss: 5.7690, Validation Accuracy: 0.83%\n",
      "Sensitivity for layer _blocks.10._project_conv: 8.821487426757812e-06\n",
      "Analyzing layer: _blocks.11._expand_conv\n"
     ]
    },
    {
     "name": "stderr",
     "output_type": "stream",
     "text": [
      "                                                                                                                       \r"
     ]
    },
    {
     "name": "stdout",
     "output_type": "stream",
     "text": [
      "Validation Loss: 5.7690, Validation Accuracy: 0.83%\n",
      "Pruning layer with pruning rate: 0.1\n"
     ]
    },
    {
     "name": "stderr",
     "output_type": "stream",
     "text": [
      "                                                                                                                       \r"
     ]
    },
    {
     "name": "stdout",
     "output_type": "stream",
     "text": [
      "Validation Loss: 5.7690, Validation Accuracy: 0.83%\n",
      "Sensitivity for layer _blocks.11._expand_conv: -4.029273986816406e-05\n",
      "Analyzing layer: _blocks.11._depthwise_conv\n"
     ]
    },
    {
     "name": "stderr",
     "output_type": "stream",
     "text": [
      "                                                                                                                       \r"
     ]
    },
    {
     "name": "stdout",
     "output_type": "stream",
     "text": [
      "Validation Loss: 5.7690, Validation Accuracy: 0.83%\n",
      "Pruning layer with pruning rate: 0.1\n"
     ]
    },
    {
     "name": "stderr",
     "output_type": "stream",
     "text": [
      "                                                                                                                       \r"
     ]
    },
    {
     "name": "stdout",
     "output_type": "stream",
     "text": [
      "Validation Loss: 5.7690, Validation Accuracy: 0.83%\n",
      "Sensitivity for layer _blocks.11._depthwise_conv: -2.86102294921875e-06\n",
      "Analyzing layer: _blocks.11._se_reduce\n"
     ]
    },
    {
     "name": "stderr",
     "output_type": "stream",
     "text": [
      "                                                                                                                       \r"
     ]
    },
    {
     "name": "stdout",
     "output_type": "stream",
     "text": [
      "Validation Loss: 5.7690, Validation Accuracy: 0.83%\n",
      "Pruning layer with pruning rate: 0.1\n"
     ]
    },
    {
     "name": "stderr",
     "output_type": "stream",
     "text": [
      "                                                                                                                       \r"
     ]
    },
    {
     "name": "stdout",
     "output_type": "stream",
     "text": [
      "Validation Loss: 5.7690, Validation Accuracy: 0.83%\n",
      "Sensitivity for layer _blocks.11._se_reduce: 1.430511474609375e-06\n",
      "Analyzing layer: _blocks.11._se_expand\n"
     ]
    },
    {
     "name": "stderr",
     "output_type": "stream",
     "text": [
      "                                                                                                                       \r"
     ]
    },
    {
     "name": "stdout",
     "output_type": "stream",
     "text": [
      "Validation Loss: 5.7690, Validation Accuracy: 0.83%\n",
      "Pruning layer with pruning rate: 0.1\n"
     ]
    },
    {
     "name": "stderr",
     "output_type": "stream",
     "text": [
      "                                                                                                                       \r"
     ]
    },
    {
     "name": "stdout",
     "output_type": "stream",
     "text": [
      "Validation Loss: 5.7689, Validation Accuracy: 0.83%\n",
      "Sensitivity for layer _blocks.11._se_expand: -2.8371810913085938e-05\n",
      "Analyzing layer: _blocks.11._project_conv\n"
     ]
    },
    {
     "name": "stderr",
     "output_type": "stream",
     "text": [
      "                                                                                                                       \r"
     ]
    },
    {
     "name": "stdout",
     "output_type": "stream",
     "text": [
      "Validation Loss: 5.7689, Validation Accuracy: 0.83%\n",
      "Pruning layer with pruning rate: 0.1\n"
     ]
    },
    {
     "name": "stderr",
     "output_type": "stream",
     "text": [
      "                                                                                                                       \r"
     ]
    },
    {
     "name": "stdout",
     "output_type": "stream",
     "text": [
      "Validation Loss: 5.7692, Validation Accuracy: 0.83%\n",
      "Sensitivity for layer _blocks.11._project_conv: 0.00023126602172851562\n",
      "Analyzing layer: _blocks.12._expand_conv\n"
     ]
    },
    {
     "name": "stderr",
     "output_type": "stream",
     "text": [
      "                                                                                                                       \r"
     ]
    },
    {
     "name": "stdout",
     "output_type": "stream",
     "text": [
      "Validation Loss: 5.7692, Validation Accuracy: 0.83%\n",
      "Pruning layer with pruning rate: 0.1\n"
     ]
    },
    {
     "name": "stderr",
     "output_type": "stream",
     "text": [
      "                                                                                                                       \r"
     ]
    },
    {
     "name": "stdout",
     "output_type": "stream",
     "text": [
      "Validation Loss: 5.7692, Validation Accuracy: 0.83%\n",
      "Sensitivity for layer _blocks.12._expand_conv: -1.0013580322265625e-05\n",
      "Analyzing layer: _blocks.12._depthwise_conv\n"
     ]
    },
    {
     "name": "stderr",
     "output_type": "stream",
     "text": [
      "                                                                                                                       \r"
     ]
    },
    {
     "name": "stdout",
     "output_type": "stream",
     "text": [
      "Validation Loss: 5.7692, Validation Accuracy: 0.83%\n",
      "Pruning layer with pruning rate: 0.1\n"
     ]
    },
    {
     "name": "stderr",
     "output_type": "stream",
     "text": [
      "                                                                                                                       \r"
     ]
    },
    {
     "name": "stdout",
     "output_type": "stream",
     "text": [
      "Validation Loss: 5.7692, Validation Accuracy: 0.83%\n",
      "Sensitivity for layer _blocks.12._depthwise_conv: -8.106231689453125e-06\n",
      "Analyzing layer: _blocks.12._se_reduce\n"
     ]
    },
    {
     "name": "stderr",
     "output_type": "stream",
     "text": [
      "                                                                                                                       \r"
     ]
    },
    {
     "name": "stdout",
     "output_type": "stream",
     "text": [
      "Validation Loss: 5.7692, Validation Accuracy: 0.83%\n",
      "Pruning layer with pruning rate: 0.1\n"
     ]
    },
    {
     "name": "stderr",
     "output_type": "stream",
     "text": [
      "                                                                                                                       \r"
     ]
    },
    {
     "name": "stdout",
     "output_type": "stream",
     "text": [
      "Validation Loss: 5.7692, Validation Accuracy: 0.83%\n",
      "Sensitivity for layer _blocks.12._se_reduce: -6.198883056640625e-06\n",
      "Analyzing layer: _blocks.12._se_expand\n"
     ]
    },
    {
     "name": "stderr",
     "output_type": "stream",
     "text": [
      "                                                                                                                       \r"
     ]
    },
    {
     "name": "stdout",
     "output_type": "stream",
     "text": [
      "Validation Loss: 5.7692, Validation Accuracy: 0.83%\n",
      "Pruning layer with pruning rate: 0.1\n"
     ]
    },
    {
     "name": "stderr",
     "output_type": "stream",
     "text": [
      "                                                                                                                       \r"
     ]
    },
    {
     "name": "stdout",
     "output_type": "stream",
     "text": [
      "Validation Loss: 5.7691, Validation Accuracy: 0.83%\n",
      "Sensitivity for layer _blocks.12._se_expand: -5.9604644775390625e-06\n",
      "Analyzing layer: _blocks.12._project_conv\n"
     ]
    },
    {
     "name": "stderr",
     "output_type": "stream",
     "text": [
      "                                                                                                                       \r"
     ]
    },
    {
     "name": "stdout",
     "output_type": "stream",
     "text": [
      "Validation Loss: 5.7691, Validation Accuracy: 0.83%\n",
      "Pruning layer with pruning rate: 0.1\n"
     ]
    },
    {
     "name": "stderr",
     "output_type": "stream",
     "text": [
      "                                                                                                                       \r"
     ]
    },
    {
     "name": "stdout",
     "output_type": "stream",
     "text": [
      "Validation Loss: 5.7692, Validation Accuracy: 0.83%\n",
      "Sensitivity for layer _blocks.12._project_conv: 9.059906005859375e-06\n",
      "Analyzing layer: _blocks.13._expand_conv\n"
     ]
    },
    {
     "name": "stderr",
     "output_type": "stream",
     "text": [
      "                                                                                                                       \r"
     ]
    },
    {
     "name": "stdout",
     "output_type": "stream",
     "text": [
      "Validation Loss: 5.7692, Validation Accuracy: 0.83%\n",
      "Pruning layer with pruning rate: 0.1\n"
     ]
    },
    {
     "name": "stderr",
     "output_type": "stream",
     "text": [
      "                                                                                                                       \r"
     ]
    },
    {
     "name": "stdout",
     "output_type": "stream",
     "text": [
      "Validation Loss: 5.7692, Validation Accuracy: 0.83%\n",
      "Sensitivity for layer _blocks.13._expand_conv: 1.6450881958007812e-05\n",
      "Analyzing layer: _blocks.13._depthwise_conv\n"
     ]
    },
    {
     "name": "stderr",
     "output_type": "stream",
     "text": [
      "                                                                                                                       \r"
     ]
    },
    {
     "name": "stdout",
     "output_type": "stream",
     "text": [
      "Validation Loss: 5.7692, Validation Accuracy: 0.83%\n",
      "Pruning layer with pruning rate: 0.1\n"
     ]
    },
    {
     "name": "stderr",
     "output_type": "stream",
     "text": [
      "                                                                                                                       \r"
     ]
    },
    {
     "name": "stdout",
     "output_type": "stream",
     "text": [
      "Validation Loss: 5.7692, Validation Accuracy: 0.83%\n",
      "Sensitivity for layer _blocks.13._depthwise_conv: -1.0728836059570312e-05\n",
      "Analyzing layer: _blocks.13._se_reduce\n"
     ]
    },
    {
     "name": "stderr",
     "output_type": "stream",
     "text": [
      "                                                                                                                       \r"
     ]
    },
    {
     "name": "stdout",
     "output_type": "stream",
     "text": [
      "Validation Loss: 5.7692, Validation Accuracy: 0.83%\n",
      "Pruning layer with pruning rate: 0.1\n"
     ]
    },
    {
     "name": "stderr",
     "output_type": "stream",
     "text": [
      "                                                                                                                       \r"
     ]
    },
    {
     "name": "stdout",
     "output_type": "stream",
     "text": [
      "Validation Loss: 5.7692, Validation Accuracy: 0.83%\n",
      "Sensitivity for layer _blocks.13._se_reduce: 4.76837158203125e-06\n",
      "Analyzing layer: _blocks.13._se_expand\n"
     ]
    },
    {
     "name": "stderr",
     "output_type": "stream",
     "text": [
      "                                                                                                                       \r"
     ]
    },
    {
     "name": "stdout",
     "output_type": "stream",
     "text": [
      "Validation Loss: 5.7692, Validation Accuracy: 0.83%\n",
      "Pruning layer with pruning rate: 0.1\n"
     ]
    },
    {
     "name": "stderr",
     "output_type": "stream",
     "text": [
      "                                                                                                                       \r"
     ]
    },
    {
     "name": "stdout",
     "output_type": "stream",
     "text": [
      "Validation Loss: 5.7692, Validation Accuracy: 0.83%\n",
      "Sensitivity for layer _blocks.13._se_expand: 3.5762786865234375e-06\n",
      "Analyzing layer: _blocks.13._project_conv\n"
     ]
    },
    {
     "name": "stderr",
     "output_type": "stream",
     "text": [
      "                                                                                                                       \r"
     ]
    },
    {
     "name": "stdout",
     "output_type": "stream",
     "text": [
      "Validation Loss: 5.7692, Validation Accuracy: 0.83%\n",
      "Pruning layer with pruning rate: 0.1\n"
     ]
    },
    {
     "name": "stderr",
     "output_type": "stream",
     "text": [
      "                                                                                                                       \r"
     ]
    },
    {
     "name": "stdout",
     "output_type": "stream",
     "text": [
      "Validation Loss: 5.7692, Validation Accuracy: 0.83%\n",
      "Sensitivity for layer _blocks.13._project_conv: -1.9073486328125e-06\n",
      "Analyzing layer: _blocks.14._expand_conv\n"
     ]
    },
    {
     "name": "stderr",
     "output_type": "stream",
     "text": [
      "                                                                                                                       \r"
     ]
    },
    {
     "name": "stdout",
     "output_type": "stream",
     "text": [
      "Validation Loss: 5.7692, Validation Accuracy: 0.83%\n",
      "Pruning layer with pruning rate: 0.1\n"
     ]
    },
    {
     "name": "stderr",
     "output_type": "stream",
     "text": [
      "                                                                                                                       \r"
     ]
    },
    {
     "name": "stdout",
     "output_type": "stream",
     "text": [
      "Validation Loss: 5.7692, Validation Accuracy: 0.83%\n",
      "Sensitivity for layer _blocks.14._expand_conv: 8.821487426757812e-06\n",
      "Analyzing layer: _blocks.14._depthwise_conv\n"
     ]
    },
    {
     "name": "stderr",
     "output_type": "stream",
     "text": [
      "                                                                                                                       \r"
     ]
    },
    {
     "name": "stdout",
     "output_type": "stream",
     "text": [
      "Validation Loss: 5.7692, Validation Accuracy: 0.83%\n",
      "Pruning layer with pruning rate: 0.1\n"
     ]
    },
    {
     "name": "stderr",
     "output_type": "stream",
     "text": [
      "                                                                                                                       \r"
     ]
    },
    {
     "name": "stdout",
     "output_type": "stream",
     "text": [
      "Validation Loss: 5.7692, Validation Accuracy: 0.83%\n",
      "Sensitivity for layer _blocks.14._depthwise_conv: -1.33514404296875e-05\n",
      "Analyzing layer: _blocks.14._se_reduce\n"
     ]
    },
    {
     "name": "stderr",
     "output_type": "stream",
     "text": [
      "                                                                                                                       \r"
     ]
    },
    {
     "name": "stdout",
     "output_type": "stream",
     "text": [
      "Validation Loss: 5.7692, Validation Accuracy: 0.83%\n",
      "Pruning layer with pruning rate: 0.1\n"
     ]
    },
    {
     "name": "stderr",
     "output_type": "stream",
     "text": [
      "                                                                                                                       \r"
     ]
    },
    {
     "name": "stdout",
     "output_type": "stream",
     "text": [
      "Validation Loss: 5.7691, Validation Accuracy: 0.83%\n",
      "Sensitivity for layer _blocks.14._se_reduce: -1.7642974853515625e-05\n",
      "Analyzing layer: _blocks.14._se_expand\n"
     ]
    },
    {
     "name": "stderr",
     "output_type": "stream",
     "text": [
      "                                                                                                                       \r"
     ]
    },
    {
     "name": "stdout",
     "output_type": "stream",
     "text": [
      "Validation Loss: 5.7691, Validation Accuracy: 0.83%\n",
      "Pruning layer with pruning rate: 0.1\n"
     ]
    },
    {
     "name": "stderr",
     "output_type": "stream",
     "text": [
      "                                                                                                                       \r"
     ]
    },
    {
     "name": "stdout",
     "output_type": "stream",
     "text": [
      "Validation Loss: 5.7692, Validation Accuracy: 0.83%\n",
      "Sensitivity for layer _blocks.14._se_expand: 3.218650817871094e-05\n",
      "Analyzing layer: _blocks.14._project_conv\n"
     ]
    },
    {
     "name": "stderr",
     "output_type": "stream",
     "text": [
      "                                                                                                                       \r"
     ]
    },
    {
     "name": "stdout",
     "output_type": "stream",
     "text": [
      "Validation Loss: 5.7692, Validation Accuracy: 0.83%\n",
      "Pruning layer with pruning rate: 0.1\n"
     ]
    },
    {
     "name": "stderr",
     "output_type": "stream",
     "text": [
      "                                                                                                                       \r"
     ]
    },
    {
     "name": "stdout",
     "output_type": "stream",
     "text": [
      "Validation Loss: 5.7691, Validation Accuracy: 0.83%\n",
      "Sensitivity for layer _blocks.14._project_conv: -3.886222839355469e-05\n",
      "Analyzing layer: _blocks.15._expand_conv\n"
     ]
    },
    {
     "name": "stderr",
     "output_type": "stream",
     "text": [
      "                                                                                                                       \r"
     ]
    },
    {
     "name": "stdout",
     "output_type": "stream",
     "text": [
      "Validation Loss: 5.7691, Validation Accuracy: 0.83%\n",
      "Pruning layer with pruning rate: 0.1\n"
     ]
    },
    {
     "name": "stderr",
     "output_type": "stream",
     "text": [
      "                                                                                                                       \r"
     ]
    },
    {
     "name": "stdout",
     "output_type": "stream",
     "text": [
      "Validation Loss: 5.7691, Validation Accuracy: 0.83%\n",
      "Sensitivity for layer _blocks.15._expand_conv: -2.384185791015625e-07\n",
      "Analyzing layer: _blocks.15._depthwise_conv\n"
     ]
    },
    {
     "name": "stderr",
     "output_type": "stream",
     "text": [
      "                                                                                                                       \r"
     ]
    },
    {
     "name": "stdout",
     "output_type": "stream",
     "text": [
      "Validation Loss: 5.7691, Validation Accuracy: 0.83%\n",
      "Pruning layer with pruning rate: 0.1\n"
     ]
    },
    {
     "name": "stderr",
     "output_type": "stream",
     "text": [
      "                                                                                                                       \r"
     ]
    },
    {
     "name": "stdout",
     "output_type": "stream",
     "text": [
      "Validation Loss: 5.7691, Validation Accuracy: 0.83%\n",
      "Sensitivity for layer _blocks.15._depthwise_conv: -8.821487426757812e-06\n",
      "Analyzing layer: _blocks.15._se_reduce\n"
     ]
    },
    {
     "name": "stderr",
     "output_type": "stream",
     "text": [
      "                                                                                                                       \r"
     ]
    },
    {
     "name": "stdout",
     "output_type": "stream",
     "text": [
      "Validation Loss: 5.7691, Validation Accuracy: 0.83%\n",
      "Pruning layer with pruning rate: 0.1\n"
     ]
    },
    {
     "name": "stderr",
     "output_type": "stream",
     "text": [
      "                                                                                                                       \r"
     ]
    },
    {
     "name": "stdout",
     "output_type": "stream",
     "text": [
      "Validation Loss: 5.7691, Validation Accuracy: 0.83%\n",
      "Sensitivity for layer _blocks.15._se_reduce: 9.5367431640625e-07\n",
      "Analyzing layer: _blocks.15._se_expand\n"
     ]
    },
    {
     "name": "stderr",
     "output_type": "stream",
     "text": [
      "                                                                                                                       \r"
     ]
    },
    {
     "name": "stdout",
     "output_type": "stream",
     "text": [
      "Validation Loss: 5.7691, Validation Accuracy: 0.83%\n",
      "Pruning layer with pruning rate: 0.1\n"
     ]
    },
    {
     "name": "stderr",
     "output_type": "stream",
     "text": [
      "                                                                                                                       \r"
     ]
    },
    {
     "name": "stdout",
     "output_type": "stream",
     "text": [
      "Validation Loss: 5.7691, Validation Accuracy: 0.83%\n",
      "Sensitivity for layer _blocks.15._se_expand: 3.5762786865234375e-06\n",
      "Analyzing layer: _blocks.15._project_conv\n"
     ]
    },
    {
     "name": "stderr",
     "output_type": "stream",
     "text": [
      "                                                                                                                       \r"
     ]
    },
    {
     "name": "stdout",
     "output_type": "stream",
     "text": [
      "Validation Loss: 5.7691, Validation Accuracy: 0.83%\n",
      "Pruning layer with pruning rate: 0.1\n"
     ]
    },
    {
     "name": "stderr",
     "output_type": "stream",
     "text": [
      "                                                                                                                       \r"
     ]
    },
    {
     "name": "stdout",
     "output_type": "stream",
     "text": [
      "Validation Loss: 5.7692, Validation Accuracy: 0.83%\n",
      "Sensitivity for layer _blocks.15._project_conv: 2.1457672119140625e-05\n",
      "Analyzing layer: _blocks.16._expand_conv\n"
     ]
    },
    {
     "name": "stderr",
     "output_type": "stream",
     "text": [
      "                                                                                                                       \r"
     ]
    },
    {
     "name": "stdout",
     "output_type": "stream",
     "text": [
      "Validation Loss: 5.7692, Validation Accuracy: 0.83%\n",
      "Pruning layer with pruning rate: 0.1\n"
     ]
    },
    {
     "name": "stderr",
     "output_type": "stream",
     "text": [
      "                                                                                                                       \r"
     ]
    },
    {
     "name": "stdout",
     "output_type": "stream",
     "text": [
      "Validation Loss: 5.7691, Validation Accuracy: 0.83%\n",
      "Sensitivity for layer _blocks.16._expand_conv: -7.62939453125e-06\n",
      "Analyzing layer: _blocks.16._depthwise_conv\n"
     ]
    },
    {
     "name": "stderr",
     "output_type": "stream",
     "text": [
      "                                                                                                                       \r"
     ]
    },
    {
     "name": "stdout",
     "output_type": "stream",
     "text": [
      "Validation Loss: 5.7691, Validation Accuracy: 0.83%\n",
      "Pruning layer with pruning rate: 0.1\n"
     ]
    },
    {
     "name": "stderr",
     "output_type": "stream",
     "text": [
      "                                                                                                                       \r"
     ]
    },
    {
     "name": "stdout",
     "output_type": "stream",
     "text": [
      "Validation Loss: 5.7691, Validation Accuracy: 0.83%\n",
      "Sensitivity for layer _blocks.16._depthwise_conv: -5.245208740234375e-06\n",
      "Analyzing layer: _blocks.16._se_reduce\n"
     ]
    },
    {
     "name": "stderr",
     "output_type": "stream",
     "text": [
      "                                                                                                                       \r"
     ]
    },
    {
     "name": "stdout",
     "output_type": "stream",
     "text": [
      "Validation Loss: 5.7691, Validation Accuracy: 0.83%\n",
      "Pruning layer with pruning rate: 0.1\n"
     ]
    },
    {
     "name": "stderr",
     "output_type": "stream",
     "text": [
      "                                                                                                                       \r"
     ]
    },
    {
     "name": "stdout",
     "output_type": "stream",
     "text": [
      "Validation Loss: 5.7692, Validation Accuracy: 0.83%\n",
      "Sensitivity for layer _blocks.16._se_reduce: 8.106231689453125e-06\n",
      "Analyzing layer: _blocks.16._se_expand\n"
     ]
    },
    {
     "name": "stderr",
     "output_type": "stream",
     "text": [
      "                                                                                                                       \r"
     ]
    },
    {
     "name": "stdout",
     "output_type": "stream",
     "text": [
      "Validation Loss: 5.7692, Validation Accuracy: 0.83%\n",
      "Pruning layer with pruning rate: 0.1\n"
     ]
    },
    {
     "name": "stderr",
     "output_type": "stream",
     "text": [
      "                                                                                                                       \r"
     ]
    },
    {
     "name": "stdout",
     "output_type": "stream",
     "text": [
      "Validation Loss: 5.7691, Validation Accuracy: 0.83%\n",
      "Sensitivity for layer _blocks.16._se_expand: -3.814697265625e-06\n",
      "Analyzing layer: _blocks.16._project_conv\n"
     ]
    },
    {
     "name": "stderr",
     "output_type": "stream",
     "text": [
      "                                                                                                                       \r"
     ]
    },
    {
     "name": "stdout",
     "output_type": "stream",
     "text": [
      "Validation Loss: 5.7691, Validation Accuracy: 0.83%\n",
      "Pruning layer with pruning rate: 0.1\n"
     ]
    },
    {
     "name": "stderr",
     "output_type": "stream",
     "text": [
      "                                                                                                                       \r"
     ]
    },
    {
     "name": "stdout",
     "output_type": "stream",
     "text": [
      "Validation Loss: 5.7691, Validation Accuracy: 0.83%\n",
      "Sensitivity for layer _blocks.16._project_conv: -2.47955322265625e-05\n",
      "Analyzing layer: _blocks.17._expand_conv\n"
     ]
    },
    {
     "name": "stderr",
     "output_type": "stream",
     "text": [
      "                                                                                                                       \r"
     ]
    },
    {
     "name": "stdout",
     "output_type": "stream",
     "text": [
      "Validation Loss: 5.7691, Validation Accuracy: 0.83%\n",
      "Pruning layer with pruning rate: 0.1\n"
     ]
    },
    {
     "name": "stderr",
     "output_type": "stream",
     "text": [
      "                                                                                                                       \r"
     ]
    },
    {
     "name": "stdout",
     "output_type": "stream",
     "text": [
      "Validation Loss: 5.7691, Validation Accuracy: 0.83%\n",
      "Sensitivity for layer _blocks.17._expand_conv: 2.5510787963867188e-05\n",
      "Analyzing layer: _blocks.17._depthwise_conv\n"
     ]
    },
    {
     "name": "stderr",
     "output_type": "stream",
     "text": [
      "                                                                                                                       \r"
     ]
    },
    {
     "name": "stdout",
     "output_type": "stream",
     "text": [
      "Validation Loss: 5.7691, Validation Accuracy: 0.83%\n",
      "Pruning layer with pruning rate: 0.1\n"
     ]
    },
    {
     "name": "stderr",
     "output_type": "stream",
     "text": [
      "                                                                                                                       \r"
     ]
    },
    {
     "name": "stdout",
     "output_type": "stream",
     "text": [
      "Validation Loss: 5.7691, Validation Accuracy: 0.83%\n",
      "Sensitivity for layer _blocks.17._depthwise_conv: 0.0\n",
      "Analyzing layer: _blocks.17._se_reduce\n"
     ]
    },
    {
     "name": "stderr",
     "output_type": "stream",
     "text": [
      "                                                                                                                       \r"
     ]
    },
    {
     "name": "stdout",
     "output_type": "stream",
     "text": [
      "Validation Loss: 5.7691, Validation Accuracy: 0.83%\n",
      "Pruning layer with pruning rate: 0.1\n"
     ]
    },
    {
     "name": "stderr",
     "output_type": "stream",
     "text": [
      "                                                                                                                       \r"
     ]
    },
    {
     "name": "stdout",
     "output_type": "stream",
     "text": [
      "Validation Loss: 5.7691, Validation Accuracy: 0.83%\n",
      "Sensitivity for layer _blocks.17._se_reduce: -3.814697265625e-06\n",
      "Analyzing layer: _blocks.17._se_expand\n"
     ]
    },
    {
     "name": "stderr",
     "output_type": "stream",
     "text": [
      "                                                                                                                       \r"
     ]
    },
    {
     "name": "stdout",
     "output_type": "stream",
     "text": [
      "Validation Loss: 5.7691, Validation Accuracy: 0.83%\n",
      "Pruning layer with pruning rate: 0.1\n"
     ]
    },
    {
     "name": "stderr",
     "output_type": "stream",
     "text": [
      "                                                                                                                       \r"
     ]
    },
    {
     "name": "stdout",
     "output_type": "stream",
     "text": [
      "Validation Loss: 5.7691, Validation Accuracy: 0.83%\n",
      "Sensitivity for layer _blocks.17._se_expand: -4.291534423828125e-06\n",
      "Analyzing layer: _blocks.17._project_conv\n"
     ]
    },
    {
     "name": "stderr",
     "output_type": "stream",
     "text": [
      "                                                                                                                       \r"
     ]
    },
    {
     "name": "stdout",
     "output_type": "stream",
     "text": [
      "Validation Loss: 5.7691, Validation Accuracy: 0.83%\n",
      "Pruning layer with pruning rate: 0.1\n"
     ]
    },
    {
     "name": "stderr",
     "output_type": "stream",
     "text": [
      "                                                                                                                       \r"
     ]
    },
    {
     "name": "stdout",
     "output_type": "stream",
     "text": [
      "Validation Loss: 5.7692, Validation Accuracy: 0.83%\n",
      "Sensitivity for layer _blocks.17._project_conv: 2.4318695068359375e-05\n",
      "Analyzing layer: _blocks.18._expand_conv\n"
     ]
    },
    {
     "name": "stderr",
     "output_type": "stream",
     "text": [
      "                                                                                                                       \r"
     ]
    },
    {
     "name": "stdout",
     "output_type": "stream",
     "text": [
      "Validation Loss: 5.7692, Validation Accuracy: 0.83%\n",
      "Pruning layer with pruning rate: 0.1\n"
     ]
    },
    {
     "name": "stderr",
     "output_type": "stream",
     "text": [
      "                                                                                                                       \r"
     ]
    },
    {
     "name": "stdout",
     "output_type": "stream",
     "text": [
      "Validation Loss: 5.7692, Validation Accuracy: 0.83%\n",
      "Sensitivity for layer _blocks.18._expand_conv: 2.384185791015625e-07\n",
      "Analyzing layer: _blocks.18._depthwise_conv\n"
     ]
    },
    {
     "name": "stderr",
     "output_type": "stream",
     "text": [
      "                                                                                                                       \r"
     ]
    },
    {
     "name": "stdout",
     "output_type": "stream",
     "text": [
      "Validation Loss: 5.7692, Validation Accuracy: 0.83%\n",
      "Pruning layer with pruning rate: 0.1\n"
     ]
    },
    {
     "name": "stderr",
     "output_type": "stream",
     "text": [
      "                                                                                                                       \r"
     ]
    },
    {
     "name": "stdout",
     "output_type": "stream",
     "text": [
      "Validation Loss: 5.7691, Validation Accuracy: 0.83%\n",
      "Sensitivity for layer _blocks.18._depthwise_conv: -0.00011563301086425781\n",
      "Analyzing layer: _blocks.18._se_reduce\n"
     ]
    },
    {
     "name": "stderr",
     "output_type": "stream",
     "text": [
      "                                                                                                                       \r"
     ]
    },
    {
     "name": "stdout",
     "output_type": "stream",
     "text": [
      "Validation Loss: 5.7691, Validation Accuracy: 0.83%\n",
      "Pruning layer with pruning rate: 0.1\n"
     ]
    },
    {
     "name": "stderr",
     "output_type": "stream",
     "text": [
      "                                                                                                                       \r"
     ]
    },
    {
     "name": "stdout",
     "output_type": "stream",
     "text": [
      "Validation Loss: 5.7691, Validation Accuracy: 0.83%\n",
      "Sensitivity for layer _blocks.18._se_reduce: 6.67572021484375e-06\n",
      "Analyzing layer: _blocks.18._se_expand\n"
     ]
    },
    {
     "name": "stderr",
     "output_type": "stream",
     "text": [
      "                                                                                                                       \r"
     ]
    },
    {
     "name": "stdout",
     "output_type": "stream",
     "text": [
      "Validation Loss: 5.7691, Validation Accuracy: 0.83%\n",
      "Pruning layer with pruning rate: 0.1\n"
     ]
    },
    {
     "name": "stderr",
     "output_type": "stream",
     "text": [
      "                                                                                                                       \r"
     ]
    },
    {
     "name": "stdout",
     "output_type": "stream",
     "text": [
      "Validation Loss: 5.7691, Validation Accuracy: 0.83%\n",
      "Sensitivity for layer _blocks.18._se_expand: 7.62939453125e-06\n",
      "Analyzing layer: _blocks.18._project_conv\n"
     ]
    },
    {
     "name": "stderr",
     "output_type": "stream",
     "text": [
      "                                                                                                                       \r"
     ]
    },
    {
     "name": "stdout",
     "output_type": "stream",
     "text": [
      "Validation Loss: 5.7691, Validation Accuracy: 0.83%\n",
      "Pruning layer with pruning rate: 0.1\n"
     ]
    },
    {
     "name": "stderr",
     "output_type": "stream",
     "text": [
      "                                                                                                                       \r"
     ]
    },
    {
     "name": "stdout",
     "output_type": "stream",
     "text": [
      "Validation Loss: 5.7690, Validation Accuracy: 0.83%\n",
      "Sensitivity for layer _blocks.18._project_conv: -3.361701965332031e-05\n",
      "Analyzing layer: _blocks.19._expand_conv\n"
     ]
    },
    {
     "name": "stderr",
     "output_type": "stream",
     "text": [
      "                                                                                                                       \r"
     ]
    },
    {
     "name": "stdout",
     "output_type": "stream",
     "text": [
      "Validation Loss: 5.7690, Validation Accuracy: 0.83%\n",
      "Pruning layer with pruning rate: 0.1\n"
     ]
    },
    {
     "name": "stderr",
     "output_type": "stream",
     "text": [
      "                                                                                                                       \r"
     ]
    },
    {
     "name": "stdout",
     "output_type": "stream",
     "text": [
      "Validation Loss: 5.7690, Validation Accuracy: 0.83%\n",
      "Sensitivity for layer _blocks.19._expand_conv: -3.62396240234375e-05\n",
      "Analyzing layer: _blocks.19._depthwise_conv\n"
     ]
    },
    {
     "name": "stderr",
     "output_type": "stream",
     "text": [
      "                                                                                                                       \r"
     ]
    },
    {
     "name": "stdout",
     "output_type": "stream",
     "text": [
      "Validation Loss: 5.7690, Validation Accuracy: 0.83%\n",
      "Pruning layer with pruning rate: 0.1\n"
     ]
    },
    {
     "name": "stderr",
     "output_type": "stream",
     "text": [
      "                                                                                                                       \r"
     ]
    },
    {
     "name": "stdout",
     "output_type": "stream",
     "text": [
      "Validation Loss: 5.7690, Validation Accuracy: 0.83%\n",
      "Sensitivity for layer _blocks.19._depthwise_conv: 9.775161743164062e-06\n",
      "Analyzing layer: _blocks.19._se_reduce\n"
     ]
    },
    {
     "name": "stderr",
     "output_type": "stream",
     "text": [
      "                                                                                                                       \r"
     ]
    },
    {
     "name": "stdout",
     "output_type": "stream",
     "text": [
      "Validation Loss: 5.7690, Validation Accuracy: 0.83%\n",
      "Pruning layer with pruning rate: 0.1\n"
     ]
    },
    {
     "name": "stderr",
     "output_type": "stream",
     "text": [
      "                                                                                                                       \r"
     ]
    },
    {
     "name": "stdout",
     "output_type": "stream",
     "text": [
      "Validation Loss: 5.7690, Validation Accuracy: 0.83%\n",
      "Sensitivity for layer _blocks.19._se_reduce: -1.71661376953125e-05\n",
      "Analyzing layer: _blocks.19._se_expand\n"
     ]
    },
    {
     "name": "stderr",
     "output_type": "stream",
     "text": [
      "                                                                                                                       \r"
     ]
    },
    {
     "name": "stdout",
     "output_type": "stream",
     "text": [
      "Validation Loss: 5.7690, Validation Accuracy: 0.83%\n",
      "Pruning layer with pruning rate: 0.1\n"
     ]
    },
    {
     "name": "stderr",
     "output_type": "stream",
     "text": [
      "                                                                                                                       \r"
     ]
    },
    {
     "name": "stdout",
     "output_type": "stream",
     "text": [
      "Validation Loss: 5.7690, Validation Accuracy: 0.83%\n",
      "Sensitivity for layer _blocks.19._se_expand: -4.76837158203125e-06\n",
      "Analyzing layer: _blocks.19._project_conv\n"
     ]
    },
    {
     "name": "stderr",
     "output_type": "stream",
     "text": [
      "                                                                                                                       \r"
     ]
    },
    {
     "name": "stdout",
     "output_type": "stream",
     "text": [
      "Validation Loss: 5.7690, Validation Accuracy: 0.83%\n",
      "Pruning layer with pruning rate: 0.1\n"
     ]
    },
    {
     "name": "stderr",
     "output_type": "stream",
     "text": [
      "                                                                                                                       \r"
     ]
    },
    {
     "name": "stdout",
     "output_type": "stream",
     "text": [
      "Validation Loss: 5.7690, Validation Accuracy: 0.83%\n",
      "Sensitivity for layer _blocks.19._project_conv: 1.52587890625e-05\n",
      "Analyzing layer: _blocks.20._expand_conv\n"
     ]
    },
    {
     "name": "stderr",
     "output_type": "stream",
     "text": [
      "                                                                                                                       \r"
     ]
    },
    {
     "name": "stdout",
     "output_type": "stream",
     "text": [
      "Validation Loss: 5.7690, Validation Accuracy: 0.83%\n",
      "Pruning layer with pruning rate: 0.1\n"
     ]
    },
    {
     "name": "stderr",
     "output_type": "stream",
     "text": [
      "                                                                                                                       \r"
     ]
    },
    {
     "name": "stdout",
     "output_type": "stream",
     "text": [
      "Validation Loss: 5.7690, Validation Accuracy: 0.83%\n",
      "Sensitivity for layer _blocks.20._expand_conv: -1.1444091796875e-05\n",
      "Analyzing layer: _blocks.20._depthwise_conv\n"
     ]
    },
    {
     "name": "stderr",
     "output_type": "stream",
     "text": [
      "                                                                                                                       \r"
     ]
    },
    {
     "name": "stdout",
     "output_type": "stream",
     "text": [
      "Validation Loss: 5.7690, Validation Accuracy: 0.83%\n",
      "Pruning layer with pruning rate: 0.1\n"
     ]
    },
    {
     "name": "stderr",
     "output_type": "stream",
     "text": [
      "                                                                                                                       \r"
     ]
    },
    {
     "name": "stdout",
     "output_type": "stream",
     "text": [
      "Validation Loss: 5.7690, Validation Accuracy: 0.83%\n",
      "Sensitivity for layer _blocks.20._depthwise_conv: 1.1682510375976562e-05\n",
      "Analyzing layer: _blocks.20._se_reduce\n"
     ]
    },
    {
     "name": "stderr",
     "output_type": "stream",
     "text": [
      "                                                                                                                       \r"
     ]
    },
    {
     "name": "stdout",
     "output_type": "stream",
     "text": [
      "Validation Loss: 5.7690, Validation Accuracy: 0.83%\n",
      "Pruning layer with pruning rate: 0.1\n"
     ]
    },
    {
     "name": "stderr",
     "output_type": "stream",
     "text": [
      "                                                                                                                       \r"
     ]
    },
    {
     "name": "stdout",
     "output_type": "stream",
     "text": [
      "Validation Loss: 5.7690, Validation Accuracy: 0.83%\n",
      "Sensitivity for layer _blocks.20._se_reduce: -4.291534423828125e-06\n",
      "Analyzing layer: _blocks.20._se_expand\n"
     ]
    },
    {
     "name": "stderr",
     "output_type": "stream",
     "text": [
      "                                                                                                                       \r"
     ]
    },
    {
     "name": "stdout",
     "output_type": "stream",
     "text": [
      "Validation Loss: 5.7690, Validation Accuracy: 0.83%\n",
      "Pruning layer with pruning rate: 0.1\n"
     ]
    },
    {
     "name": "stderr",
     "output_type": "stream",
     "text": [
      "                                                                                                                       \r"
     ]
    },
    {
     "name": "stdout",
     "output_type": "stream",
     "text": [
      "Validation Loss: 5.7690, Validation Accuracy: 0.83%\n",
      "Sensitivity for layer _blocks.20._se_expand: -4.5299530029296875e-06\n",
      "Analyzing layer: _blocks.20._project_conv\n"
     ]
    },
    {
     "name": "stderr",
     "output_type": "stream",
     "text": [
      "                                                                                                                       \r"
     ]
    },
    {
     "name": "stdout",
     "output_type": "stream",
     "text": [
      "Validation Loss: 5.7690, Validation Accuracy: 0.83%\n",
      "Pruning layer with pruning rate: 0.1\n"
     ]
    },
    {
     "name": "stderr",
     "output_type": "stream",
     "text": [
      "                                                                                                                       \r"
     ]
    },
    {
     "name": "stdout",
     "output_type": "stream",
     "text": [
      "Validation Loss: 5.7690, Validation Accuracy: 0.83%\n",
      "Sensitivity for layer _blocks.20._project_conv: -1.9073486328125e-06\n",
      "Analyzing layer: _blocks.21._expand_conv\n"
     ]
    },
    {
     "name": "stderr",
     "output_type": "stream",
     "text": [
      "                                                                                                                       \r"
     ]
    },
    {
     "name": "stdout",
     "output_type": "stream",
     "text": [
      "Validation Loss: 5.7690, Validation Accuracy: 0.83%\n",
      "Pruning layer with pruning rate: 0.1\n"
     ]
    },
    {
     "name": "stderr",
     "output_type": "stream",
     "text": [
      "                                                                                                                       \r"
     ]
    },
    {
     "name": "stdout",
     "output_type": "stream",
     "text": [
      "Validation Loss: 5.7690, Validation Accuracy: 0.83%\n",
      "Sensitivity for layer _blocks.21._expand_conv: -7.3909759521484375e-06\n",
      "Analyzing layer: _blocks.21._depthwise_conv\n"
     ]
    },
    {
     "name": "stderr",
     "output_type": "stream",
     "text": [
      "                                                                                                                       \r"
     ]
    },
    {
     "name": "stdout",
     "output_type": "stream",
     "text": [
      "Validation Loss: 5.7690, Validation Accuracy: 0.83%\n",
      "Pruning layer with pruning rate: 0.1\n"
     ]
    },
    {
     "name": "stderr",
     "output_type": "stream",
     "text": [
      "                                                                                                                       \r"
     ]
    },
    {
     "name": "stdout",
     "output_type": "stream",
     "text": [
      "Validation Loss: 5.7690, Validation Accuracy: 0.83%\n",
      "Sensitivity for layer _blocks.21._depthwise_conv: -3.5762786865234375e-06\n",
      "Analyzing layer: _blocks.21._se_reduce\n"
     ]
    },
    {
     "name": "stderr",
     "output_type": "stream",
     "text": [
      "                                                                                                                       \r"
     ]
    },
    {
     "name": "stdout",
     "output_type": "stream",
     "text": [
      "Validation Loss: 5.7690, Validation Accuracy: 0.83%\n",
      "Pruning layer with pruning rate: 0.1\n"
     ]
    },
    {
     "name": "stderr",
     "output_type": "stream",
     "text": [
      "                                                                                                                       \r"
     ]
    },
    {
     "name": "stdout",
     "output_type": "stream",
     "text": [
      "Validation Loss: 5.7690, Validation Accuracy: 0.83%\n",
      "Sensitivity for layer _blocks.21._se_reduce: 9.5367431640625e-07\n",
      "Analyzing layer: _blocks.21._se_expand\n"
     ]
    },
    {
     "name": "stderr",
     "output_type": "stream",
     "text": [
      "                                                                                                                       \r"
     ]
    },
    {
     "name": "stdout",
     "output_type": "stream",
     "text": [
      "Validation Loss: 5.7690, Validation Accuracy: 0.83%\n",
      "Pruning layer with pruning rate: 0.1\n"
     ]
    },
    {
     "name": "stderr",
     "output_type": "stream",
     "text": [
      "                                                                                                                       \r"
     ]
    },
    {
     "name": "stdout",
     "output_type": "stream",
     "text": [
      "Validation Loss: 5.7690, Validation Accuracy: 0.83%\n",
      "Sensitivity for layer _blocks.21._se_expand: 5.7220458984375e-06\n",
      "Analyzing layer: _blocks.21._project_conv\n"
     ]
    },
    {
     "name": "stderr",
     "output_type": "stream",
     "text": [
      "                                                                                                                       \r"
     ]
    },
    {
     "name": "stdout",
     "output_type": "stream",
     "text": [
      "Validation Loss: 5.7690, Validation Accuracy: 0.83%\n",
      "Pruning layer with pruning rate: 0.1\n"
     ]
    },
    {
     "name": "stderr",
     "output_type": "stream",
     "text": [
      "                                                                                                                       \r"
     ]
    },
    {
     "name": "stdout",
     "output_type": "stream",
     "text": [
      "Validation Loss: 5.7690, Validation Accuracy: 0.83%\n",
      "Sensitivity for layer _blocks.21._project_conv: -1.33514404296875e-05\n",
      "Analyzing layer: _blocks.22._expand_conv\n"
     ]
    },
    {
     "name": "stderr",
     "output_type": "stream",
     "text": [
      "                                                                                                                       \r"
     ]
    },
    {
     "name": "stdout",
     "output_type": "stream",
     "text": [
      "Validation Loss: 5.7690, Validation Accuracy: 0.83%\n",
      "Pruning layer with pruning rate: 0.1\n"
     ]
    },
    {
     "name": "stderr",
     "output_type": "stream",
     "text": [
      "                                                                                                                       \r"
     ]
    },
    {
     "name": "stdout",
     "output_type": "stream",
     "text": [
      "Validation Loss: 5.7690, Validation Accuracy: 0.83%\n",
      "Sensitivity for layer _blocks.22._expand_conv: -2.1457672119140625e-06\n",
      "Analyzing layer: _blocks.22._depthwise_conv\n"
     ]
    },
    {
     "name": "stderr",
     "output_type": "stream",
     "text": [
      "                                                                                                                       \r"
     ]
    },
    {
     "name": "stdout",
     "output_type": "stream",
     "text": [
      "Validation Loss: 5.7690, Validation Accuracy: 0.83%\n",
      "Pruning layer with pruning rate: 0.1\n"
     ]
    },
    {
     "name": "stderr",
     "output_type": "stream",
     "text": [
      "                                                                                                                       \r"
     ]
    },
    {
     "name": "stdout",
     "output_type": "stream",
     "text": [
      "Validation Loss: 5.7690, Validation Accuracy: 0.83%\n",
      "Sensitivity for layer _blocks.22._depthwise_conv: 1.8596649169921875e-05\n",
      "Analyzing layer: _blocks.22._se_reduce\n"
     ]
    },
    {
     "name": "stderr",
     "output_type": "stream",
     "text": [
      "                                                                                                                       \r"
     ]
    },
    {
     "name": "stdout",
     "output_type": "stream",
     "text": [
      "Validation Loss: 5.7690, Validation Accuracy: 0.83%\n",
      "Pruning layer with pruning rate: 0.1\n"
     ]
    },
    {
     "name": "stderr",
     "output_type": "stream",
     "text": [
      "                                                                                                                       \r"
     ]
    },
    {
     "name": "stdout",
     "output_type": "stream",
     "text": [
      "Validation Loss: 5.7690, Validation Accuracy: 0.83%\n",
      "Sensitivity for layer _blocks.22._se_reduce: -1.1920928955078125e-06\n",
      "Analyzing layer: _blocks.22._se_expand\n"
     ]
    },
    {
     "name": "stderr",
     "output_type": "stream",
     "text": [
      "                                                                                                                       \r"
     ]
    },
    {
     "name": "stdout",
     "output_type": "stream",
     "text": [
      "Validation Loss: 5.7690, Validation Accuracy: 0.83%\n",
      "Pruning layer with pruning rate: 0.1\n"
     ]
    },
    {
     "name": "stderr",
     "output_type": "stream",
     "text": [
      "                                                                                                                       \r"
     ]
    },
    {
     "name": "stdout",
     "output_type": "stream",
     "text": [
      "Validation Loss: 5.7690, Validation Accuracy: 0.83%\n",
      "Sensitivity for layer _blocks.22._se_expand: 3.814697265625e-06\n",
      "Analyzing layer: _blocks.22._project_conv\n"
     ]
    },
    {
     "name": "stderr",
     "output_type": "stream",
     "text": [
      "                                                                                                                       \r"
     ]
    },
    {
     "name": "stdout",
     "output_type": "stream",
     "text": [
      "Validation Loss: 5.7690, Validation Accuracy: 0.83%\n",
      "Pruning layer with pruning rate: 0.1\n"
     ]
    },
    {
     "name": "stderr",
     "output_type": "stream",
     "text": [
      "                                                                                                                       \r"
     ]
    },
    {
     "name": "stdout",
     "output_type": "stream",
     "text": [
      "Validation Loss: 5.7690, Validation Accuracy: 0.83%\n",
      "Sensitivity for layer _blocks.22._project_conv: 5.7220458984375e-06\n",
      "Analyzing layer: _blocks.23._expand_conv\n"
     ]
    },
    {
     "name": "stderr",
     "output_type": "stream",
     "text": [
      "                                                                                                                       \r"
     ]
    },
    {
     "name": "stdout",
     "output_type": "stream",
     "text": [
      "Validation Loss: 5.7690, Validation Accuracy: 0.83%\n",
      "Pruning layer with pruning rate: 0.1\n"
     ]
    },
    {
     "name": "stderr",
     "output_type": "stream",
     "text": [
      "                                                                                                                       \r"
     ]
    },
    {
     "name": "stdout",
     "output_type": "stream",
     "text": [
      "Validation Loss: 5.7690, Validation Accuracy: 0.83%\n",
      "Sensitivity for layer _blocks.23._expand_conv: -2.384185791015625e-07\n",
      "Analyzing layer: _blocks.23._depthwise_conv\n"
     ]
    },
    {
     "name": "stderr",
     "output_type": "stream",
     "text": [
      "                                                                                                                       \r"
     ]
    },
    {
     "name": "stdout",
     "output_type": "stream",
     "text": [
      "Validation Loss: 5.7690, Validation Accuracy: 0.83%\n",
      "Pruning layer with pruning rate: 0.1\n"
     ]
    },
    {
     "name": "stderr",
     "output_type": "stream",
     "text": [
      "                                                                                                                       \r"
     ]
    },
    {
     "name": "stdout",
     "output_type": "stream",
     "text": [
      "Validation Loss: 5.7690, Validation Accuracy: 0.83%\n",
      "Sensitivity for layer _blocks.23._depthwise_conv: 7.152557373046875e-07\n",
      "Analyzing layer: _blocks.23._se_reduce\n"
     ]
    },
    {
     "name": "stderr",
     "output_type": "stream",
     "text": [
      "                                                                                                                       \r"
     ]
    },
    {
     "name": "stdout",
     "output_type": "stream",
     "text": [
      "Validation Loss: 5.7690, Validation Accuracy: 0.83%\n",
      "Pruning layer with pruning rate: 0.1\n"
     ]
    },
    {
     "name": "stderr",
     "output_type": "stream",
     "text": [
      "                                                                                                                       \r"
     ]
    },
    {
     "name": "stdout",
     "output_type": "stream",
     "text": [
      "Validation Loss: 5.7690, Validation Accuracy: 0.83%\n",
      "Sensitivity for layer _blocks.23._se_reduce: 0.0\n",
      "Analyzing layer: _blocks.23._se_expand\n"
     ]
    },
    {
     "name": "stderr",
     "output_type": "stream",
     "text": [
      "                                                                                                                       \r"
     ]
    },
    {
     "name": "stdout",
     "output_type": "stream",
     "text": [
      "Validation Loss: 5.7690, Validation Accuracy: 0.83%\n",
      "Pruning layer with pruning rate: 0.1\n"
     ]
    },
    {
     "name": "stderr",
     "output_type": "stream",
     "text": [
      "                                                                                                                       \r"
     ]
    },
    {
     "name": "stdout",
     "output_type": "stream",
     "text": [
      "Validation Loss: 5.7690, Validation Accuracy: 0.83%\n",
      "Sensitivity for layer _blocks.23._se_expand: 0.0\n",
      "Analyzing layer: _blocks.23._project_conv\n"
     ]
    },
    {
     "name": "stderr",
     "output_type": "stream",
     "text": [
      "                                                                                                                       \r"
     ]
    },
    {
     "name": "stdout",
     "output_type": "stream",
     "text": [
      "Validation Loss: 5.7690, Validation Accuracy: 0.83%\n",
      "Pruning layer with pruning rate: 0.1\n"
     ]
    },
    {
     "name": "stderr",
     "output_type": "stream",
     "text": [
      "                                                                                                                       \r"
     ]
    },
    {
     "name": "stdout",
     "output_type": "stream",
     "text": [
      "Validation Loss: 5.7690, Validation Accuracy: 0.83%\n",
      "Sensitivity for layer _blocks.23._project_conv: -7.867813110351562e-06\n",
      "Analyzing layer: _blocks.24._expand_conv\n"
     ]
    },
    {
     "name": "stderr",
     "output_type": "stream",
     "text": [
      "                                                                                                                       \r"
     ]
    },
    {
     "name": "stdout",
     "output_type": "stream",
     "text": [
      "Validation Loss: 5.7690, Validation Accuracy: 0.83%\n",
      "Pruning layer with pruning rate: 0.1\n"
     ]
    },
    {
     "name": "stderr",
     "output_type": "stream",
     "text": [
      "                                                                                                                       \r"
     ]
    },
    {
     "name": "stdout",
     "output_type": "stream",
     "text": [
      "Validation Loss: 5.7690, Validation Accuracy: 0.83%\n",
      "Sensitivity for layer _blocks.24._expand_conv: 7.152557373046875e-07\n",
      "Analyzing layer: _blocks.24._depthwise_conv\n"
     ]
    },
    {
     "name": "stderr",
     "output_type": "stream",
     "text": [
      "                                                                                                                       \r"
     ]
    },
    {
     "name": "stdout",
     "output_type": "stream",
     "text": [
      "Validation Loss: 5.7690, Validation Accuracy: 0.83%\n",
      "Pruning layer with pruning rate: 0.1\n"
     ]
    },
    {
     "name": "stderr",
     "output_type": "stream",
     "text": [
      "                                                                                                                       \r"
     ]
    },
    {
     "name": "stdout",
     "output_type": "stream",
     "text": [
      "Validation Loss: 5.7690, Validation Accuracy: 0.83%\n",
      "Sensitivity for layer _blocks.24._depthwise_conv: 1.430511474609375e-06\n",
      "Analyzing layer: _blocks.24._se_reduce\n"
     ]
    },
    {
     "name": "stderr",
     "output_type": "stream",
     "text": [
      "                                                                                                                       \r"
     ]
    },
    {
     "name": "stdout",
     "output_type": "stream",
     "text": [
      "Validation Loss: 5.7690, Validation Accuracy: 0.83%\n",
      "Pruning layer with pruning rate: 0.1\n"
     ]
    },
    {
     "name": "stderr",
     "output_type": "stream",
     "text": [
      "                                                                                                                       \r"
     ]
    },
    {
     "name": "stdout",
     "output_type": "stream",
     "text": [
      "Validation Loss: 5.7690, Validation Accuracy: 0.83%\n",
      "Sensitivity for layer _blocks.24._se_reduce: 0.0\n",
      "Analyzing layer: _blocks.24._se_expand\n"
     ]
    },
    {
     "name": "stderr",
     "output_type": "stream",
     "text": [
      "                                                                                                                       \r"
     ]
    },
    {
     "name": "stdout",
     "output_type": "stream",
     "text": [
      "Validation Loss: 5.7690, Validation Accuracy: 0.83%\n",
      "Pruning layer with pruning rate: 0.1\n"
     ]
    },
    {
     "name": "stderr",
     "output_type": "stream",
     "text": [
      "                                                                                                                       \r"
     ]
    },
    {
     "name": "stdout",
     "output_type": "stream",
     "text": [
      "Validation Loss: 5.7690, Validation Accuracy: 0.83%\n",
      "Sensitivity for layer _blocks.24._se_expand: -9.5367431640625e-07\n",
      "Analyzing layer: _blocks.24._project_conv\n"
     ]
    },
    {
     "name": "stderr",
     "output_type": "stream",
     "text": [
      "                                                                                                                       \r"
     ]
    },
    {
     "name": "stdout",
     "output_type": "stream",
     "text": [
      "Validation Loss: 5.7690, Validation Accuracy: 0.83%\n",
      "Pruning layer with pruning rate: 0.1\n"
     ]
    },
    {
     "name": "stderr",
     "output_type": "stream",
     "text": [
      "                                                                                                                       \r"
     ]
    },
    {
     "name": "stdout",
     "output_type": "stream",
     "text": [
      "Validation Loss: 5.7690, Validation Accuracy: 0.83%\n",
      "Sensitivity for layer _blocks.24._project_conv: -1.430511474609375e-06\n",
      "Analyzing layer: _blocks.25._expand_conv\n"
     ]
    },
    {
     "name": "stderr",
     "output_type": "stream",
     "text": [
      "                                                                                                                       \r"
     ]
    },
    {
     "name": "stdout",
     "output_type": "stream",
     "text": [
      "Validation Loss: 5.7690, Validation Accuracy: 0.83%\n",
      "Pruning layer with pruning rate: 0.1\n"
     ]
    },
    {
     "name": "stderr",
     "output_type": "stream",
     "text": [
      "                                                                                                                       \r"
     ]
    },
    {
     "name": "stdout",
     "output_type": "stream",
     "text": [
      "Validation Loss: 5.7690, Validation Accuracy: 0.83%\n",
      "Sensitivity for layer _blocks.25._expand_conv: -5.9604644775390625e-06\n",
      "Analyzing layer: _blocks.25._depthwise_conv\n"
     ]
    },
    {
     "name": "stderr",
     "output_type": "stream",
     "text": [
      "                                                                                                                       \r"
     ]
    },
    {
     "name": "stdout",
     "output_type": "stream",
     "text": [
      "Validation Loss: 5.7690, Validation Accuracy: 0.83%\n",
      "Pruning layer with pruning rate: 0.1\n"
     ]
    },
    {
     "name": "stderr",
     "output_type": "stream",
     "text": [
      "                                                                                                                       \r"
     ]
    },
    {
     "name": "stdout",
     "output_type": "stream",
     "text": [
      "Validation Loss: 5.7690, Validation Accuracy: 0.83%\n",
      "Sensitivity for layer _blocks.25._depthwise_conv: 5.4836273193359375e-06\n",
      "Analyzing layer: _blocks.25._se_reduce\n"
     ]
    },
    {
     "name": "stderr",
     "output_type": "stream",
     "text": [
      "                                                                                                                       \r"
     ]
    },
    {
     "name": "stdout",
     "output_type": "stream",
     "text": [
      "Validation Loss: 5.7690, Validation Accuracy: 0.83%\n",
      "Pruning layer with pruning rate: 0.1\n"
     ]
    },
    {
     "name": "stderr",
     "output_type": "stream",
     "text": [
      "                                                                                                                       \r"
     ]
    },
    {
     "name": "stdout",
     "output_type": "stream",
     "text": [
      "Validation Loss: 5.7690, Validation Accuracy: 0.83%\n",
      "Sensitivity for layer _blocks.25._se_reduce: -2.384185791015625e-07\n",
      "Analyzing layer: _blocks.25._se_expand\n"
     ]
    },
    {
     "name": "stderr",
     "output_type": "stream",
     "text": [
      "                                                                                                                       \r"
     ]
    },
    {
     "name": "stdout",
     "output_type": "stream",
     "text": [
      "Validation Loss: 5.7690, Validation Accuracy: 0.83%\n",
      "Pruning layer with pruning rate: 0.1\n"
     ]
    },
    {
     "name": "stderr",
     "output_type": "stream",
     "text": [
      "                                                                                                                       \r"
     ]
    },
    {
     "name": "stdout",
     "output_type": "stream",
     "text": [
      "Validation Loss: 5.7690, Validation Accuracy: 0.83%\n",
      "Sensitivity for layer _blocks.25._se_expand: 0.0\n",
      "Analyzing layer: _blocks.25._project_conv\n"
     ]
    },
    {
     "name": "stderr",
     "output_type": "stream",
     "text": [
      "                                                                                                                       \r"
     ]
    },
    {
     "name": "stdout",
     "output_type": "stream",
     "text": [
      "Validation Loss: 5.7690, Validation Accuracy: 0.83%\n",
      "Pruning layer with pruning rate: 0.1\n"
     ]
    },
    {
     "name": "stderr",
     "output_type": "stream",
     "text": [
      "                                                                                                                       \r"
     ]
    },
    {
     "name": "stdout",
     "output_type": "stream",
     "text": [
      "Validation Loss: 5.7690, Validation Accuracy: 0.83%\n",
      "Sensitivity for layer _blocks.25._project_conv: 1.1920928955078125e-06\n",
      "Analyzing layer: _blocks.26._expand_conv\n"
     ]
    },
    {
     "name": "stderr",
     "output_type": "stream",
     "text": [
      "                                                                                                                       \r"
     ]
    },
    {
     "name": "stdout",
     "output_type": "stream",
     "text": [
      "Validation Loss: 5.7690, Validation Accuracy: 0.83%\n",
      "Pruning layer with pruning rate: 0.1\n"
     ]
    },
    {
     "name": "stderr",
     "output_type": "stream",
     "text": [
      "                                                                                                                       \r"
     ]
    },
    {
     "name": "stdout",
     "output_type": "stream",
     "text": [
      "Validation Loss: 5.7690, Validation Accuracy: 0.83%\n",
      "Sensitivity for layer _blocks.26._expand_conv: -5.9604644775390625e-06\n",
      "Analyzing layer: _blocks.26._depthwise_conv\n"
     ]
    },
    {
     "name": "stderr",
     "output_type": "stream",
     "text": [
      "                                                                                                                       \r"
     ]
    },
    {
     "name": "stdout",
     "output_type": "stream",
     "text": [
      "Validation Loss: 5.7690, Validation Accuracy: 0.83%\n",
      "Pruning layer with pruning rate: 0.1\n"
     ]
    },
    {
     "name": "stderr",
     "output_type": "stream",
     "text": [
      "                                                                                                                       \r"
     ]
    },
    {
     "name": "stdout",
     "output_type": "stream",
     "text": [
      "Validation Loss: 5.7690, Validation Accuracy: 0.83%\n",
      "Sensitivity for layer _blocks.26._depthwise_conv: 2.1457672119140625e-06\n",
      "Analyzing layer: _blocks.26._se_reduce\n"
     ]
    },
    {
     "name": "stderr",
     "output_type": "stream",
     "text": [
      "                                                                                                                       \r"
     ]
    },
    {
     "name": "stdout",
     "output_type": "stream",
     "text": [
      "Validation Loss: 5.7690, Validation Accuracy: 0.83%\n",
      "Pruning layer with pruning rate: 0.1\n"
     ]
    },
    {
     "name": "stderr",
     "output_type": "stream",
     "text": [
      "                                                                                                                       \r"
     ]
    },
    {
     "name": "stdout",
     "output_type": "stream",
     "text": [
      "Validation Loss: 5.7690, Validation Accuracy: 0.83%\n",
      "Sensitivity for layer _blocks.26._se_reduce: -2.384185791015625e-07\n",
      "Analyzing layer: _blocks.26._se_expand\n"
     ]
    },
    {
     "name": "stderr",
     "output_type": "stream",
     "text": [
      "                                                                                                                       \r"
     ]
    },
    {
     "name": "stdout",
     "output_type": "stream",
     "text": [
      "Validation Loss: 5.7690, Validation Accuracy: 0.83%\n",
      "Pruning layer with pruning rate: 0.1\n"
     ]
    },
    {
     "name": "stderr",
     "output_type": "stream",
     "text": [
      "                                                                                                                       \r"
     ]
    },
    {
     "name": "stdout",
     "output_type": "stream",
     "text": [
      "Validation Loss: 5.7690, Validation Accuracy: 0.83%\n",
      "Sensitivity for layer _blocks.26._se_expand: -1.9073486328125e-06\n",
      "Analyzing layer: _blocks.26._project_conv\n"
     ]
    },
    {
     "name": "stderr",
     "output_type": "stream",
     "text": [
      "                                                                                                                       \r"
     ]
    },
    {
     "name": "stdout",
     "output_type": "stream",
     "text": [
      "Validation Loss: 5.7690, Validation Accuracy: 0.83%\n",
      "Pruning layer with pruning rate: 0.1\n"
     ]
    },
    {
     "name": "stderr",
     "output_type": "stream",
     "text": [
      "                                                                                                                       \r"
     ]
    },
    {
     "name": "stdout",
     "output_type": "stream",
     "text": [
      "Validation Loss: 5.7690, Validation Accuracy: 0.83%\n",
      "Sensitivity for layer _blocks.26._project_conv: 5.245208740234375e-06\n",
      "Analyzing layer: _blocks.27._expand_conv\n"
     ]
    },
    {
     "name": "stderr",
     "output_type": "stream",
     "text": [
      "                                                                                                                       \r"
     ]
    },
    {
     "name": "stdout",
     "output_type": "stream",
     "text": [
      "Validation Loss: 5.7690, Validation Accuracy: 0.83%\n",
      "Pruning layer with pruning rate: 0.1\n"
     ]
    },
    {
     "name": "stderr",
     "output_type": "stream",
     "text": [
      "                                                                                                                       \r"
     ]
    },
    {
     "name": "stdout",
     "output_type": "stream",
     "text": [
      "Validation Loss: 5.7690, Validation Accuracy: 0.83%\n",
      "Sensitivity for layer _blocks.27._expand_conv: -6.67572021484375e-06\n",
      "Analyzing layer: _blocks.27._depthwise_conv\n"
     ]
    },
    {
     "name": "stderr",
     "output_type": "stream",
     "text": [
      "                                                                                                                       \r"
     ]
    },
    {
     "name": "stdout",
     "output_type": "stream",
     "text": [
      "Validation Loss: 5.7690, Validation Accuracy: 0.83%\n",
      "Pruning layer with pruning rate: 0.1\n"
     ]
    },
    {
     "name": "stderr",
     "output_type": "stream",
     "text": [
      "                                                                                                                       \r"
     ]
    },
    {
     "name": "stdout",
     "output_type": "stream",
     "text": [
      "Validation Loss: 5.7690, Validation Accuracy: 0.83%\n",
      "Sensitivity for layer _blocks.27._depthwise_conv: 1.1444091796875e-05\n",
      "Analyzing layer: _blocks.27._se_reduce\n"
     ]
    },
    {
     "name": "stderr",
     "output_type": "stream",
     "text": [
      "                                                                                                                       \r"
     ]
    },
    {
     "name": "stdout",
     "output_type": "stream",
     "text": [
      "Validation Loss: 5.7690, Validation Accuracy: 0.83%\n",
      "Pruning layer with pruning rate: 0.1\n"
     ]
    },
    {
     "name": "stderr",
     "output_type": "stream",
     "text": [
      "                                                                                                                       \r"
     ]
    },
    {
     "name": "stdout",
     "output_type": "stream",
     "text": [
      "Validation Loss: 5.7690, Validation Accuracy: 0.83%\n",
      "Sensitivity for layer _blocks.27._se_reduce: -1.430511474609375e-06\n",
      "Analyzing layer: _blocks.27._se_expand\n"
     ]
    },
    {
     "name": "stderr",
     "output_type": "stream",
     "text": [
      "                                                                                                                       \r"
     ]
    },
    {
     "name": "stdout",
     "output_type": "stream",
     "text": [
      "Validation Loss: 5.7690, Validation Accuracy: 0.83%\n",
      "Pruning layer with pruning rate: 0.1\n"
     ]
    },
    {
     "name": "stderr",
     "output_type": "stream",
     "text": [
      "                                                                                                                       \r"
     ]
    },
    {
     "name": "stdout",
     "output_type": "stream",
     "text": [
      "Validation Loss: 5.7690, Validation Accuracy: 0.83%\n",
      "Sensitivity for layer _blocks.27._se_expand: 1.1920928955078125e-06\n",
      "Analyzing layer: _blocks.27._project_conv\n"
     ]
    },
    {
     "name": "stderr",
     "output_type": "stream",
     "text": [
      "                                                                                                                       \r"
     ]
    },
    {
     "name": "stdout",
     "output_type": "stream",
     "text": [
      "Validation Loss: 5.7690, Validation Accuracy: 0.83%\n",
      "Pruning layer with pruning rate: 0.1\n"
     ]
    },
    {
     "name": "stderr",
     "output_type": "stream",
     "text": [
      "                                                                                                                       \r"
     ]
    },
    {
     "name": "stdout",
     "output_type": "stream",
     "text": [
      "Validation Loss: 5.7690, Validation Accuracy: 0.83%\n",
      "Sensitivity for layer _blocks.27._project_conv: -4.76837158203125e-06\n",
      "Analyzing layer: _blocks.28._expand_conv\n"
     ]
    },
    {
     "name": "stderr",
     "output_type": "stream",
     "text": [
      "                                                                                                                       \r"
     ]
    },
    {
     "name": "stdout",
     "output_type": "stream",
     "text": [
      "Validation Loss: 5.7690, Validation Accuracy: 0.83%\n",
      "Pruning layer with pruning rate: 0.1\n"
     ]
    },
    {
     "name": "stderr",
     "output_type": "stream",
     "text": [
      "                                                                                                                       \r"
     ]
    },
    {
     "name": "stdout",
     "output_type": "stream",
     "text": [
      "Validation Loss: 5.7689, Validation Accuracy: 0.83%\n",
      "Sensitivity for layer _blocks.28._expand_conv: -6.747245788574219e-05\n",
      "Analyzing layer: _blocks.28._depthwise_conv\n"
     ]
    },
    {
     "name": "stderr",
     "output_type": "stream",
     "text": [
      "                                                                                                                       \r"
     ]
    },
    {
     "name": "stdout",
     "output_type": "stream",
     "text": [
      "Validation Loss: 5.7689, Validation Accuracy: 0.83%\n",
      "Pruning layer with pruning rate: 0.1\n"
     ]
    },
    {
     "name": "stderr",
     "output_type": "stream",
     "text": [
      "                                                                                                                       \r"
     ]
    },
    {
     "name": "stdout",
     "output_type": "stream",
     "text": [
      "Validation Loss: 5.7689, Validation Accuracy: 0.83%\n",
      "Sensitivity for layer _blocks.28._depthwise_conv: 6.67572021484375e-06\n",
      "Analyzing layer: _blocks.28._se_reduce\n"
     ]
    },
    {
     "name": "stderr",
     "output_type": "stream",
     "text": [
      "                                                                                                                       \r"
     ]
    },
    {
     "name": "stdout",
     "output_type": "stream",
     "text": [
      "Validation Loss: 5.7689, Validation Accuracy: 0.83%\n",
      "Pruning layer with pruning rate: 0.1\n"
     ]
    },
    {
     "name": "stderr",
     "output_type": "stream",
     "text": [
      "                                                                                                                       \r"
     ]
    },
    {
     "name": "stdout",
     "output_type": "stream",
     "text": [
      "Validation Loss: 5.7689, Validation Accuracy: 0.83%\n",
      "Sensitivity for layer _blocks.28._se_reduce: -4.076957702636719e-05\n",
      "Analyzing layer: _blocks.28._se_expand\n"
     ]
    },
    {
     "name": "stderr",
     "output_type": "stream",
     "text": [
      "                                                                                                                       \r"
     ]
    },
    {
     "name": "stdout",
     "output_type": "stream",
     "text": [
      "Validation Loss: 5.7689, Validation Accuracy: 0.83%\n",
      "Pruning layer with pruning rate: 0.1\n"
     ]
    },
    {
     "name": "stderr",
     "output_type": "stream",
     "text": [
      "                                                                                                                       \r"
     ]
    },
    {
     "name": "stdout",
     "output_type": "stream",
     "text": [
      "Validation Loss: 5.7689, Validation Accuracy: 0.83%\n",
      "Sensitivity for layer _blocks.28._se_expand: 3.790855407714844e-05\n",
      "Analyzing layer: _blocks.28._project_conv\n"
     ]
    },
    {
     "name": "stderr",
     "output_type": "stream",
     "text": [
      "                                                                                                                       \r"
     ]
    },
    {
     "name": "stdout",
     "output_type": "stream",
     "text": [
      "Validation Loss: 5.7689, Validation Accuracy: 0.83%\n",
      "Pruning layer with pruning rate: 0.1\n"
     ]
    },
    {
     "name": "stderr",
     "output_type": "stream",
     "text": [
      "                                                                                                                       \r"
     ]
    },
    {
     "name": "stdout",
     "output_type": "stream",
     "text": [
      "Validation Loss: 5.7689, Validation Accuracy: 0.83%\n",
      "Sensitivity for layer _blocks.28._project_conv: -9.059906005859375e-06\n",
      "Analyzing layer: _blocks.29._expand_conv\n"
     ]
    },
    {
     "name": "stderr",
     "output_type": "stream",
     "text": [
      "                                                                                                                       \r"
     ]
    },
    {
     "name": "stdout",
     "output_type": "stream",
     "text": [
      "Validation Loss: 5.7689, Validation Accuracy: 0.83%\n",
      "Pruning layer with pruning rate: 0.1\n"
     ]
    },
    {
     "name": "stderr",
     "output_type": "stream",
     "text": [
      "                                                                                                                       \r"
     ]
    },
    {
     "name": "stdout",
     "output_type": "stream",
     "text": [
      "Validation Loss: 5.7689, Validation Accuracy: 0.83%\n",
      "Sensitivity for layer _blocks.29._expand_conv: -2.8848648071289062e-05\n",
      "Analyzing layer: _blocks.29._depthwise_conv\n"
     ]
    },
    {
     "name": "stderr",
     "output_type": "stream",
     "text": [
      "                                                                                                                       \r"
     ]
    },
    {
     "name": "stdout",
     "output_type": "stream",
     "text": [
      "Validation Loss: 5.7689, Validation Accuracy: 0.83%\n",
      "Pruning layer with pruning rate: 0.1\n"
     ]
    },
    {
     "name": "stderr",
     "output_type": "stream",
     "text": [
      "                                                                                                                       \r"
     ]
    },
    {
     "name": "stdout",
     "output_type": "stream",
     "text": [
      "Validation Loss: 5.7689, Validation Accuracy: 0.83%\n",
      "Sensitivity for layer _blocks.29._depthwise_conv: 6.4373016357421875e-06\n",
      "Analyzing layer: _blocks.29._se_reduce\n"
     ]
    },
    {
     "name": "stderr",
     "output_type": "stream",
     "text": [
      "                                                                                                                       \r"
     ]
    },
    {
     "name": "stdout",
     "output_type": "stream",
     "text": [
      "Validation Loss: 5.7689, Validation Accuracy: 0.83%\n",
      "Pruning layer with pruning rate: 0.1\n"
     ]
    },
    {
     "name": "stderr",
     "output_type": "stream",
     "text": [
      "                                                                                                                       \r"
     ]
    },
    {
     "name": "stdout",
     "output_type": "stream",
     "text": [
      "Validation Loss: 5.7689, Validation Accuracy: 0.83%\n",
      "Sensitivity for layer _blocks.29._se_reduce: -2.384185791015625e-06\n",
      "Analyzing layer: _blocks.29._se_expand\n"
     ]
    },
    {
     "name": "stderr",
     "output_type": "stream",
     "text": [
      "                                                                                                                       \r"
     ]
    },
    {
     "name": "stdout",
     "output_type": "stream",
     "text": [
      "Validation Loss: 5.7689, Validation Accuracy: 0.83%\n",
      "Pruning layer with pruning rate: 0.1\n"
     ]
    },
    {
     "name": "stderr",
     "output_type": "stream",
     "text": [
      "                                                                                                                       \r"
     ]
    },
    {
     "name": "stdout",
     "output_type": "stream",
     "text": [
      "Validation Loss: 5.7689, Validation Accuracy: 0.83%\n",
      "Sensitivity for layer _blocks.29._se_expand: -2.2411346435546875e-05\n",
      "Analyzing layer: _blocks.29._project_conv\n"
     ]
    },
    {
     "name": "stderr",
     "output_type": "stream",
     "text": [
      "                                                                                                                       \r"
     ]
    },
    {
     "name": "stdout",
     "output_type": "stream",
     "text": [
      "Validation Loss: 5.7689, Validation Accuracy: 0.83%\n",
      "Pruning layer with pruning rate: 0.1\n"
     ]
    },
    {
     "name": "stderr",
     "output_type": "stream",
     "text": [
      "                                                                                                                       \r"
     ]
    },
    {
     "name": "stdout",
     "output_type": "stream",
     "text": [
      "Validation Loss: 5.7689, Validation Accuracy: 0.83%\n",
      "Sensitivity for layer _blocks.29._project_conv: 4.9114227294921875e-05\n",
      "Analyzing layer: _blocks.30._expand_conv\n"
     ]
    },
    {
     "name": "stderr",
     "output_type": "stream",
     "text": [
      "                                                                                                                       \r"
     ]
    },
    {
     "name": "stdout",
     "output_type": "stream",
     "text": [
      "Validation Loss: 5.7689, Validation Accuracy: 0.83%\n",
      "Pruning layer with pruning rate: 0.1\n"
     ]
    },
    {
     "name": "stderr",
     "output_type": "stream",
     "text": [
      "                                                                                                                       \r"
     ]
    },
    {
     "name": "stdout",
     "output_type": "stream",
     "text": [
      "Validation Loss: 5.7689, Validation Accuracy: 0.83%\n",
      "Sensitivity for layer _blocks.30._expand_conv: -3.6716461181640625e-05\n",
      "Analyzing layer: _blocks.30._depthwise_conv\n"
     ]
    },
    {
     "name": "stderr",
     "output_type": "stream",
     "text": [
      "                                                                                                                       \r"
     ]
    },
    {
     "name": "stdout",
     "output_type": "stream",
     "text": [
      "Validation Loss: 5.7689, Validation Accuracy: 0.83%\n",
      "Pruning layer with pruning rate: 0.1\n"
     ]
    },
    {
     "name": "stderr",
     "output_type": "stream",
     "text": [
      "                                                                                                                       \r"
     ]
    },
    {
     "name": "stdout",
     "output_type": "stream",
     "text": [
      "Validation Loss: 5.7689, Validation Accuracy: 0.83%\n",
      "Sensitivity for layer _blocks.30._depthwise_conv: -1.3828277587890625e-05\n",
      "Analyzing layer: _blocks.30._se_reduce\n"
     ]
    },
    {
     "name": "stderr",
     "output_type": "stream",
     "text": [
      "                                                                                                                       \r"
     ]
    },
    {
     "name": "stdout",
     "output_type": "stream",
     "text": [
      "Validation Loss: 5.7689, Validation Accuracy: 0.83%\n",
      "Pruning layer with pruning rate: 0.1\n"
     ]
    },
    {
     "name": "stderr",
     "output_type": "stream",
     "text": [
      "                                                                                                                       \r"
     ]
    },
    {
     "name": "stdout",
     "output_type": "stream",
     "text": [
      "Validation Loss: 5.7689, Validation Accuracy: 0.83%\n",
      "Sensitivity for layer _blocks.30._se_reduce: 3.337860107421875e-06\n",
      "Analyzing layer: _blocks.30._se_expand\n"
     ]
    },
    {
     "name": "stderr",
     "output_type": "stream",
     "text": [
      "                                                                                                                       \r"
     ]
    },
    {
     "name": "stdout",
     "output_type": "stream",
     "text": [
      "Validation Loss: 5.7689, Validation Accuracy: 0.83%\n",
      "Pruning layer with pruning rate: 0.1\n"
     ]
    },
    {
     "name": "stderr",
     "output_type": "stream",
     "text": [
      "                                                                                                                       \r"
     ]
    },
    {
     "name": "stdout",
     "output_type": "stream",
     "text": [
      "Validation Loss: 5.7689, Validation Accuracy: 0.83%\n",
      "Sensitivity for layer _blocks.30._se_expand: 2.1457672119140625e-06\n",
      "Analyzing layer: _blocks.30._project_conv\n"
     ]
    },
    {
     "name": "stderr",
     "output_type": "stream",
     "text": [
      "                                                                                                                       \r"
     ]
    },
    {
     "name": "stdout",
     "output_type": "stream",
     "text": [
      "Validation Loss: 5.7689, Validation Accuracy: 0.83%\n",
      "Pruning layer with pruning rate: 0.1\n"
     ]
    },
    {
     "name": "stderr",
     "output_type": "stream",
     "text": [
      "                                                                                                                       \r"
     ]
    },
    {
     "name": "stdout",
     "output_type": "stream",
     "text": [
      "Validation Loss: 5.7689, Validation Accuracy: 0.83%\n",
      "Sensitivity for layer _blocks.30._project_conv: 1.1682510375976562e-05\n",
      "Analyzing layer: _blocks.31._expand_conv\n"
     ]
    },
    {
     "name": "stderr",
     "output_type": "stream",
     "text": [
      "                                                                                                                       \r"
     ]
    },
    {
     "name": "stdout",
     "output_type": "stream",
     "text": [
      "Validation Loss: 5.7689, Validation Accuracy: 0.83%\n",
      "Pruning layer with pruning rate: 0.1\n"
     ]
    },
    {
     "name": "stderr",
     "output_type": "stream",
     "text": [
      "                                                                                                                       \r"
     ]
    },
    {
     "name": "stdout",
     "output_type": "stream",
     "text": [
      "Validation Loss: 5.7689, Validation Accuracy: 0.83%\n",
      "Sensitivity for layer _blocks.31._expand_conv: -1.239776611328125e-05\n",
      "Analyzing layer: _blocks.31._depthwise_conv\n"
     ]
    },
    {
     "name": "stderr",
     "output_type": "stream",
     "text": [
      "                                                                                                                       \r"
     ]
    },
    {
     "name": "stdout",
     "output_type": "stream",
     "text": [
      "Validation Loss: 5.7689, Validation Accuracy: 0.83%\n",
      "Pruning layer with pruning rate: 0.1\n"
     ]
    },
    {
     "name": "stderr",
     "output_type": "stream",
     "text": [
      "                                                                                                                       \r"
     ]
    },
    {
     "name": "stdout",
     "output_type": "stream",
     "text": [
      "Validation Loss: 5.7689, Validation Accuracy: 0.83%\n",
      "Sensitivity for layer _blocks.31._depthwise_conv: -1.4066696166992188e-05\n",
      "Analyzing layer: _blocks.31._se_reduce\n"
     ]
    },
    {
     "name": "stderr",
     "output_type": "stream",
     "text": [
      "                                                                                                                       \r"
     ]
    },
    {
     "name": "stdout",
     "output_type": "stream",
     "text": [
      "Validation Loss: 5.7689, Validation Accuracy: 0.83%\n",
      "Pruning layer with pruning rate: 0.1\n"
     ]
    },
    {
     "name": "stderr",
     "output_type": "stream",
     "text": [
      "                                                                                                                       \r"
     ]
    },
    {
     "name": "stdout",
     "output_type": "stream",
     "text": [
      "Validation Loss: 5.7689, Validation Accuracy: 0.83%\n",
      "Sensitivity for layer _blocks.31._se_reduce: 1.049041748046875e-05\n",
      "Analyzing layer: _blocks.31._se_expand\n"
     ]
    },
    {
     "name": "stderr",
     "output_type": "stream",
     "text": [
      "                                                                                                                       \r"
     ]
    },
    {
     "name": "stdout",
     "output_type": "stream",
     "text": [
      "Validation Loss: 5.7689, Validation Accuracy: 0.83%\n",
      "Pruning layer with pruning rate: 0.1\n"
     ]
    },
    {
     "name": "stderr",
     "output_type": "stream",
     "text": [
      "                                                                                                                       \r"
     ]
    },
    {
     "name": "stdout",
     "output_type": "stream",
     "text": [
      "Validation Loss: 5.7689, Validation Accuracy: 0.83%\n",
      "Sensitivity for layer _blocks.31._se_expand: -9.059906005859375e-06\n",
      "Analyzing layer: _blocks.31._project_conv\n"
     ]
    },
    {
     "name": "stderr",
     "output_type": "stream",
     "text": [
      "                                                                                                                       \r"
     ]
    },
    {
     "name": "stdout",
     "output_type": "stream",
     "text": [
      "Validation Loss: 5.7689, Validation Accuracy: 0.83%\n",
      "Pruning layer with pruning rate: 0.1\n"
     ]
    },
    {
     "name": "stderr",
     "output_type": "stream",
     "text": [
      "                                                                                                                       \r"
     ]
    },
    {
     "name": "stdout",
     "output_type": "stream",
     "text": [
      "Validation Loss: 5.7689, Validation Accuracy: 0.83%\n",
      "Sensitivity for layer _blocks.31._project_conv: 6.9141387939453125e-06\n",
      "Analyzing layer: _blocks.32._expand_conv\n"
     ]
    },
    {
     "name": "stderr",
     "output_type": "stream",
     "text": [
      "                                                                                                                       \r"
     ]
    },
    {
     "name": "stdout",
     "output_type": "stream",
     "text": [
      "Validation Loss: 5.7689, Validation Accuracy: 0.83%\n",
      "Pruning layer with pruning rate: 0.1\n"
     ]
    },
    {
     "name": "stderr",
     "output_type": "stream",
     "text": [
      "                                                                                                                       \r"
     ]
    },
    {
     "name": "stdout",
     "output_type": "stream",
     "text": [
      "Validation Loss: 5.7689, Validation Accuracy: 0.83%\n",
      "Sensitivity for layer _blocks.32._expand_conv: 4.76837158203125e-07\n",
      "Analyzing layer: _blocks.32._depthwise_conv\n"
     ]
    },
    {
     "name": "stderr",
     "output_type": "stream",
     "text": [
      "                                                                                                                       \r"
     ]
    },
    {
     "name": "stdout",
     "output_type": "stream",
     "text": [
      "Validation Loss: 5.7689, Validation Accuracy: 0.83%\n",
      "Pruning layer with pruning rate: 0.1\n"
     ]
    },
    {
     "name": "stderr",
     "output_type": "stream",
     "text": [
      "                                                                                                                       \r"
     ]
    },
    {
     "name": "stdout",
     "output_type": "stream",
     "text": [
      "Validation Loss: 5.7689, Validation Accuracy: 0.83%\n",
      "Sensitivity for layer _blocks.32._depthwise_conv: 2.384185791015625e-07\n",
      "Analyzing layer: _blocks.32._se_reduce\n"
     ]
    },
    {
     "name": "stderr",
     "output_type": "stream",
     "text": [
      "                                                                                                                       \r"
     ]
    },
    {
     "name": "stdout",
     "output_type": "stream",
     "text": [
      "Validation Loss: 5.7689, Validation Accuracy: 0.83%\n",
      "Pruning layer with pruning rate: 0.1\n"
     ]
    },
    {
     "name": "stderr",
     "output_type": "stream",
     "text": [
      "                                                                                                                       \r"
     ]
    },
    {
     "name": "stdout",
     "output_type": "stream",
     "text": [
      "Validation Loss: 5.7689, Validation Accuracy: 0.83%\n",
      "Sensitivity for layer _blocks.32._se_reduce: 2.86102294921875e-06\n",
      "Analyzing layer: _blocks.32._se_expand\n"
     ]
    },
    {
     "name": "stderr",
     "output_type": "stream",
     "text": [
      "                                                                                                                       \r"
     ]
    },
    {
     "name": "stdout",
     "output_type": "stream",
     "text": [
      "Validation Loss: 5.7689, Validation Accuracy: 0.83%\n",
      "Pruning layer with pruning rate: 0.1\n"
     ]
    },
    {
     "name": "stderr",
     "output_type": "stream",
     "text": [
      "                                                                                                                       \r"
     ]
    },
    {
     "name": "stdout",
     "output_type": "stream",
     "text": [
      "Validation Loss: 5.7689, Validation Accuracy: 0.83%\n",
      "Sensitivity for layer _blocks.32._se_expand: 0.0\n",
      "Analyzing layer: _blocks.32._project_conv\n"
     ]
    },
    {
     "name": "stderr",
     "output_type": "stream",
     "text": [
      "                                                                                                                       \r"
     ]
    },
    {
     "name": "stdout",
     "output_type": "stream",
     "text": [
      "Validation Loss: 5.7689, Validation Accuracy: 0.83%\n",
      "Pruning layer with pruning rate: 0.1\n"
     ]
    },
    {
     "name": "stderr",
     "output_type": "stream",
     "text": [
      "                                                                                                                       \r"
     ]
    },
    {
     "name": "stdout",
     "output_type": "stream",
     "text": [
      "Validation Loss: 5.7689, Validation Accuracy: 0.83%\n",
      "Sensitivity for layer _blocks.32._project_conv: -1.1205673217773438e-05\n",
      "Analyzing layer: _blocks.33._expand_conv\n"
     ]
    },
    {
     "name": "stderr",
     "output_type": "stream",
     "text": [
      "                                                                                                                       \r"
     ]
    },
    {
     "name": "stdout",
     "output_type": "stream",
     "text": [
      "Validation Loss: 5.7689, Validation Accuracy: 0.83%\n",
      "Pruning layer with pruning rate: 0.1\n"
     ]
    },
    {
     "name": "stderr",
     "output_type": "stream",
     "text": [
      "                                                                                                                       \r"
     ]
    },
    {
     "name": "stdout",
     "output_type": "stream",
     "text": [
      "Validation Loss: 5.7689, Validation Accuracy: 0.83%\n",
      "Sensitivity for layer _blocks.33._expand_conv: -2.86102294921875e-06\n",
      "Analyzing layer: _blocks.33._depthwise_conv\n"
     ]
    },
    {
     "name": "stderr",
     "output_type": "stream",
     "text": [
      "                                                                                                                       \r"
     ]
    },
    {
     "name": "stdout",
     "output_type": "stream",
     "text": [
      "Validation Loss: 5.7689, Validation Accuracy: 0.83%\n",
      "Pruning layer with pruning rate: 0.1\n"
     ]
    },
    {
     "name": "stderr",
     "output_type": "stream",
     "text": [
      "                                                                                                                       \r"
     ]
    },
    {
     "name": "stdout",
     "output_type": "stream",
     "text": [
      "Validation Loss: 5.7689, Validation Accuracy: 0.83%\n",
      "Sensitivity for layer _blocks.33._depthwise_conv: 6.4373016357421875e-06\n",
      "Analyzing layer: _blocks.33._se_reduce\n"
     ]
    },
    {
     "name": "stderr",
     "output_type": "stream",
     "text": [
      "                                                                                                                       \r"
     ]
    },
    {
     "name": "stdout",
     "output_type": "stream",
     "text": [
      "Validation Loss: 5.7689, Validation Accuracy: 0.83%\n",
      "Pruning layer with pruning rate: 0.1\n"
     ]
    },
    {
     "name": "stderr",
     "output_type": "stream",
     "text": [
      "                                                                                                                       \r"
     ]
    },
    {
     "name": "stdout",
     "output_type": "stream",
     "text": [
      "Validation Loss: 5.7689, Validation Accuracy: 0.83%\n",
      "Sensitivity for layer _blocks.33._se_reduce: -7.152557373046875e-07\n",
      "Analyzing layer: _blocks.33._se_expand\n"
     ]
    },
    {
     "name": "stderr",
     "output_type": "stream",
     "text": [
      "                                                                                                                       \r"
     ]
    },
    {
     "name": "stdout",
     "output_type": "stream",
     "text": [
      "Validation Loss: 5.7689, Validation Accuracy: 0.83%\n",
      "Pruning layer with pruning rate: 0.1\n"
     ]
    },
    {
     "name": "stderr",
     "output_type": "stream",
     "text": [
      "                                                                                                                       \r"
     ]
    },
    {
     "name": "stdout",
     "output_type": "stream",
     "text": [
      "Validation Loss: 5.7689, Validation Accuracy: 0.83%\n",
      "Sensitivity for layer _blocks.33._se_expand: -3.5762786865234375e-06\n",
      "Analyzing layer: _blocks.33._project_conv\n"
     ]
    },
    {
     "name": "stderr",
     "output_type": "stream",
     "text": [
      "                                                                                                                       \r"
     ]
    },
    {
     "name": "stdout",
     "output_type": "stream",
     "text": [
      "Validation Loss: 5.7689, Validation Accuracy: 0.83%\n",
      "Pruning layer with pruning rate: 0.1\n"
     ]
    },
    {
     "name": "stderr",
     "output_type": "stream",
     "text": [
      "                                                                                                                       \r"
     ]
    },
    {
     "name": "stdout",
     "output_type": "stream",
     "text": [
      "Validation Loss: 5.7689, Validation Accuracy: 0.83%\n",
      "Sensitivity for layer _blocks.33._project_conv: 1.7642974853515625e-05\n",
      "Analyzing layer: _blocks.34._expand_conv\n"
     ]
    },
    {
     "name": "stderr",
     "output_type": "stream",
     "text": [
      "                                                                                                                       \r"
     ]
    },
    {
     "name": "stdout",
     "output_type": "stream",
     "text": [
      "Validation Loss: 5.7689, Validation Accuracy: 0.83%\n",
      "Pruning layer with pruning rate: 0.1\n"
     ]
    },
    {
     "name": "stderr",
     "output_type": "stream",
     "text": [
      "                                                                                                                       \r"
     ]
    },
    {
     "name": "stdout",
     "output_type": "stream",
     "text": [
      "Validation Loss: 5.7689, Validation Accuracy: 0.83%\n",
      "Sensitivity for layer _blocks.34._expand_conv: 5.4836273193359375e-06\n",
      "Analyzing layer: _blocks.34._depthwise_conv\n"
     ]
    },
    {
     "name": "stderr",
     "output_type": "stream",
     "text": [
      "                                                                                                                       \r"
     ]
    },
    {
     "name": "stdout",
     "output_type": "stream",
     "text": [
      "Validation Loss: 5.7689, Validation Accuracy: 0.83%\n",
      "Pruning layer with pruning rate: 0.1\n"
     ]
    },
    {
     "name": "stderr",
     "output_type": "stream",
     "text": [
      "                                                                                                                       \r"
     ]
    },
    {
     "name": "stdout",
     "output_type": "stream",
     "text": [
      "Validation Loss: 5.7689, Validation Accuracy: 0.83%\n",
      "Sensitivity for layer _blocks.34._depthwise_conv: 4.5299530029296875e-06\n",
      "Analyzing layer: _blocks.34._se_reduce\n"
     ]
    },
    {
     "name": "stderr",
     "output_type": "stream",
     "text": [
      "                                                                                                                       \r"
     ]
    },
    {
     "name": "stdout",
     "output_type": "stream",
     "text": [
      "Validation Loss: 5.7689, Validation Accuracy: 0.83%\n",
      "Pruning layer with pruning rate: 0.1\n"
     ]
    },
    {
     "name": "stderr",
     "output_type": "stream",
     "text": [
      "                                                                                                                       \r"
     ]
    },
    {
     "name": "stdout",
     "output_type": "stream",
     "text": [
      "Validation Loss: 5.7689, Validation Accuracy: 0.83%\n",
      "Sensitivity for layer _blocks.34._se_reduce: 1.1920928955078125e-06\n",
      "Analyzing layer: _blocks.34._se_expand\n"
     ]
    },
    {
     "name": "stderr",
     "output_type": "stream",
     "text": [
      "                                                                                                                       \r"
     ]
    },
    {
     "name": "stdout",
     "output_type": "stream",
     "text": [
      "Validation Loss: 5.7689, Validation Accuracy: 0.83%\n",
      "Pruning layer with pruning rate: 0.1\n"
     ]
    },
    {
     "name": "stderr",
     "output_type": "stream",
     "text": [
      "                                                                                                                       \r"
     ]
    },
    {
     "name": "stdout",
     "output_type": "stream",
     "text": [
      "Validation Loss: 5.7689, Validation Accuracy: 0.83%\n",
      "Sensitivity for layer _blocks.34._se_expand: 4.76837158203125e-07\n",
      "Analyzing layer: _blocks.34._project_conv\n"
     ]
    },
    {
     "name": "stderr",
     "output_type": "stream",
     "text": [
      "                                                                                                                       \r"
     ]
    },
    {
     "name": "stdout",
     "output_type": "stream",
     "text": [
      "Validation Loss: 5.7689, Validation Accuracy: 0.83%\n",
      "Pruning layer with pruning rate: 0.1\n"
     ]
    },
    {
     "name": "stderr",
     "output_type": "stream",
     "text": [
      "                                                                                                                       \r"
     ]
    },
    {
     "name": "stdout",
     "output_type": "stream",
     "text": [
      "Validation Loss: 5.7689, Validation Accuracy: 0.83%\n",
      "Sensitivity for layer _blocks.34._project_conv: 7.152557373046875e-07\n",
      "Analyzing layer: _blocks.35._expand_conv\n"
     ]
    },
    {
     "name": "stderr",
     "output_type": "stream",
     "text": [
      "                                                                                                                       \r"
     ]
    },
    {
     "name": "stdout",
     "output_type": "stream",
     "text": [
      "Validation Loss: 5.7689, Validation Accuracy: 0.83%\n",
      "Pruning layer with pruning rate: 0.1\n"
     ]
    },
    {
     "name": "stderr",
     "output_type": "stream",
     "text": [
      "                                                                                                                       \r"
     ]
    },
    {
     "name": "stdout",
     "output_type": "stream",
     "text": [
      "Validation Loss: 5.7688, Validation Accuracy: 0.83%\n",
      "Sensitivity for layer _blocks.35._expand_conv: -4.00543212890625e-05\n",
      "Analyzing layer: _blocks.35._depthwise_conv\n"
     ]
    },
    {
     "name": "stderr",
     "output_type": "stream",
     "text": [
      "                                                                                                                       \r"
     ]
    },
    {
     "name": "stdout",
     "output_type": "stream",
     "text": [
      "Validation Loss: 5.7688, Validation Accuracy: 0.83%\n",
      "Pruning layer with pruning rate: 0.1\n"
     ]
    },
    {
     "name": "stderr",
     "output_type": "stream",
     "text": [
      "                                                                                                                       \r"
     ]
    },
    {
     "name": "stdout",
     "output_type": "stream",
     "text": [
      "Validation Loss: 5.7689, Validation Accuracy: 0.83%\n",
      "Sensitivity for layer _blocks.35._depthwise_conv: 2.2172927856445312e-05\n",
      "Analyzing layer: _blocks.35._se_reduce\n"
     ]
    },
    {
     "name": "stderr",
     "output_type": "stream",
     "text": [
      "                                                                                                                       \r"
     ]
    },
    {
     "name": "stdout",
     "output_type": "stream",
     "text": [
      "Validation Loss: 5.7689, Validation Accuracy: 0.83%\n",
      "Pruning layer with pruning rate: 0.1\n"
     ]
    },
    {
     "name": "stderr",
     "output_type": "stream",
     "text": [
      "                                                                                                                       \r"
     ]
    },
    {
     "name": "stdout",
     "output_type": "stream",
     "text": [
      "Validation Loss: 5.7689, Validation Accuracy: 0.83%\n",
      "Sensitivity for layer _blocks.35._se_reduce: 2.384185791015625e-07\n",
      "Analyzing layer: _blocks.35._se_expand\n"
     ]
    },
    {
     "name": "stderr",
     "output_type": "stream",
     "text": [
      "                                                                                                                       \r"
     ]
    },
    {
     "name": "stdout",
     "output_type": "stream",
     "text": [
      "Validation Loss: 5.7689, Validation Accuracy: 0.83%\n",
      "Pruning layer with pruning rate: 0.1\n"
     ]
    },
    {
     "name": "stderr",
     "output_type": "stream",
     "text": [
      "                                                                                                                       \r"
     ]
    },
    {
     "name": "stdout",
     "output_type": "stream",
     "text": [
      "Validation Loss: 5.7689, Validation Accuracy: 0.83%\n",
      "Sensitivity for layer _blocks.35._se_expand: 0.0\n",
      "Analyzing layer: _blocks.35._project_conv\n"
     ]
    },
    {
     "name": "stderr",
     "output_type": "stream",
     "text": [
      "                                                                                                                       \r"
     ]
    },
    {
     "name": "stdout",
     "output_type": "stream",
     "text": [
      "Validation Loss: 5.7689, Validation Accuracy: 0.83%\n",
      "Pruning layer with pruning rate: 0.1\n"
     ]
    },
    {
     "name": "stderr",
     "output_type": "stream",
     "text": [
      "                                                                                                                       \r"
     ]
    },
    {
     "name": "stdout",
     "output_type": "stream",
     "text": [
      "Validation Loss: 5.7689, Validation Accuracy: 0.83%\n",
      "Sensitivity for layer _blocks.35._project_conv: 9.775161743164062e-06\n",
      "Analyzing layer: _blocks.36._expand_conv\n"
     ]
    },
    {
     "name": "stderr",
     "output_type": "stream",
     "text": [
      "                                                                                                                       \r"
     ]
    },
    {
     "name": "stdout",
     "output_type": "stream",
     "text": [
      "Validation Loss: 5.7689, Validation Accuracy: 0.83%\n",
      "Pruning layer with pruning rate: 0.1\n"
     ]
    },
    {
     "name": "stderr",
     "output_type": "stream",
     "text": [
      "                                                                                                                       \r"
     ]
    },
    {
     "name": "stdout",
     "output_type": "stream",
     "text": [
      "Validation Loss: 5.7689, Validation Accuracy: 0.83%\n",
      "Sensitivity for layer _blocks.36._expand_conv: -1.1682510375976562e-05\n",
      "Analyzing layer: _blocks.36._depthwise_conv\n"
     ]
    },
    {
     "name": "stderr",
     "output_type": "stream",
     "text": [
      "                                                                                                                       \r"
     ]
    },
    {
     "name": "stdout",
     "output_type": "stream",
     "text": [
      "Validation Loss: 5.7689, Validation Accuracy: 0.83%\n",
      "Pruning layer with pruning rate: 0.1\n"
     ]
    },
    {
     "name": "stderr",
     "output_type": "stream",
     "text": [
      "                                                                                                                       \r"
     ]
    },
    {
     "name": "stdout",
     "output_type": "stream",
     "text": [
      "Validation Loss: 5.7689, Validation Accuracy: 0.83%\n",
      "Sensitivity for layer _blocks.36._depthwise_conv: -7.152557373046875e-06\n",
      "Analyzing layer: _blocks.36._se_reduce\n"
     ]
    },
    {
     "name": "stderr",
     "output_type": "stream",
     "text": [
      "                                                                                                                       \r"
     ]
    },
    {
     "name": "stdout",
     "output_type": "stream",
     "text": [
      "Validation Loss: 5.7689, Validation Accuracy: 0.83%\n",
      "Pruning layer with pruning rate: 0.1\n"
     ]
    },
    {
     "name": "stderr",
     "output_type": "stream",
     "text": [
      "                                                                                                                       \r"
     ]
    },
    {
     "name": "stdout",
     "output_type": "stream",
     "text": [
      "Validation Loss: 5.7689, Validation Accuracy: 0.83%\n",
      "Sensitivity for layer _blocks.36._se_reduce: -9.5367431640625e-07\n",
      "Analyzing layer: _blocks.36._se_expand\n"
     ]
    },
    {
     "name": "stderr",
     "output_type": "stream",
     "text": [
      "                                                                                                                       \r"
     ]
    },
    {
     "name": "stdout",
     "output_type": "stream",
     "text": [
      "Validation Loss: 5.7689, Validation Accuracy: 0.83%\n",
      "Pruning layer with pruning rate: 0.1\n"
     ]
    },
    {
     "name": "stderr",
     "output_type": "stream",
     "text": [
      "                                                                                                                       \r"
     ]
    },
    {
     "name": "stdout",
     "output_type": "stream",
     "text": [
      "Validation Loss: 5.7689, Validation Accuracy: 0.83%\n",
      "Sensitivity for layer _blocks.36._se_expand: 3.0994415283203125e-06\n",
      "Analyzing layer: _blocks.36._project_conv\n"
     ]
    },
    {
     "name": "stderr",
     "output_type": "stream",
     "text": [
      "                                                                                                                       \r"
     ]
    },
    {
     "name": "stdout",
     "output_type": "stream",
     "text": [
      "Validation Loss: 5.7689, Validation Accuracy: 0.83%\n",
      "Pruning layer with pruning rate: 0.1\n"
     ]
    },
    {
     "name": "stderr",
     "output_type": "stream",
     "text": [
      "                                                                                                                       \r"
     ]
    },
    {
     "name": "stdout",
     "output_type": "stream",
     "text": [
      "Validation Loss: 5.7689, Validation Accuracy: 0.83%\n",
      "Sensitivity for layer _blocks.36._project_conv: -3.337860107421875e-06\n",
      "Analyzing layer: _blocks.37._expand_conv\n"
     ]
    },
    {
     "name": "stderr",
     "output_type": "stream",
     "text": [
      "                                                                                                                       \r"
     ]
    },
    {
     "name": "stdout",
     "output_type": "stream",
     "text": [
      "Validation Loss: 5.7689, Validation Accuracy: 0.83%\n",
      "Pruning layer with pruning rate: 0.1\n"
     ]
    },
    {
     "name": "stderr",
     "output_type": "stream",
     "text": [
      "                                                                                                                       \r"
     ]
    },
    {
     "name": "stdout",
     "output_type": "stream",
     "text": [
      "Validation Loss: 5.7689, Validation Accuracy: 0.83%\n",
      "Sensitivity for layer _blocks.37._expand_conv: 1.9073486328125e-06\n",
      "Analyzing layer: _blocks.37._depthwise_conv\n"
     ]
    },
    {
     "name": "stderr",
     "output_type": "stream",
     "text": [
      "                                                                                                                       \r"
     ]
    },
    {
     "name": "stdout",
     "output_type": "stream",
     "text": [
      "Validation Loss: 5.7689, Validation Accuracy: 0.83%\n",
      "Pruning layer with pruning rate: 0.1\n"
     ]
    },
    {
     "name": "stderr",
     "output_type": "stream",
     "text": [
      "                                                                                                                       \r"
     ]
    },
    {
     "name": "stdout",
     "output_type": "stream",
     "text": [
      "Validation Loss: 5.7689, Validation Accuracy: 0.83%\n",
      "Sensitivity for layer _blocks.37._depthwise_conv: -3.5762786865234375e-06\n",
      "Analyzing layer: _blocks.37._se_reduce\n"
     ]
    },
    {
     "name": "stderr",
     "output_type": "stream",
     "text": [
      "                                                                                                                       \r"
     ]
    },
    {
     "name": "stdout",
     "output_type": "stream",
     "text": [
      "Validation Loss: 5.7689, Validation Accuracy: 0.83%\n",
      "Pruning layer with pruning rate: 0.1\n"
     ]
    },
    {
     "name": "stderr",
     "output_type": "stream",
     "text": [
      "                                                                                                                       \r"
     ]
    },
    {
     "name": "stdout",
     "output_type": "stream",
     "text": [
      "Validation Loss: 5.7689, Validation Accuracy: 0.83%\n",
      "Sensitivity for layer _blocks.37._se_reduce: -4.76837158203125e-07\n",
      "Analyzing layer: _blocks.37._se_expand\n"
     ]
    },
    {
     "name": "stderr",
     "output_type": "stream",
     "text": [
      "                                                                                                                       \r"
     ]
    },
    {
     "name": "stdout",
     "output_type": "stream",
     "text": [
      "Validation Loss: 5.7689, Validation Accuracy: 0.83%\n",
      "Pruning layer with pruning rate: 0.1\n"
     ]
    },
    {
     "name": "stderr",
     "output_type": "stream",
     "text": [
      "                                                                                                                       \r"
     ]
    },
    {
     "name": "stdout",
     "output_type": "stream",
     "text": [
      "Validation Loss: 5.7689, Validation Accuracy: 0.83%\n",
      "Sensitivity for layer _blocks.37._se_expand: -7.152557373046875e-07\n",
      "Analyzing layer: _blocks.37._project_conv\n"
     ]
    },
    {
     "name": "stderr",
     "output_type": "stream",
     "text": [
      "                                                                                                                       \r"
     ]
    },
    {
     "name": "stdout",
     "output_type": "stream",
     "text": [
      "Validation Loss: 5.7689, Validation Accuracy: 0.83%\n",
      "Pruning layer with pruning rate: 0.1\n"
     ]
    },
    {
     "name": "stderr",
     "output_type": "stream",
     "text": [
      "                                                                                                                       \r"
     ]
    },
    {
     "name": "stdout",
     "output_type": "stream",
     "text": [
      "Validation Loss: 5.7689, Validation Accuracy: 0.83%\n",
      "Sensitivity for layer _blocks.37._project_conv: 2.1457672119140625e-06\n",
      "Analyzing layer: _blocks.38._expand_conv\n"
     ]
    },
    {
     "name": "stderr",
     "output_type": "stream",
     "text": [
      "                                                                                                                       \r"
     ]
    },
    {
     "name": "stdout",
     "output_type": "stream",
     "text": [
      "Validation Loss: 5.7689, Validation Accuracy: 0.83%\n",
      "Pruning layer with pruning rate: 0.1\n"
     ]
    },
    {
     "name": "stderr",
     "output_type": "stream",
     "text": [
      "                                                                                                                       \r"
     ]
    },
    {
     "name": "stdout",
     "output_type": "stream",
     "text": [
      "Validation Loss: 5.7687, Validation Accuracy: 0.83%\n",
      "Sensitivity for layer _blocks.38._expand_conv: -0.00015473365783691406\n",
      "Analyzing layer: _blocks.38._depthwise_conv\n"
     ]
    },
    {
     "name": "stderr",
     "output_type": "stream",
     "text": [
      "                                                                                                                       \r"
     ]
    },
    {
     "name": "stdout",
     "output_type": "stream",
     "text": [
      "Validation Loss: 5.7687, Validation Accuracy: 0.83%\n",
      "Pruning layer with pruning rate: 0.1\n"
     ]
    },
    {
     "name": "stderr",
     "output_type": "stream",
     "text": [
      "                                                                                                                       \r"
     ]
    },
    {
     "name": "stdout",
     "output_type": "stream",
     "text": [
      "Validation Loss: 5.7676, Validation Accuracy: 0.83%\n",
      "Sensitivity for layer _blocks.38._depthwise_conv: -0.0010788440704345703\n",
      "Analyzing layer: _blocks.38._se_reduce\n"
     ]
    },
    {
     "name": "stderr",
     "output_type": "stream",
     "text": [
      "                                                                                                                       \r"
     ]
    },
    {
     "name": "stdout",
     "output_type": "stream",
     "text": [
      "Validation Loss: 5.7676, Validation Accuracy: 0.83%\n",
      "Pruning layer with pruning rate: 0.1\n"
     ]
    },
    {
     "name": "stderr",
     "output_type": "stream",
     "text": [
      "                                                                                                                       \r"
     ]
    },
    {
     "name": "stdout",
     "output_type": "stream",
     "text": [
      "Validation Loss: 5.7674, Validation Accuracy: 0.83%\n",
      "Sensitivity for layer _blocks.38._se_reduce: -0.00026035308837890625\n",
      "Analyzing layer: _blocks.38._se_expand\n"
     ]
    },
    {
     "name": "stderr",
     "output_type": "stream",
     "text": [
      "                                                                                                                       \r"
     ]
    },
    {
     "name": "stdout",
     "output_type": "stream",
     "text": [
      "Validation Loss: 5.7674, Validation Accuracy: 0.83%\n",
      "Pruning layer with pruning rate: 0.1\n"
     ]
    },
    {
     "name": "stderr",
     "output_type": "stream",
     "text": [
      "                                                                                                                       \r"
     ]
    },
    {
     "name": "stdout",
     "output_type": "stream",
     "text": [
      "Validation Loss: 5.7673, Validation Accuracy: 0.83%\n",
      "Sensitivity for layer _blocks.38._se_expand: -6.842613220214844e-05\n",
      "Analyzing layer: _blocks.38._project_conv\n"
     ]
    },
    {
     "name": "stderr",
     "output_type": "stream",
     "text": [
      "                                                                                                                       \r"
     ]
    },
    {
     "name": "stdout",
     "output_type": "stream",
     "text": [
      "Validation Loss: 5.7673, Validation Accuracy: 0.83%\n",
      "Pruning layer with pruning rate: 0.1\n"
     ]
    },
    {
     "name": "stderr",
     "output_type": "stream",
     "text": [
      "                                                                                                                       \r"
     ]
    },
    {
     "name": "stdout",
     "output_type": "stream",
     "text": [
      "Validation Loss: 5.7668, Validation Accuracy: 0.83%\n",
      "Sensitivity for layer _blocks.38._project_conv: -0.0004744529724121094\n",
      "Analyzing layer: _blocks.39._expand_conv\n"
     ]
    },
    {
     "name": "stderr",
     "output_type": "stream",
     "text": [
      "                                                                                                                       \r"
     ]
    },
    {
     "name": "stdout",
     "output_type": "stream",
     "text": [
      "Validation Loss: 5.7668, Validation Accuracy: 0.83%\n",
      "Pruning layer with pruning rate: 0.1\n"
     ]
    },
    {
     "name": "stderr",
     "output_type": "stream",
     "text": [
      "                                                                                                                       \r"
     ]
    },
    {
     "name": "stdout",
     "output_type": "stream",
     "text": [
      "Validation Loss: 5.7666, Validation Accuracy: 0.83%\n",
      "Sensitivity for layer _blocks.39._expand_conv: -0.00023508071899414062\n",
      "Analyzing layer: _blocks.39._depthwise_conv\n"
     ]
    },
    {
     "name": "stderr",
     "output_type": "stream",
     "text": [
      "                                                                                                                       \r"
     ]
    },
    {
     "name": "stdout",
     "output_type": "stream",
     "text": [
      "Validation Loss: 5.7666, Validation Accuracy: 0.83%\n",
      "Pruning layer with pruning rate: 0.1\n"
     ]
    },
    {
     "name": "stderr",
     "output_type": "stream",
     "text": [
      "                                                                                                                       \r"
     ]
    },
    {
     "name": "stdout",
     "output_type": "stream",
     "text": [
      "Validation Loss: 5.7666, Validation Accuracy: 0.83%\n",
      "Sensitivity for layer _blocks.39._depthwise_conv: -3.147125244140625e-05\n",
      "Analyzing layer: _blocks.39._se_reduce\n"
     ]
    },
    {
     "name": "stderr",
     "output_type": "stream",
     "text": [
      "                                                                                                                       \r"
     ]
    },
    {
     "name": "stdout",
     "output_type": "stream",
     "text": [
      "Validation Loss: 5.7666, Validation Accuracy: 0.83%\n",
      "Pruning layer with pruning rate: 0.1\n"
     ]
    },
    {
     "name": "stderr",
     "output_type": "stream",
     "text": [
      "                                                                                                                       \r"
     ]
    },
    {
     "name": "stdout",
     "output_type": "stream",
     "text": [
      "Validation Loss: 5.7665, Validation Accuracy: 0.83%\n",
      "Sensitivity for layer _blocks.39._se_reduce: -9.5367431640625e-06\n",
      "Analyzing layer: _blocks.39._se_expand\n"
     ]
    },
    {
     "name": "stderr",
     "output_type": "stream",
     "text": [
      "                                                                                                                       \r"
     ]
    },
    {
     "name": "stdout",
     "output_type": "stream",
     "text": [
      "Validation Loss: 5.7665, Validation Accuracy: 0.83%\n",
      "Pruning layer with pruning rate: 0.1\n"
     ]
    },
    {
     "name": "stderr",
     "output_type": "stream",
     "text": [
      "                                                                                                                       \r"
     ]
    },
    {
     "name": "stdout",
     "output_type": "stream",
     "text": [
      "Validation Loss: 5.7666, Validation Accuracy: 0.83%\n",
      "Sensitivity for layer _blocks.39._se_expand: 1.2159347534179688e-05\n",
      "Analyzing layer: _blocks.39._project_conv\n"
     ]
    },
    {
     "name": "stderr",
     "output_type": "stream",
     "text": [
      "                                                                                                                       \r"
     ]
    },
    {
     "name": "stdout",
     "output_type": "stream",
     "text": [
      "Validation Loss: 5.7666, Validation Accuracy: 0.83%\n",
      "Pruning layer with pruning rate: 0.1\n"
     ]
    },
    {
     "name": "stderr",
     "output_type": "stream",
     "text": [
      "                                                                                                                       \r"
     ]
    },
    {
     "name": "stdout",
     "output_type": "stream",
     "text": [
      "Validation Loss: 5.7660, Validation Accuracy: 0.83%\n",
      "Sensitivity for layer _blocks.39._project_conv: -0.0005459785461425781\n",
      "Analyzing layer: _blocks.40._expand_conv\n"
     ]
    },
    {
     "name": "stderr",
     "output_type": "stream",
     "text": [
      "                                                                                                                       \r"
     ]
    },
    {
     "name": "stdout",
     "output_type": "stream",
     "text": [
      "Validation Loss: 5.7660, Validation Accuracy: 0.83%\n",
      "Pruning layer with pruning rate: 0.1\n"
     ]
    },
    {
     "name": "stderr",
     "output_type": "stream",
     "text": [
      "                                                                                                                       \r"
     ]
    },
    {
     "name": "stdout",
     "output_type": "stream",
     "text": [
      "Validation Loss: 5.7661, Validation Accuracy: 0.83%\n",
      "Sensitivity for layer _blocks.40._expand_conv: 5.888938903808594e-05\n",
      "Analyzing layer: _blocks.40._depthwise_conv\n"
     ]
    },
    {
     "name": "stderr",
     "output_type": "stream",
     "text": [
      "                                                                                                                       \r"
     ]
    },
    {
     "name": "stdout",
     "output_type": "stream",
     "text": [
      "Validation Loss: 5.7661, Validation Accuracy: 0.83%\n",
      "Pruning layer with pruning rate: 0.1\n"
     ]
    },
    {
     "name": "stderr",
     "output_type": "stream",
     "text": [
      "                                                                                                                       \r"
     ]
    },
    {
     "name": "stdout",
     "output_type": "stream",
     "text": [
      "Validation Loss: 5.7661, Validation Accuracy: 0.83%\n",
      "Sensitivity for layer _blocks.40._depthwise_conv: 1.0728836059570312e-05\n",
      "Analyzing layer: _blocks.40._se_reduce\n"
     ]
    },
    {
     "name": "stderr",
     "output_type": "stream",
     "text": [
      "                                                                                                                       \r"
     ]
    },
    {
     "name": "stdout",
     "output_type": "stream",
     "text": [
      "Validation Loss: 5.7661, Validation Accuracy: 0.83%\n",
      "Pruning layer with pruning rate: 0.1\n"
     ]
    },
    {
     "name": "stderr",
     "output_type": "stream",
     "text": [
      "                                                                                                                       \r"
     ]
    },
    {
     "name": "stdout",
     "output_type": "stream",
     "text": [
      "Validation Loss: 5.7661, Validation Accuracy: 0.83%\n",
      "Sensitivity for layer _blocks.40._se_reduce: -8.106231689453125e-06\n",
      "Analyzing layer: _blocks.40._se_expand\n"
     ]
    },
    {
     "name": "stderr",
     "output_type": "stream",
     "text": [
      "                                                                                                                       \r"
     ]
    },
    {
     "name": "stdout",
     "output_type": "stream",
     "text": [
      "Validation Loss: 5.7661, Validation Accuracy: 0.83%\n",
      "Pruning layer with pruning rate: 0.1\n"
     ]
    },
    {
     "name": "stderr",
     "output_type": "stream",
     "text": [
      "                                                                                                                       \r"
     ]
    },
    {
     "name": "stdout",
     "output_type": "stream",
     "text": [
      "Validation Loss: 5.7661, Validation Accuracy: 0.83%\n",
      "Sensitivity for layer _blocks.40._se_expand: 4.3392181396484375e-05\n",
      "Analyzing layer: _blocks.40._project_conv\n"
     ]
    },
    {
     "name": "stderr",
     "output_type": "stream",
     "text": [
      "                                                                                                                       \r"
     ]
    },
    {
     "name": "stdout",
     "output_type": "stream",
     "text": [
      "Validation Loss: 5.7661, Validation Accuracy: 0.83%\n",
      "Pruning layer with pruning rate: 0.1\n"
     ]
    },
    {
     "name": "stderr",
     "output_type": "stream",
     "text": [
      "                                                                                                                       \r"
     ]
    },
    {
     "name": "stdout",
     "output_type": "stream",
     "text": [
      "Validation Loss: 5.7660, Validation Accuracy: 0.83%\n",
      "Sensitivity for layer _blocks.40._project_conv: -0.00011086463928222656\n",
      "Analyzing layer: _blocks.41._expand_conv\n"
     ]
    },
    {
     "name": "stderr",
     "output_type": "stream",
     "text": [
      "                                                                                                                       \r"
     ]
    },
    {
     "name": "stdout",
     "output_type": "stream",
     "text": [
      "Validation Loss: 5.7660, Validation Accuracy: 0.83%\n",
      "Pruning layer with pruning rate: 0.1\n"
     ]
    },
    {
     "name": "stderr",
     "output_type": "stream",
     "text": [
      "                                                                                                                       \r"
     ]
    },
    {
     "name": "stdout",
     "output_type": "stream",
     "text": [
      "Validation Loss: 5.7660, Validation Accuracy: 0.83%\n",
      "Sensitivity for layer _blocks.41._expand_conv: -1.33514404296875e-05\n",
      "Analyzing layer: _blocks.41._depthwise_conv\n"
     ]
    },
    {
     "name": "stderr",
     "output_type": "stream",
     "text": [
      "                                                                                                                       \r"
     ]
    },
    {
     "name": "stdout",
     "output_type": "stream",
     "text": [
      "Validation Loss: 5.7660, Validation Accuracy: 0.83%\n",
      "Pruning layer with pruning rate: 0.1\n"
     ]
    },
    {
     "name": "stderr",
     "output_type": "stream",
     "text": [
      "                                                                                                                       \r"
     ]
    },
    {
     "name": "stdout",
     "output_type": "stream",
     "text": [
      "Validation Loss: 5.7660, Validation Accuracy: 0.83%\n",
      "Sensitivity for layer _blocks.41._depthwise_conv: 2.09808349609375e-05\n",
      "Analyzing layer: _blocks.41._se_reduce\n"
     ]
    },
    {
     "name": "stderr",
     "output_type": "stream",
     "text": [
      "                                                                                                                       \r"
     ]
    },
    {
     "name": "stdout",
     "output_type": "stream",
     "text": [
      "Validation Loss: 5.7660, Validation Accuracy: 0.83%\n",
      "Pruning layer with pruning rate: 0.1\n"
     ]
    },
    {
     "name": "stderr",
     "output_type": "stream",
     "text": [
      "                                                                                                                       \r"
     ]
    },
    {
     "name": "stdout",
     "output_type": "stream",
     "text": [
      "Validation Loss: 5.7660, Validation Accuracy: 0.83%\n",
      "Sensitivity for layer _blocks.41._se_reduce: -3.0994415283203125e-06\n",
      "Analyzing layer: _blocks.41._se_expand\n"
     ]
    },
    {
     "name": "stderr",
     "output_type": "stream",
     "text": [
      "                                                                                                                       \r"
     ]
    },
    {
     "name": "stdout",
     "output_type": "stream",
     "text": [
      "Validation Loss: 5.7660, Validation Accuracy: 0.83%\n",
      "Pruning layer with pruning rate: 0.1\n"
     ]
    },
    {
     "name": "stderr",
     "output_type": "stream",
     "text": [
      "                                                                                                                       \r"
     ]
    },
    {
     "name": "stdout",
     "output_type": "stream",
     "text": [
      "Validation Loss: 5.7660, Validation Accuracy: 0.83%\n",
      "Sensitivity for layer _blocks.41._se_expand: -1.2636184692382812e-05\n",
      "Analyzing layer: _blocks.41._project_conv\n"
     ]
    },
    {
     "name": "stderr",
     "output_type": "stream",
     "text": [
      "                                                                                                                       \r"
     ]
    },
    {
     "name": "stdout",
     "output_type": "stream",
     "text": [
      "Validation Loss: 5.7660, Validation Accuracy: 0.83%\n",
      "Pruning layer with pruning rate: 0.1\n"
     ]
    },
    {
     "name": "stderr",
     "output_type": "stream",
     "text": [
      "                                                                                                                       \r"
     ]
    },
    {
     "name": "stdout",
     "output_type": "stream",
     "text": [
      "Validation Loss: 5.7660, Validation Accuracy: 0.83%\n",
      "Sensitivity for layer _blocks.41._project_conv: -3.6716461181640625e-05\n",
      "Analyzing layer: _blocks.42._expand_conv\n"
     ]
    },
    {
     "name": "stderr",
     "output_type": "stream",
     "text": [
      "                                                                                                                       \r"
     ]
    },
    {
     "name": "stdout",
     "output_type": "stream",
     "text": [
      "Validation Loss: 5.7660, Validation Accuracy: 0.83%\n",
      "Pruning layer with pruning rate: 0.1\n"
     ]
    },
    {
     "name": "stderr",
     "output_type": "stream",
     "text": [
      "                                                                                                                       \r"
     ]
    },
    {
     "name": "stdout",
     "output_type": "stream",
     "text": [
      "Validation Loss: 5.7660, Validation Accuracy: 0.83%\n",
      "Sensitivity for layer _blocks.42._expand_conv: 2.5987625122070312e-05\n",
      "Analyzing layer: _blocks.42._depthwise_conv\n"
     ]
    },
    {
     "name": "stderr",
     "output_type": "stream",
     "text": [
      "                                                                                                                       \r"
     ]
    },
    {
     "name": "stdout",
     "output_type": "stream",
     "text": [
      "Validation Loss: 5.7660, Validation Accuracy: 0.83%\n",
      "Pruning layer with pruning rate: 0.1\n"
     ]
    },
    {
     "name": "stderr",
     "output_type": "stream",
     "text": [
      "                                                                                                                       \r"
     ]
    },
    {
     "name": "stdout",
     "output_type": "stream",
     "text": [
      "Validation Loss: 5.7660, Validation Accuracy: 0.83%\n",
      "Sensitivity for layer _blocks.42._depthwise_conv: -4.76837158203125e-07\n",
      "Analyzing layer: _blocks.42._se_reduce\n"
     ]
    },
    {
     "name": "stderr",
     "output_type": "stream",
     "text": [
      "                                                                                                                       \r"
     ]
    },
    {
     "name": "stdout",
     "output_type": "stream",
     "text": [
      "Validation Loss: 5.7660, Validation Accuracy: 0.83%\n",
      "Pruning layer with pruning rate: 0.1\n"
     ]
    },
    {
     "name": "stderr",
     "output_type": "stream",
     "text": [
      "                                                                                                                       \r"
     ]
    },
    {
     "name": "stdout",
     "output_type": "stream",
     "text": [
      "Validation Loss: 5.7660, Validation Accuracy: 0.83%\n",
      "Sensitivity for layer _blocks.42._se_reduce: 7.867813110351562e-06\n",
      "Analyzing layer: _blocks.42._se_expand\n"
     ]
    },
    {
     "name": "stderr",
     "output_type": "stream",
     "text": [
      "                                                                                                                       \r"
     ]
    },
    {
     "name": "stdout",
     "output_type": "stream",
     "text": [
      "Validation Loss: 5.7660, Validation Accuracy: 0.83%\n",
      "Pruning layer with pruning rate: 0.1\n"
     ]
    },
    {
     "name": "stderr",
     "output_type": "stream",
     "text": [
      "                                                                                                                       \r"
     ]
    },
    {
     "name": "stdout",
     "output_type": "stream",
     "text": [
      "Validation Loss: 5.7660, Validation Accuracy: 0.83%\n",
      "Sensitivity for layer _blocks.42._se_expand: -6.4373016357421875e-06\n",
      "Analyzing layer: _blocks.42._project_conv\n"
     ]
    },
    {
     "name": "stderr",
     "output_type": "stream",
     "text": [
      "                                                                                                                       \r"
     ]
    },
    {
     "name": "stdout",
     "output_type": "stream",
     "text": [
      "Validation Loss: 5.7660, Validation Accuracy: 0.83%\n",
      "Pruning layer with pruning rate: 0.1\n"
     ]
    },
    {
     "name": "stderr",
     "output_type": "stream",
     "text": [
      "                                                                                                                       \r"
     ]
    },
    {
     "name": "stdout",
     "output_type": "stream",
     "text": [
      "Validation Loss: 5.7660, Validation Accuracy: 0.83%\n",
      "Sensitivity for layer _blocks.42._project_conv: -1.6450881958007812e-05\n",
      "Analyzing layer: _blocks.43._expand_conv\n"
     ]
    },
    {
     "name": "stderr",
     "output_type": "stream",
     "text": [
      "                                                                                                                       \r"
     ]
    },
    {
     "name": "stdout",
     "output_type": "stream",
     "text": [
      "Validation Loss: 5.7660, Validation Accuracy: 0.83%\n",
      "Pruning layer with pruning rate: 0.1\n"
     ]
    },
    {
     "name": "stderr",
     "output_type": "stream",
     "text": [
      "                                                                                                                       \r"
     ]
    },
    {
     "name": "stdout",
     "output_type": "stream",
     "text": [
      "Validation Loss: 5.7659, Validation Accuracy: 0.83%\n",
      "Sensitivity for layer _blocks.43._expand_conv: -9.1552734375e-05\n",
      "Analyzing layer: _blocks.43._depthwise_conv\n"
     ]
    },
    {
     "name": "stderr",
     "output_type": "stream",
     "text": [
      "                                                                                                                       \r"
     ]
    },
    {
     "name": "stdout",
     "output_type": "stream",
     "text": [
      "Validation Loss: 5.7659, Validation Accuracy: 0.83%\n",
      "Pruning layer with pruning rate: 0.1\n"
     ]
    },
    {
     "name": "stderr",
     "output_type": "stream",
     "text": [
      "                                                                                                                       \r"
     ]
    },
    {
     "name": "stdout",
     "output_type": "stream",
     "text": [
      "Validation Loss: 5.7659, Validation Accuracy: 0.83%\n",
      "Sensitivity for layer _blocks.43._depthwise_conv: 1.9311904907226562e-05\n",
      "Analyzing layer: _blocks.43._se_reduce\n"
     ]
    },
    {
     "name": "stderr",
     "output_type": "stream",
     "text": [
      "                                                                                                                       \r"
     ]
    },
    {
     "name": "stdout",
     "output_type": "stream",
     "text": [
      "Validation Loss: 5.7659, Validation Accuracy: 0.83%\n",
      "Pruning layer with pruning rate: 0.1\n"
     ]
    },
    {
     "name": "stderr",
     "output_type": "stream",
     "text": [
      "                                                                                                                       \r"
     ]
    },
    {
     "name": "stdout",
     "output_type": "stream",
     "text": [
      "Validation Loss: 5.7659, Validation Accuracy: 0.83%\n",
      "Sensitivity for layer _blocks.43._se_reduce: -9.5367431640625e-06\n",
      "Analyzing layer: _blocks.43._se_expand\n"
     ]
    },
    {
     "name": "stderr",
     "output_type": "stream",
     "text": [
      "                                                                                                                       \r"
     ]
    },
    {
     "name": "stdout",
     "output_type": "stream",
     "text": [
      "Validation Loss: 5.7659, Validation Accuracy: 0.83%\n",
      "Pruning layer with pruning rate: 0.1\n"
     ]
    },
    {
     "name": "stderr",
     "output_type": "stream",
     "text": [
      "                                                                                                                       \r"
     ]
    },
    {
     "name": "stdout",
     "output_type": "stream",
     "text": [
      "Validation Loss: 5.7659, Validation Accuracy: 0.83%\n",
      "Sensitivity for layer _blocks.43._se_expand: -8.344650268554688e-06\n",
      "Analyzing layer: _blocks.43._project_conv\n"
     ]
    },
    {
     "name": "stderr",
     "output_type": "stream",
     "text": [
      "                                                                                                                       \r"
     ]
    },
    {
     "name": "stdout",
     "output_type": "stream",
     "text": [
      "Validation Loss: 5.7659, Validation Accuracy: 0.83%\n",
      "Pruning layer with pruning rate: 0.1\n"
     ]
    },
    {
     "name": "stderr",
     "output_type": "stream",
     "text": [
      "                                                                                                                       \r"
     ]
    },
    {
     "name": "stdout",
     "output_type": "stream",
     "text": [
      "Validation Loss: 5.7659, Validation Accuracy: 0.83%\n",
      "Sensitivity for layer _blocks.43._project_conv: -1.9073486328125e-05\n",
      "Analyzing layer: _blocks.44._expand_conv\n"
     ]
    },
    {
     "name": "stderr",
     "output_type": "stream",
     "text": [
      "                                                                                                                       \r"
     ]
    },
    {
     "name": "stdout",
     "output_type": "stream",
     "text": [
      "Validation Loss: 5.7659, Validation Accuracy: 0.83%\n",
      "Pruning layer with pruning rate: 0.1\n"
     ]
    },
    {
     "name": "stderr",
     "output_type": "stream",
     "text": [
      "                                                                                                                       \r"
     ]
    },
    {
     "name": "stdout",
     "output_type": "stream",
     "text": [
      "Validation Loss: 5.7658, Validation Accuracy: 0.83%\n",
      "Sensitivity for layer _blocks.44._expand_conv: -1.4543533325195312e-05\n",
      "Analyzing layer: _blocks.44._depthwise_conv\n"
     ]
    },
    {
     "name": "stderr",
     "output_type": "stream",
     "text": [
      "                                                                                                                       \r"
     ]
    },
    {
     "name": "stdout",
     "output_type": "stream",
     "text": [
      "Validation Loss: 5.7658, Validation Accuracy: 0.83%\n",
      "Pruning layer with pruning rate: 0.1\n"
     ]
    },
    {
     "name": "stderr",
     "output_type": "stream",
     "text": [
      "                                                                                                                       \r"
     ]
    },
    {
     "name": "stdout",
     "output_type": "stream",
     "text": [
      "Validation Loss: 5.7659, Validation Accuracy: 0.83%\n",
      "Sensitivity for layer _blocks.44._depthwise_conv: 3.886222839355469e-05\n",
      "Analyzing layer: _blocks.44._se_reduce\n"
     ]
    },
    {
     "name": "stderr",
     "output_type": "stream",
     "text": [
      "                                                                                                                       \r"
     ]
    },
    {
     "name": "stdout",
     "output_type": "stream",
     "text": [
      "Validation Loss: 5.7659, Validation Accuracy: 0.83%\n",
      "Pruning layer with pruning rate: 0.1\n"
     ]
    },
    {
     "name": "stderr",
     "output_type": "stream",
     "text": [
      "                                                                                                                       \r"
     ]
    },
    {
     "name": "stdout",
     "output_type": "stream",
     "text": [
      "Validation Loss: 5.7659, Validation Accuracy: 0.83%\n",
      "Sensitivity for layer _blocks.44._se_reduce: -8.58306884765625e-06\n",
      "Analyzing layer: _blocks.44._se_expand\n"
     ]
    },
    {
     "name": "stderr",
     "output_type": "stream",
     "text": [
      "                                                                                                                       \r"
     ]
    },
    {
     "name": "stdout",
     "output_type": "stream",
     "text": [
      "Validation Loss: 5.7659, Validation Accuracy: 0.83%\n",
      "Pruning layer with pruning rate: 0.1\n"
     ]
    },
    {
     "name": "stderr",
     "output_type": "stream",
     "text": [
      "                                                                                                                       \r"
     ]
    },
    {
     "name": "stdout",
     "output_type": "stream",
     "text": [
      "Validation Loss: 5.7659, Validation Accuracy: 0.83%\n",
      "Sensitivity for layer _blocks.44._se_expand: 5.245208740234375e-06\n",
      "Analyzing layer: _blocks.44._project_conv\n"
     ]
    },
    {
     "name": "stderr",
     "output_type": "stream",
     "text": [
      "                                                                                                                       \r"
     ]
    },
    {
     "name": "stdout",
     "output_type": "stream",
     "text": [
      "Validation Loss: 5.7659, Validation Accuracy: 0.83%\n",
      "Pruning layer with pruning rate: 0.1\n"
     ]
    },
    {
     "name": "stderr",
     "output_type": "stream",
     "text": [
      "                                                                                                                       \r"
     ]
    },
    {
     "name": "stdout",
     "output_type": "stream",
     "text": [
      "Validation Loss: 5.7657, Validation Accuracy: 0.83%\n",
      "Sensitivity for layer _blocks.44._project_conv: -0.00015878677368164062\n",
      "Analyzing layer: _blocks.45._expand_conv\n"
     ]
    },
    {
     "name": "stderr",
     "output_type": "stream",
     "text": [
      "                                                                                                                       \r"
     ]
    },
    {
     "name": "stdout",
     "output_type": "stream",
     "text": [
      "Validation Loss: 5.7657, Validation Accuracy: 0.83%\n",
      "Pruning layer with pruning rate: 0.1\n"
     ]
    },
    {
     "name": "stderr",
     "output_type": "stream",
     "text": [
      "                                                                                                                       \r"
     ]
    },
    {
     "name": "stdout",
     "output_type": "stream",
     "text": [
      "Validation Loss: 5.7658, Validation Accuracy: 0.83%\n",
      "Sensitivity for layer _blocks.45._expand_conv: 3.337860107421875e-05\n",
      "Analyzing layer: _blocks.45._depthwise_conv\n"
     ]
    },
    {
     "name": "stderr",
     "output_type": "stream",
     "text": [
      "                                                                                                                       \r"
     ]
    },
    {
     "name": "stdout",
     "output_type": "stream",
     "text": [
      "Validation Loss: 5.7658, Validation Accuracy: 0.83%\n",
      "Pruning layer with pruning rate: 0.1\n"
     ]
    },
    {
     "name": "stderr",
     "output_type": "stream",
     "text": [
      "                                                                                                                       \r"
     ]
    },
    {
     "name": "stdout",
     "output_type": "stream",
     "text": [
      "Validation Loss: 5.7658, Validation Accuracy: 0.83%\n",
      "Sensitivity for layer _blocks.45._depthwise_conv: -5.245208740234375e-06\n",
      "Analyzing layer: _blocks.45._se_reduce\n"
     ]
    },
    {
     "name": "stderr",
     "output_type": "stream",
     "text": [
      "                                                                                                                       \r"
     ]
    },
    {
     "name": "stdout",
     "output_type": "stream",
     "text": [
      "Validation Loss: 5.7658, Validation Accuracy: 0.83%\n",
      "Pruning layer with pruning rate: 0.1\n"
     ]
    },
    {
     "name": "stderr",
     "output_type": "stream",
     "text": [
      "                                                                                                                       \r"
     ]
    },
    {
     "name": "stdout",
     "output_type": "stream",
     "text": [
      "Validation Loss: 5.7658, Validation Accuracy: 0.83%\n",
      "Sensitivity for layer _blocks.45._se_reduce: 2.6226043701171875e-06\n",
      "Analyzing layer: _blocks.45._se_expand\n"
     ]
    },
    {
     "name": "stderr",
     "output_type": "stream",
     "text": [
      "                                                                                                                       \r"
     ]
    },
    {
     "name": "stdout",
     "output_type": "stream",
     "text": [
      "Validation Loss: 5.7658, Validation Accuracy: 0.83%\n",
      "Pruning layer with pruning rate: 0.1\n"
     ]
    },
    {
     "name": "stderr",
     "output_type": "stream",
     "text": [
      "                                                                                                                       \r"
     ]
    },
    {
     "name": "stdout",
     "output_type": "stream",
     "text": [
      "Validation Loss: 5.7658, Validation Accuracy: 0.83%\n",
      "Sensitivity for layer _blocks.45._se_expand: 4.5299530029296875e-06\n",
      "Analyzing layer: _blocks.45._project_conv\n"
     ]
    },
    {
     "name": "stderr",
     "output_type": "stream",
     "text": [
      "                                                                                                                       \r"
     ]
    },
    {
     "name": "stdout",
     "output_type": "stream",
     "text": [
      "Validation Loss: 5.7658, Validation Accuracy: 0.83%\n",
      "Pruning layer with pruning rate: 0.1\n"
     ]
    },
    {
     "name": "stderr",
     "output_type": "stream",
     "text": [
      "                                                                                                                       \r"
     ]
    },
    {
     "name": "stdout",
     "output_type": "stream",
     "text": [
      "Validation Loss: 5.7658, Validation Accuracy: 0.83%\n",
      "Sensitivity for layer _blocks.45._project_conv: 8.249282836914062e-05\n",
      "Analyzing layer: _blocks.46._expand_conv\n"
     ]
    },
    {
     "name": "stderr",
     "output_type": "stream",
     "text": [
      "                                                                                                                       \r"
     ]
    },
    {
     "name": "stdout",
     "output_type": "stream",
     "text": [
      "Validation Loss: 5.7658, Validation Accuracy: 0.83%\n",
      "Pruning layer with pruning rate: 0.1\n"
     ]
    },
    {
     "name": "stderr",
     "output_type": "stream",
     "text": [
      "                                                                                                                       \r"
     ]
    },
    {
     "name": "stdout",
     "output_type": "stream",
     "text": [
      "Validation Loss: 5.7658, Validation Accuracy: 0.83%\n",
      "Sensitivity for layer _blocks.46._expand_conv: -2.5272369384765625e-05\n",
      "Analyzing layer: _blocks.46._depthwise_conv\n"
     ]
    },
    {
     "name": "stderr",
     "output_type": "stream",
     "text": [
      "                                                                                                                       \r"
     ]
    },
    {
     "name": "stdout",
     "output_type": "stream",
     "text": [
      "Validation Loss: 5.7658, Validation Accuracy: 0.83%\n",
      "Pruning layer with pruning rate: 0.1\n"
     ]
    },
    {
     "name": "stderr",
     "output_type": "stream",
     "text": [
      "                                                                                                                       \r"
     ]
    },
    {
     "name": "stdout",
     "output_type": "stream",
     "text": [
      "Validation Loss: 5.7658, Validation Accuracy: 0.83%\n",
      "Sensitivity for layer _blocks.46._depthwise_conv: 1.6927719116210938e-05\n",
      "Analyzing layer: _blocks.46._se_reduce\n"
     ]
    },
    {
     "name": "stderr",
     "output_type": "stream",
     "text": [
      "                                                                                                                       \r"
     ]
    },
    {
     "name": "stdout",
     "output_type": "stream",
     "text": [
      "Validation Loss: 5.7658, Validation Accuracy: 0.83%\n",
      "Pruning layer with pruning rate: 0.1\n"
     ]
    },
    {
     "name": "stderr",
     "output_type": "stream",
     "text": [
      "                                                                                                                       \r"
     ]
    },
    {
     "name": "stdout",
     "output_type": "stream",
     "text": [
      "Validation Loss: 5.7658, Validation Accuracy: 0.83%\n",
      "Sensitivity for layer _blocks.46._se_reduce: -1.1920928955078125e-06\n",
      "Analyzing layer: _blocks.46._se_expand\n"
     ]
    },
    {
     "name": "stderr",
     "output_type": "stream",
     "text": [
      "                                                                                                                       \r"
     ]
    },
    {
     "name": "stdout",
     "output_type": "stream",
     "text": [
      "Validation Loss: 5.7658, Validation Accuracy: 0.83%\n",
      "Pruning layer with pruning rate: 0.1\n"
     ]
    },
    {
     "name": "stderr",
     "output_type": "stream",
     "text": [
      "                                                                                                                       \r"
     ]
    },
    {
     "name": "stdout",
     "output_type": "stream",
     "text": [
      "Validation Loss: 5.7658, Validation Accuracy: 0.83%\n",
      "Sensitivity for layer _blocks.46._se_expand: 3.5762786865234375e-06\n",
      "Analyzing layer: _blocks.46._project_conv\n"
     ]
    },
    {
     "name": "stderr",
     "output_type": "stream",
     "text": [
      "                                                                                                                       \r"
     ]
    },
    {
     "name": "stdout",
     "output_type": "stream",
     "text": [
      "Validation Loss: 5.7658, Validation Accuracy: 0.83%\n",
      "Pruning layer with pruning rate: 0.1\n"
     ]
    },
    {
     "name": "stderr",
     "output_type": "stream",
     "text": [
      "                                                                                                                       \r"
     ]
    },
    {
     "name": "stdout",
     "output_type": "stream",
     "text": [
      "Validation Loss: 5.7658, Validation Accuracy: 0.83%\n",
      "Sensitivity for layer _blocks.46._project_conv: -5.173683166503906e-05\n",
      "Analyzing layer: _blocks.47._expand_conv\n"
     ]
    },
    {
     "name": "stderr",
     "output_type": "stream",
     "text": [
      "                                                                                                                       \r"
     ]
    },
    {
     "name": "stdout",
     "output_type": "stream",
     "text": [
      "Validation Loss: 5.7658, Validation Accuracy: 0.83%\n",
      "Pruning layer with pruning rate: 0.1\n"
     ]
    },
    {
     "name": "stderr",
     "output_type": "stream",
     "text": [
      "                                                                                                                       \r"
     ]
    },
    {
     "name": "stdout",
     "output_type": "stream",
     "text": [
      "Validation Loss: 5.7657, Validation Accuracy: 0.83%\n",
      "Sensitivity for layer _blocks.47._expand_conv: -0.0001232624053955078\n",
      "Analyzing layer: _blocks.47._depthwise_conv\n"
     ]
    },
    {
     "name": "stderr",
     "output_type": "stream",
     "text": [
      "                                                                                                                       \r"
     ]
    },
    {
     "name": "stdout",
     "output_type": "stream",
     "text": [
      "Validation Loss: 5.7657, Validation Accuracy: 0.83%\n",
      "Pruning layer with pruning rate: 0.1\n"
     ]
    },
    {
     "name": "stderr",
     "output_type": "stream",
     "text": [
      "                                                                                                                       \r"
     ]
    },
    {
     "name": "stdout",
     "output_type": "stream",
     "text": [
      "Validation Loss: 5.7656, Validation Accuracy: 0.83%\n",
      "Sensitivity for layer _blocks.47._depthwise_conv: -1.7881393432617188e-05\n",
      "Analyzing layer: _blocks.47._se_reduce\n"
     ]
    },
    {
     "name": "stderr",
     "output_type": "stream",
     "text": [
      "                                                                                                                       \r"
     ]
    },
    {
     "name": "stdout",
     "output_type": "stream",
     "text": [
      "Validation Loss: 5.7656, Validation Accuracy: 0.83%\n",
      "Pruning layer with pruning rate: 0.1\n"
     ]
    },
    {
     "name": "stderr",
     "output_type": "stream",
     "text": [
      "                                                                                                                       \r"
     ]
    },
    {
     "name": "stdout",
     "output_type": "stream",
     "text": [
      "Validation Loss: 5.7656, Validation Accuracy: 0.83%\n",
      "Sensitivity for layer _blocks.47._se_reduce: -8.821487426757812e-06\n",
      "Analyzing layer: _blocks.47._se_expand\n"
     ]
    },
    {
     "name": "stderr",
     "output_type": "stream",
     "text": [
      "                                                                                                                       \r"
     ]
    },
    {
     "name": "stdout",
     "output_type": "stream",
     "text": [
      "Validation Loss: 5.7656, Validation Accuracy: 0.83%\n",
      "Pruning layer with pruning rate: 0.1\n"
     ]
    },
    {
     "name": "stderr",
     "output_type": "stream",
     "text": [
      "                                                                                                                       \r"
     ]
    },
    {
     "name": "stdout",
     "output_type": "stream",
     "text": [
      "Validation Loss: 5.7656, Validation Accuracy: 0.83%\n",
      "Sensitivity for layer _blocks.47._se_expand: 4.76837158203125e-06\n",
      "Analyzing layer: _blocks.47._project_conv\n"
     ]
    },
    {
     "name": "stderr",
     "output_type": "stream",
     "text": [
      "                                                                                                                       \r"
     ]
    },
    {
     "name": "stdout",
     "output_type": "stream",
     "text": [
      "Validation Loss: 5.7656, Validation Accuracy: 0.83%\n",
      "Pruning layer with pruning rate: 0.1\n"
     ]
    },
    {
     "name": "stderr",
     "output_type": "stream",
     "text": [
      "                                                                                                                       \r"
     ]
    },
    {
     "name": "stdout",
     "output_type": "stream",
     "text": [
      "Validation Loss: 5.7656, Validation Accuracy: 0.83%\n",
      "Sensitivity for layer _blocks.47._project_conv: 1.1444091796875e-05\n",
      "Analyzing layer: _blocks.48._expand_conv\n"
     ]
    },
    {
     "name": "stderr",
     "output_type": "stream",
     "text": [
      "                                                                                                                       \r"
     ]
    },
    {
     "name": "stdout",
     "output_type": "stream",
     "text": [
      "Validation Loss: 5.7656, Validation Accuracy: 0.83%\n",
      "Pruning layer with pruning rate: 0.1\n"
     ]
    },
    {
     "name": "stderr",
     "output_type": "stream",
     "text": [
      "                                                                                                                       \r"
     ]
    },
    {
     "name": "stdout",
     "output_type": "stream",
     "text": [
      "Validation Loss: 5.7656, Validation Accuracy: 0.83%\n",
      "Sensitivity for layer _blocks.48._expand_conv: -4.4345855712890625e-05\n",
      "Analyzing layer: _blocks.48._depthwise_conv\n"
     ]
    },
    {
     "name": "stderr",
     "output_type": "stream",
     "text": [
      "                                                                                                                       \r"
     ]
    },
    {
     "name": "stdout",
     "output_type": "stream",
     "text": [
      "Validation Loss: 5.7656, Validation Accuracy: 0.83%\n",
      "Pruning layer with pruning rate: 0.1\n"
     ]
    },
    {
     "name": "stderr",
     "output_type": "stream",
     "text": [
      "                                                                                                                       \r"
     ]
    },
    {
     "name": "stdout",
     "output_type": "stream",
     "text": [
      "Validation Loss: 5.7656, Validation Accuracy: 0.83%\n",
      "Sensitivity for layer _blocks.48._depthwise_conv: -2.1219253540039062e-05\n",
      "Analyzing layer: _blocks.48._se_reduce\n"
     ]
    },
    {
     "name": "stderr",
     "output_type": "stream",
     "text": [
      "                                                                                                                       \r"
     ]
    },
    {
     "name": "stdout",
     "output_type": "stream",
     "text": [
      "Validation Loss: 5.7656, Validation Accuracy: 0.83%\n",
      "Pruning layer with pruning rate: 0.1\n"
     ]
    },
    {
     "name": "stderr",
     "output_type": "stream",
     "text": [
      "                                                                                                                       \r"
     ]
    },
    {
     "name": "stdout",
     "output_type": "stream",
     "text": [
      "Validation Loss: 5.7656, Validation Accuracy: 0.83%\n",
      "Sensitivity for layer _blocks.48._se_reduce: 1.4781951904296875e-05\n",
      "Analyzing layer: _blocks.48._se_expand\n"
     ]
    },
    {
     "name": "stderr",
     "output_type": "stream",
     "text": [
      "                                                                                                                       \r"
     ]
    },
    {
     "name": "stdout",
     "output_type": "stream",
     "text": [
      "Validation Loss: 5.7656, Validation Accuracy: 0.83%\n",
      "Pruning layer with pruning rate: 0.1\n"
     ]
    },
    {
     "name": "stderr",
     "output_type": "stream",
     "text": [
      "                                                                                                                       \r"
     ]
    },
    {
     "name": "stdout",
     "output_type": "stream",
     "text": [
      "Validation Loss: 5.7656, Validation Accuracy: 0.83%\n",
      "Sensitivity for layer _blocks.48._se_expand: -1.2159347534179688e-05\n",
      "Analyzing layer: _blocks.48._project_conv\n"
     ]
    },
    {
     "name": "stderr",
     "output_type": "stream",
     "text": [
      "                                                                                                                       \r"
     ]
    },
    {
     "name": "stdout",
     "output_type": "stream",
     "text": [
      "Validation Loss: 5.7656, Validation Accuracy: 0.83%\n",
      "Pruning layer with pruning rate: 0.1\n"
     ]
    },
    {
     "name": "stderr",
     "output_type": "stream",
     "text": [
      "                                                                                                                       \r"
     ]
    },
    {
     "name": "stdout",
     "output_type": "stream",
     "text": [
      "Validation Loss: 5.7655, Validation Accuracy: 0.83%\n",
      "Sensitivity for layer _blocks.48._project_conv: -6.508827209472656e-05\n",
      "Analyzing layer: _blocks.49._expand_conv\n"
     ]
    },
    {
     "name": "stderr",
     "output_type": "stream",
     "text": [
      "                                                                                                                       \r"
     ]
    },
    {
     "name": "stdout",
     "output_type": "stream",
     "text": [
      "Validation Loss: 5.7655, Validation Accuracy: 0.83%\n",
      "Pruning layer with pruning rate: 0.1\n"
     ]
    },
    {
     "name": "stderr",
     "output_type": "stream",
     "text": [
      "                                                                                                                       \r"
     ]
    },
    {
     "name": "stdout",
     "output_type": "stream",
     "text": [
      "Validation Loss: 5.7654, Validation Accuracy: 0.83%\n",
      "Sensitivity for layer _blocks.49._expand_conv: -0.0001316070556640625\n",
      "Analyzing layer: _blocks.49._depthwise_conv\n"
     ]
    },
    {
     "name": "stderr",
     "output_type": "stream",
     "text": [
      "                                                                                                                       \r"
     ]
    },
    {
     "name": "stdout",
     "output_type": "stream",
     "text": [
      "Validation Loss: 5.7654, Validation Accuracy: 0.83%\n",
      "Pruning layer with pruning rate: 0.1\n"
     ]
    },
    {
     "name": "stderr",
     "output_type": "stream",
     "text": [
      "                                                                                                                       \r"
     ]
    },
    {
     "name": "stdout",
     "output_type": "stream",
     "text": [
      "Validation Loss: 5.7654, Validation Accuracy: 0.83%\n",
      "Sensitivity for layer _blocks.49._depthwise_conv: 1.4066696166992188e-05\n",
      "Analyzing layer: _blocks.49._se_reduce\n"
     ]
    },
    {
     "name": "stderr",
     "output_type": "stream",
     "text": [
      "                                                                                                                       \r"
     ]
    },
    {
     "name": "stdout",
     "output_type": "stream",
     "text": [
      "Validation Loss: 5.7654, Validation Accuracy: 0.83%\n",
      "Pruning layer with pruning rate: 0.1\n"
     ]
    },
    {
     "name": "stderr",
     "output_type": "stream",
     "text": [
      "                                                                                                                       \r"
     ]
    },
    {
     "name": "stdout",
     "output_type": "stream",
     "text": [
      "Validation Loss: 5.7654, Validation Accuracy: 0.83%\n",
      "Sensitivity for layer _blocks.49._se_reduce: -9.5367431640625e-07\n",
      "Analyzing layer: _blocks.49._se_expand\n"
     ]
    },
    {
     "name": "stderr",
     "output_type": "stream",
     "text": [
      "                                                                                                                       \r"
     ]
    },
    {
     "name": "stdout",
     "output_type": "stream",
     "text": [
      "Validation Loss: 5.7654, Validation Accuracy: 0.83%\n",
      "Pruning layer with pruning rate: 0.1\n"
     ]
    },
    {
     "name": "stderr",
     "output_type": "stream",
     "text": [
      "                                                                                                                       \r"
     ]
    },
    {
     "name": "stdout",
     "output_type": "stream",
     "text": [
      "Validation Loss: 5.7654, Validation Accuracy: 0.83%\n",
      "Sensitivity for layer _blocks.49._se_expand: 2.1457672119140625e-06\n",
      "Analyzing layer: _blocks.49._project_conv\n"
     ]
    },
    {
     "name": "stderr",
     "output_type": "stream",
     "text": [
      "                                                                                                                       \r"
     ]
    },
    {
     "name": "stdout",
     "output_type": "stream",
     "text": [
      "Validation Loss: 5.7654, Validation Accuracy: 0.83%\n",
      "Pruning layer with pruning rate: 0.1\n"
     ]
    },
    {
     "name": "stderr",
     "output_type": "stream",
     "text": [
      "                                                                                                                       \r"
     ]
    },
    {
     "name": "stdout",
     "output_type": "stream",
     "text": [
      "Validation Loss: 5.7654, Validation Accuracy: 0.83%\n",
      "Sensitivity for layer _blocks.49._project_conv: 2.6464462280273438e-05\n",
      "Analyzing layer: _blocks.50._expand_conv\n"
     ]
    },
    {
     "name": "stderr",
     "output_type": "stream",
     "text": [
      "                                                                                                                       \r"
     ]
    },
    {
     "name": "stdout",
     "output_type": "stream",
     "text": [
      "Validation Loss: 5.7654, Validation Accuracy: 0.83%\n",
      "Pruning layer with pruning rate: 0.1\n"
     ]
    },
    {
     "name": "stderr",
     "output_type": "stream",
     "text": [
      "                                                                                                                       \r"
     ]
    },
    {
     "name": "stdout",
     "output_type": "stream",
     "text": [
      "Validation Loss: 5.7654, Validation Accuracy: 0.83%\n",
      "Sensitivity for layer _blocks.50._expand_conv: 5.245208740234375e-06\n",
      "Analyzing layer: _blocks.50._depthwise_conv\n"
     ]
    },
    {
     "name": "stderr",
     "output_type": "stream",
     "text": [
      "                                                                                                                       \r"
     ]
    },
    {
     "name": "stdout",
     "output_type": "stream",
     "text": [
      "Validation Loss: 5.7654, Validation Accuracy: 0.83%\n",
      "Pruning layer with pruning rate: 0.1\n"
     ]
    },
    {
     "name": "stderr",
     "output_type": "stream",
     "text": [
      "                                                                                                                       \r"
     ]
    },
    {
     "name": "stdout",
     "output_type": "stream",
     "text": [
      "Validation Loss: 5.7654, Validation Accuracy: 0.83%\n",
      "Sensitivity for layer _blocks.50._depthwise_conv: -7.43865966796875e-05\n",
      "Analyzing layer: _blocks.50._se_reduce\n"
     ]
    },
    {
     "name": "stderr",
     "output_type": "stream",
     "text": [
      "                                                                                                                       \r"
     ]
    },
    {
     "name": "stdout",
     "output_type": "stream",
     "text": [
      "Validation Loss: 5.7654, Validation Accuracy: 0.83%\n",
      "Pruning layer with pruning rate: 0.1\n"
     ]
    },
    {
     "name": "stderr",
     "output_type": "stream",
     "text": [
      "                                                                                                                       \r"
     ]
    },
    {
     "name": "stdout",
     "output_type": "stream",
     "text": [
      "Validation Loss: 5.7654, Validation Accuracy: 0.83%\n",
      "Sensitivity for layer _blocks.50._se_reduce: -2.384185791015625e-07\n",
      "Analyzing layer: _blocks.50._se_expand\n"
     ]
    },
    {
     "name": "stderr",
     "output_type": "stream",
     "text": [
      "                                                                                                                       \r"
     ]
    },
    {
     "name": "stdout",
     "output_type": "stream",
     "text": [
      "Validation Loss: 5.7654, Validation Accuracy: 0.83%\n",
      "Pruning layer with pruning rate: 0.1\n"
     ]
    },
    {
     "name": "stderr",
     "output_type": "stream",
     "text": [
      "                                                                                                                       \r"
     ]
    },
    {
     "name": "stdout",
     "output_type": "stream",
     "text": [
      "Validation Loss: 5.7654, Validation Accuracy: 0.83%\n",
      "Sensitivity for layer _blocks.50._se_expand: 1.6689300537109375e-06\n",
      "Analyzing layer: _blocks.50._project_conv\n"
     ]
    },
    {
     "name": "stderr",
     "output_type": "stream",
     "text": [
      "                                                                                                                       \r"
     ]
    },
    {
     "name": "stdout",
     "output_type": "stream",
     "text": [
      "Validation Loss: 5.7654, Validation Accuracy: 0.83%\n",
      "Pruning layer with pruning rate: 0.1\n"
     ]
    },
    {
     "name": "stderr",
     "output_type": "stream",
     "text": [
      "                                                                                                                       \r"
     ]
    },
    {
     "name": "stdout",
     "output_type": "stream",
     "text": [
      "Validation Loss: 5.7652, Validation Accuracy: 0.83%\n",
      "Sensitivity for layer _blocks.50._project_conv: -0.00012683868408203125\n",
      "Analyzing layer: _blocks.51._expand_conv\n"
     ]
    },
    {
     "name": "stderr",
     "output_type": "stream",
     "text": [
      "                                                                                                                       \r"
     ]
    },
    {
     "name": "stdout",
     "output_type": "stream",
     "text": [
      "Validation Loss: 5.7652, Validation Accuracy: 0.83%\n",
      "Pruning layer with pruning rate: 0.1\n"
     ]
    },
    {
     "name": "stderr",
     "output_type": "stream",
     "text": [
      "                                                                                                                       \r"
     ]
    },
    {
     "name": "stdout",
     "output_type": "stream",
     "text": [
      "Validation Loss: 5.7488, Validation Accuracy: 0.83%\n",
      "Sensitivity for layer _blocks.51._expand_conv: -0.016422510147094727\n",
      "Analyzing layer: _blocks.51._depthwise_conv\n"
     ]
    },
    {
     "name": "stderr",
     "output_type": "stream",
     "text": [
      "                                                                                                                       \r"
     ]
    },
    {
     "name": "stdout",
     "output_type": "stream",
     "text": [
      "Validation Loss: 5.7488, Validation Accuracy: 0.83%\n",
      "Pruning layer with pruning rate: 0.1\n"
     ]
    },
    {
     "name": "stderr",
     "output_type": "stream",
     "text": [
      "                                                                                                                       \r"
     ]
    },
    {
     "name": "stdout",
     "output_type": "stream",
     "text": [
      "Validation Loss: 5.7537, Validation Accuracy: 0.83%\n",
      "Sensitivity for layer _blocks.51._depthwise_conv: 0.004862308502197266\n",
      "Analyzing layer: _blocks.51._se_reduce\n"
     ]
    },
    {
     "name": "stderr",
     "output_type": "stream",
     "text": [
      "                                                                                                                       \r"
     ]
    },
    {
     "name": "stdout",
     "output_type": "stream",
     "text": [
      "Validation Loss: 5.7537, Validation Accuracy: 0.83%\n",
      "Pruning layer with pruning rate: 0.1\n"
     ]
    },
    {
     "name": "stderr",
     "output_type": "stream",
     "text": [
      "                                                                                                                       \r"
     ]
    },
    {
     "name": "stdout",
     "output_type": "stream",
     "text": [
      "Validation Loss: 5.7551, Validation Accuracy: 0.83%\n",
      "Sensitivity for layer _blocks.51._se_reduce: 0.0014042854309082031\n",
      "Analyzing layer: _blocks.51._se_expand\n"
     ]
    },
    {
     "name": "stderr",
     "output_type": "stream",
     "text": [
      "                                                                                                                       \r"
     ]
    },
    {
     "name": "stdout",
     "output_type": "stream",
     "text": [
      "Validation Loss: 5.7551, Validation Accuracy: 0.83%\n",
      "Pruning layer with pruning rate: 0.1\n"
     ]
    },
    {
     "name": "stderr",
     "output_type": "stream",
     "text": [
      "                                                                                                                       \r"
     ]
    },
    {
     "name": "stdout",
     "output_type": "stream",
     "text": [
      "Validation Loss: 5.7553, Validation Accuracy: 0.83%\n",
      "Sensitivity for layer _blocks.51._se_expand: 0.0002498626708984375\n",
      "Analyzing layer: _blocks.51._project_conv\n"
     ]
    },
    {
     "name": "stderr",
     "output_type": "stream",
     "text": [
      "                                                                                                                       \r"
     ]
    },
    {
     "name": "stdout",
     "output_type": "stream",
     "text": [
      "Validation Loss: 5.7553, Validation Accuracy: 0.83%\n",
      "Pruning layer with pruning rate: 0.1\n"
     ]
    },
    {
     "name": "stderr",
     "output_type": "stream",
     "text": [
      "                                                                                                                       \r"
     ]
    },
    {
     "name": "stdout",
     "output_type": "stream",
     "text": [
      "Validation Loss: 5.7538, Validation Accuracy: 0.83%\n",
      "Sensitivity for layer _blocks.51._project_conv: -0.0015659332275390625\n",
      "Analyzing layer: _blocks.52._expand_conv\n"
     ]
    },
    {
     "name": "stderr",
     "output_type": "stream",
     "text": [
      "                                                                                                                       \r"
     ]
    },
    {
     "name": "stdout",
     "output_type": "stream",
     "text": [
      "Validation Loss: 5.7538, Validation Accuracy: 0.83%\n",
      "Pruning layer with pruning rate: 0.1\n"
     ]
    },
    {
     "name": "stderr",
     "output_type": "stream",
     "text": [
      "                                                                                                                       \r"
     ]
    },
    {
     "name": "stdout",
     "output_type": "stream",
     "text": [
      "Validation Loss: 5.7594, Validation Accuracy: 0.83%\n",
      "Sensitivity for layer _blocks.52._expand_conv: 0.0056688785552978516\n",
      "Analyzing layer: _blocks.52._depthwise_conv\n"
     ]
    },
    {
     "name": "stderr",
     "output_type": "stream",
     "text": [
      "                                                                                                                       \r"
     ]
    },
    {
     "name": "stdout",
     "output_type": "stream",
     "text": [
      "Validation Loss: 5.7594, Validation Accuracy: 0.83%\n",
      "Pruning layer with pruning rate: 0.1\n"
     ]
    },
    {
     "name": "stderr",
     "output_type": "stream",
     "text": [
      "                                                                                                                       \r"
     ]
    },
    {
     "name": "stdout",
     "output_type": "stream",
     "text": [
      "Validation Loss: 5.7601, Validation Accuracy: 0.83%\n",
      "Sensitivity for layer _blocks.52._depthwise_conv: 0.0006678104400634766\n",
      "Analyzing layer: _blocks.52._se_reduce\n"
     ]
    },
    {
     "name": "stderr",
     "output_type": "stream",
     "text": [
      "                                                                                                                       \r"
     ]
    },
    {
     "name": "stdout",
     "output_type": "stream",
     "text": [
      "Validation Loss: 5.7601, Validation Accuracy: 0.83%\n",
      "Pruning layer with pruning rate: 0.1\n"
     ]
    },
    {
     "name": "stderr",
     "output_type": "stream",
     "text": [
      "                                                                                                                       \r"
     ]
    },
    {
     "name": "stdout",
     "output_type": "stream",
     "text": [
      "Validation Loss: 5.7601, Validation Accuracy: 0.83%\n",
      "Sensitivity for layer _blocks.52._se_reduce: -4.673004150390625e-05\n",
      "Analyzing layer: _blocks.52._se_expand\n"
     ]
    },
    {
     "name": "stderr",
     "output_type": "stream",
     "text": [
      "                                                                                                                       \r"
     ]
    },
    {
     "name": "stdout",
     "output_type": "stream",
     "text": [
      "Validation Loss: 5.7601, Validation Accuracy: 0.83%\n",
      "Pruning layer with pruning rate: 0.1\n"
     ]
    },
    {
     "name": "stderr",
     "output_type": "stream",
     "text": [
      "                                                                                                                       \r"
     ]
    },
    {
     "name": "stdout",
     "output_type": "stream",
     "text": [
      "Validation Loss: 5.7596, Validation Accuracy: 0.83%\n",
      "Sensitivity for layer _blocks.52._se_expand: -0.0004570484161376953\n",
      "Analyzing layer: _blocks.52._project_conv\n"
     ]
    },
    {
     "name": "stderr",
     "output_type": "stream",
     "text": [
      "                                                                                                                       \r"
     ]
    },
    {
     "name": "stdout",
     "output_type": "stream",
     "text": [
      "Validation Loss: 5.7596, Validation Accuracy: 0.83%\n",
      "Pruning layer with pruning rate: 0.1\n"
     ]
    },
    {
     "name": "stderr",
     "output_type": "stream",
     "text": [
      "                                                                                                                       \r"
     ]
    },
    {
     "name": "stdout",
     "output_type": "stream",
     "text": [
      "Validation Loss: 5.7596, Validation Accuracy: 0.83%\n",
      "Sensitivity for layer _blocks.52._project_conv: -4.76837158203125e-07\n",
      "Analyzing layer: _blocks.53._expand_conv\n"
     ]
    },
    {
     "name": "stderr",
     "output_type": "stream",
     "text": [
      "                                                                                                                       \r"
     ]
    },
    {
     "name": "stdout",
     "output_type": "stream",
     "text": [
      "Validation Loss: 5.7596, Validation Accuracy: 0.83%\n",
      "Pruning layer with pruning rate: 0.1\n"
     ]
    },
    {
     "name": "stderr",
     "output_type": "stream",
     "text": [
      "                                                                                                                       \r"
     ]
    },
    {
     "name": "stdout",
     "output_type": "stream",
     "text": [
      "Validation Loss: 5.7611, Validation Accuracy: 0.83%\n",
      "Sensitivity for layer _blocks.53._expand_conv: 0.0014612674713134766\n",
      "Analyzing layer: _blocks.53._depthwise_conv\n"
     ]
    },
    {
     "name": "stderr",
     "output_type": "stream",
     "text": [
      "                                                                                                                       \r"
     ]
    },
    {
     "name": "stdout",
     "output_type": "stream",
     "text": [
      "Validation Loss: 5.7611, Validation Accuracy: 0.83%\n",
      "Pruning layer with pruning rate: 0.1\n"
     ]
    },
    {
     "name": "stderr",
     "output_type": "stream",
     "text": [
      "                                                                                                                       \r"
     ]
    },
    {
     "name": "stdout",
     "output_type": "stream",
     "text": [
      "Validation Loss: 5.7510, Validation Accuracy: 0.83%\n",
      "Sensitivity for layer _blocks.53._depthwise_conv: -0.010080337524414062\n",
      "Analyzing layer: _blocks.53._se_reduce\n"
     ]
    },
    {
     "name": "stderr",
     "output_type": "stream",
     "text": [
      "                                                                                                                       \r"
     ]
    },
    {
     "name": "stdout",
     "output_type": "stream",
     "text": [
      "Validation Loss: 5.7510, Validation Accuracy: 0.83%\n",
      "Pruning layer with pruning rate: 0.1\n"
     ]
    },
    {
     "name": "stderr",
     "output_type": "stream",
     "text": [
      "                                                                                                                       \r"
     ]
    },
    {
     "name": "stdout",
     "output_type": "stream",
     "text": [
      "Validation Loss: 5.7510, Validation Accuracy: 0.83%\n",
      "Sensitivity for layer _blocks.53._se_reduce: 4.887580871582031e-05\n",
      "Analyzing layer: _blocks.53._se_expand\n"
     ]
    },
    {
     "name": "stderr",
     "output_type": "stream",
     "text": [
      "                                                                                                                       \r"
     ]
    },
    {
     "name": "stdout",
     "output_type": "stream",
     "text": [
      "Validation Loss: 5.7510, Validation Accuracy: 0.83%\n",
      "Pruning layer with pruning rate: 0.1\n"
     ]
    },
    {
     "name": "stderr",
     "output_type": "stream",
     "text": [
      "                                                                                                                       \r"
     ]
    },
    {
     "name": "stdout",
     "output_type": "stream",
     "text": [
      "Validation Loss: 5.7525, Validation Accuracy: 0.83%\n",
      "Sensitivity for layer _blocks.53._se_expand: 0.001493215560913086\n",
      "Analyzing layer: _blocks.53._project_conv\n"
     ]
    },
    {
     "name": "stderr",
     "output_type": "stream",
     "text": [
      "                                                                                                                       \r"
     ]
    },
    {
     "name": "stdout",
     "output_type": "stream",
     "text": [
      "Validation Loss: 5.7525, Validation Accuracy: 0.83%\n",
      "Pruning layer with pruning rate: 0.1\n"
     ]
    },
    {
     "name": "stderr",
     "output_type": "stream",
     "text": [
      "                                                                                                                       \r"
     ]
    },
    {
     "name": "stdout",
     "output_type": "stream",
     "text": [
      "Validation Loss: 5.7524, Validation Accuracy: 0.83%\n",
      "Sensitivity for layer _blocks.53._project_conv: -7.462501525878906e-05\n",
      "Analyzing layer: _blocks.54._expand_conv\n"
     ]
    },
    {
     "name": "stderr",
     "output_type": "stream",
     "text": [
      "                                                                                                                       \r"
     ]
    },
    {
     "name": "stdout",
     "output_type": "stream",
     "text": [
      "Validation Loss: 5.7524, Validation Accuracy: 0.83%\n",
      "Pruning layer with pruning rate: 0.1\n"
     ]
    },
    {
     "name": "stderr",
     "output_type": "stream",
     "text": [
      "                                                                                                                       \r"
     ]
    },
    {
     "name": "stdout",
     "output_type": "stream",
     "text": [
      "Validation Loss: 5.7525, Validation Accuracy: 0.83%\n",
      "Sensitivity for layer _blocks.54._expand_conv: 9.441375732421875e-05\n",
      "Analyzing layer: _blocks.54._depthwise_conv\n"
     ]
    },
    {
     "name": "stderr",
     "output_type": "stream",
     "text": [
      "                                                                                                                       \r"
     ]
    },
    {
     "name": "stdout",
     "output_type": "stream",
     "text": [
      "Validation Loss: 5.7525, Validation Accuracy: 0.83%\n",
      "Pruning layer with pruning rate: 0.1\n"
     ]
    },
    {
     "name": "stderr",
     "output_type": "stream",
     "text": [
      "                                                                                                                       \r"
     ]
    },
    {
     "name": "stdout",
     "output_type": "stream",
     "text": [
      "Validation Loss: 5.7497, Validation Accuracy: 0.83%\n",
      "Sensitivity for layer _blocks.54._depthwise_conv: -0.0028243064880371094\n",
      "Analyzing layer: _blocks.54._se_reduce\n"
     ]
    },
    {
     "name": "stderr",
     "output_type": "stream",
     "text": [
      "                                                                                                                       \r"
     ]
    },
    {
     "name": "stdout",
     "output_type": "stream",
     "text": [
      "Validation Loss: 5.7497, Validation Accuracy: 0.83%\n",
      "Pruning layer with pruning rate: 0.1\n"
     ]
    },
    {
     "name": "stderr",
     "output_type": "stream",
     "text": [
      "                                                                                                                       \r"
     ]
    },
    {
     "name": "stdout",
     "output_type": "stream",
     "text": [
      "Validation Loss: 5.7495, Validation Accuracy: 0.83%\n",
      "Sensitivity for layer _blocks.54._se_reduce: -0.0002560615539550781\n",
      "Analyzing layer: _blocks.54._se_expand\n"
     ]
    },
    {
     "name": "stderr",
     "output_type": "stream",
     "text": [
      "                                                                                                                       \r"
     ]
    },
    {
     "name": "stdout",
     "output_type": "stream",
     "text": [
      "Validation Loss: 5.7495, Validation Accuracy: 0.83%\n",
      "Pruning layer with pruning rate: 0.1\n"
     ]
    },
    {
     "name": "stderr",
     "output_type": "stream",
     "text": [
      "                                                                                                                       \r"
     ]
    },
    {
     "name": "stdout",
     "output_type": "stream",
     "text": [
      "Validation Loss: 5.7490, Validation Accuracy: 0.83%\n",
      "Sensitivity for layer _blocks.54._se_expand: -0.00044536590576171875\n",
      "Analyzing layer: _blocks.54._project_conv\n"
     ]
    },
    {
     "name": "stderr",
     "output_type": "stream",
     "text": [
      "                                                                                                                       \r"
     ]
    },
    {
     "name": "stdout",
     "output_type": "stream",
     "text": [
      "Validation Loss: 5.7490, Validation Accuracy: 0.83%\n",
      "Pruning layer with pruning rate: 0.1\n"
     ]
    },
    {
     "name": "stderr",
     "output_type": "stream",
     "text": [
      "                                                                                                                       \r"
     ]
    },
    {
     "name": "stdout",
     "output_type": "stream",
     "text": [
      "Validation Loss: 5.7483, Validation Accuracy: 0.83%\n",
      "Sensitivity for layer _blocks.54._project_conv: -0.0006957054138183594\n",
      "Analyzing layer: _conv_head\n"
     ]
    },
    {
     "name": "stderr",
     "output_type": "stream",
     "text": [
      "                                                                                                                       \r"
     ]
    },
    {
     "name": "stdout",
     "output_type": "stream",
     "text": [
      "Validation Loss: 5.7483, Validation Accuracy: 0.83%\n",
      "Pruning layer with pruning rate: 0.1\n"
     ]
    },
    {
     "name": "stderr",
     "output_type": "stream",
     "text": [
      "                                                                                                                       \r"
     ]
    },
    {
     "name": "stdout",
     "output_type": "stream",
     "text": [
      "Validation Loss: 5.7436, Validation Accuracy: 0.83%\n",
      "Sensitivity for layer _conv_head: -0.004754066467285156\n",
      "Analyzing layer: _fc\n"
     ]
    },
    {
     "name": "stderr",
     "output_type": "stream",
     "text": [
      "                                                                                                                       \r"
     ]
    },
    {
     "name": "stdout",
     "output_type": "stream",
     "text": [
      "Validation Loss: 5.7436, Validation Accuracy: 0.83%\n",
      "Pruning layer with pruning rate: 0.1\n"
     ]
    },
    {
     "name": "stderr",
     "output_type": "stream",
     "text": [
      "                                                                                                                       \r"
     ]
    },
    {
     "name": "stdout",
     "output_type": "stream",
     "text": [
      "Validation Loss: 5.7614, Validation Accuracy: 0.83%\n",
      "Sensitivity for layer _fc: 0.017871618270874023\n",
      "Analyzing layer: fc\n"
     ]
    },
    {
     "name": "stderr",
     "output_type": "stream",
     "text": [
      "                                                                                                                       \r"
     ]
    },
    {
     "name": "stdout",
     "output_type": "stream",
     "text": [
      "Validation Loss: 5.7614, Validation Accuracy: 0.83%\n",
      "Pruning layer with pruning rate: 0.1\n"
     ]
    },
    {
     "name": "stderr",
     "output_type": "stream",
     "text": [
      "                                                                                                                       "
     ]
    },
    {
     "name": "stdout",
     "output_type": "stream",
     "text": [
      "Validation Loss: 5.7614, Validation Accuracy: 0.83%\n",
      "Sensitivity for layer fc: 0.0\n"
     ]
    },
    {
     "name": "stderr",
     "output_type": "stream",
     "text": [
      "\r"
     ]
    }
   ],
   "source": [
    "print(\"Performing sensitivity analysis...\")\n",
    "# Perform sensitivity analysis\n",
    "sensitivities = layer_sensitivity_analysis(model, val_loader, criterion)"
   ]
  },
  {
   "cell_type": "code",
   "execution_count": 18,
   "id": "249b0b81-8555-45f1-a2aa-a88882cafbe4",
   "metadata": {},
   "outputs": [
    {
     "name": "stdout",
     "output_type": "stream",
     "text": [
      "Applying adaptive pruning...\n",
      "Pruning layer with pruning rate: 0.0\n",
      "Pruning layer with pruning rate: 0.0\n",
      "Pruning layer with pruning rate: 0.0008111352649167775\n",
      "Pruning layer with pruning rate: 0.0008760260861101197\n",
      "Pruning layer with pruning rate: 0.0\n",
      "Pruning layer with pruning rate: 0.0024009603841536613\n",
      "Pruning layer with pruning rate: 0.0017196067616235683\n",
      "Pruning layer with pruning rate: 0.0\n",
      "Pruning layer with pruning rate: 0.0\n",
      "Pruning layer with pruning rate: 0.0005515719801434088\n",
      "Pruning layer with pruning rate: 0.00324454105966711\n",
      "Pruning layer with pruning rate: 0.0\n",
      "Pruning layer with pruning rate: 0.0\n",
      "Pruning layer with pruning rate: 0.004055676324583888\n",
      "Pruning layer with pruning rate: 3.24454105966711e-05\n",
      "Pruning layer with pruning rate: 0.0013302618344635151\n",
      "Pruning layer with pruning rate: 0.0\n",
      "Pruning layer with pruning rate: 0.0\n",
      "Pruning layer with pruning rate: 0.0\n",
      "Pruning layer with pruning rate: 0.0\n",
      "Pruning layer with pruning rate: 0.002336069562960319\n",
      "Pruning layer with pruning rate: 0.0\n",
      "Pruning layer with pruning rate: 0.0\n",
      "Pruning layer with pruning rate: 0.0013951526556568573\n",
      "Pruning layer with pruning rate: 0.0\n",
      "Pruning layer with pruning rate: 0.0\n",
      "Pruning layer with pruning rate: 0.0\n",
      "Pruning layer with pruning rate: 0.0\n",
      "Pruning layer with pruning rate: 0.0027578599007170436\n",
      "Pruning layer with pruning rate: 0.0\n",
      "Pruning layer with pruning rate: 0.0\n",
      "Pruning layer with pruning rate: 0.002887641543103728\n",
      "Pruning layer with pruning rate: 0.0\n",
      "Pruning layer with pruning rate: 0.0\n",
      "Pruning layer with pruning rate: 0.0014600434768501996\n",
      "Pruning layer with pruning rate: 0.0001622270529833555\n",
      "Pruning layer with pruning rate: 0.0\n",
      "Pruning layer with pruning rate: 0.004672139125920638\n",
      "Pruning layer with pruning rate: 0.0\n",
      "Pruning layer with pruning rate: 0.0\n",
      "Pruning layer with pruning rate: 0.0017196067616235683\n",
      "Pruning layer with pruning rate: 0.0\n",
      "Pruning layer with pruning rate: 0.0\n",
      "Pruning layer with pruning rate: 0.0\n",
      "Pruning layer with pruning rate: 0.00038934492716005323\n",
      "Pruning layer with pruning rate: 0.0\n",
      "Pruning layer with pruning rate: 0.0\n",
      "Pruning layer with pruning rate: 0.0\n",
      "Pruning layer with pruning rate: 6.48908211933422e-05\n",
      "Pruning layer with pruning rate: 0.0\n",
      "Pruning layer with pruning rate: 0.0\n",
      "Pruning layer with pruning rate: 0.0\n",
      "Pruning layer with pruning rate: 0.005483274390837416\n",
      "Pruning layer with pruning rate: 0.00038934492716005323\n",
      "Pruning layer with pruning rate: 0.0\n",
      "Pruning layer with pruning rate: 0.003861003861003861\n",
      "Pruning layer with pruning rate: 0.0\n",
      "Pruning layer with pruning rate: 0.0013627072450601862\n",
      "Pruning layer with pruning rate: 0.0011031439602868175\n",
      "Pruning layer with pruning rate: 0.0008435806755134486\n",
      "Pruning layer with pruning rate: 0.0008111352649167775\n",
      "Pruning layer with pruning rate: 0.0\n",
      "Pruning layer with pruning rate: 0.0\n",
      "Pruning layer with pruning rate: 0.0014600434768501996\n",
      "Pruning layer with pruning rate: 0.0\n",
      "Pruning layer with pruning rate: 0.0\n",
      "Pruning layer with pruning rate: 0.0002595632847733688\n",
      "Pruning layer with pruning rate: 0.0\n",
      "Pruning layer with pruning rate: 0.0018169429934135816\n",
      "Pruning layer with pruning rate: 0.0024009603841536613\n",
      "Pruning layer with pruning rate: 0.0\n",
      "Pruning layer with pruning rate: 0.005288601927257389\n",
      "Pruning layer with pruning rate: 3.24454105966711e-05\n",
      "Pruning layer with pruning rate: 0.0012004801920768306\n",
      "Pruning layer with pruning rate: 0.0\n",
      "Pruning layer with pruning rate: 0.0\n",
      "Pruning layer with pruning rate: 0.0\n",
      "Pruning layer with pruning rate: 0.0010382531390934753\n",
      "Pruning layer with pruning rate: 0.0007137990331267642\n",
      "Pruning layer with pruning rate: 0.0\n",
      "Pruning layer with pruning rate: 0.0005191265695467376\n",
      "Pruning layer with pruning rate: 0.0033743227020537944\n",
      "Pruning layer with pruning rate: 0.0\n",
      "Pruning layer with pruning rate: 0.0\n",
      "Pruning layer with pruning rate: 0.0005191265695467376\n",
      "Pruning layer with pruning rate: 0.0005840173907400798\n",
      "Pruning layer with pruning rate: 0.0\n",
      "Pruning layer with pruning rate: 0.0\n",
      "Pruning layer with pruning rate: 0.015736024139385484\n",
      "Pruning layer with pruning rate: 0.0\n",
      "Pruning layer with pruning rate: 0.0\n",
      "Pruning layer with pruning rate: 0.004574802894130626\n",
      "Pruning layer with pruning rate: 0.004931702410694007\n",
      "Pruning layer with pruning rate: 0.0\n",
      "Pruning layer with pruning rate: 0.002336069562960319\n",
      "Pruning layer with pruning rate: 0.000648908211933422\n",
      "Pruning layer with pruning rate: 0.0\n",
      "Pruning layer with pruning rate: 0.001557379708640213\n",
      "Pruning layer with pruning rate: 0.0\n",
      "Pruning layer with pruning rate: 0.0005840173907400798\n",
      "Pruning layer with pruning rate: 0.0006164628013367509\n",
      "Pruning layer with pruning rate: 0.0002595632847733688\n",
      "Pruning layer with pruning rate: 0.0010058077284968042\n",
      "Pruning layer with pruning rate: 0.0004866811589500665\n",
      "Pruning layer with pruning rate: 0.0\n",
      "Pruning layer with pruning rate: 0.0\n",
      "Pruning layer with pruning rate: 0.0018169429934135816\n",
      "Pruning layer with pruning rate: 0.0002920086953700399\n",
      "Pruning layer with pruning rate: 0.0\n",
      "Pruning layer with pruning rate: 0.0001622270529833555\n",
      "Pruning layer with pruning rate: 0.0\n",
      "Pruning layer with pruning rate: 0.0\n",
      "Pruning layer with pruning rate: 3.24454105966711e-05\n",
      "Pruning layer with pruning rate: 0.0\n",
      "Pruning layer with pruning rate: 0.0\n",
      "Pruning layer with pruning rate: 0.0\n",
      "Pruning layer with pruning rate: 0.0010706985496901464\n",
      "Pruning layer with pruning rate: 0.0\n",
      "Pruning layer with pruning rate: 0.0\n",
      "Pruning layer with pruning rate: 0.0\n",
      "Pruning layer with pruning rate: 0.0001297816423866844\n",
      "Pruning layer with pruning rate: 0.00019467246358002662\n",
      "Pruning layer with pruning rate: 0.0008111352649167775\n",
      "Pruning layer with pruning rate: 0.0\n",
      "Pruning layer with pruning rate: 3.24454105966711e-05\n",
      "Pruning layer with pruning rate: 0.0\n",
      "Pruning layer with pruning rate: 0.0\n",
      "Pruning layer with pruning rate: 0.0008111352649167775\n",
      "Pruning layer with pruning rate: 0.0\n",
      "Pruning layer with pruning rate: 3.24454105966711e-05\n",
      "Pruning layer with pruning rate: 0.0002595632847733688\n",
      "Pruning layer with pruning rate: 0.0\n",
      "Pruning layer with pruning rate: 0.0009084714967067908\n",
      "Pruning layer with pruning rate: 0.0\n",
      "Pruning layer with pruning rate: 0.00019467246358002662\n",
      "Pruning layer with pruning rate: 0.0\n",
      "Pruning layer with pruning rate: 0.000648908211933422\n",
      "Pruning layer with pruning rate: 0.009182051198857922\n",
      "Pruning layer with pruning rate: 0.0\n",
      "Pruning layer with pruning rate: 0.005548165212030758\n",
      "Pruning layer with pruning rate: 0.0\n",
      "Pruning layer with pruning rate: 0.0012329256026735018\n",
      "Pruning layer with pruning rate: 0.003925894682197203\n",
      "Pruning layer with pruning rate: 0.0\n",
      "Pruning layer with pruning rate: 0.000324454105966711\n",
      "Pruning layer with pruning rate: 0.0030498685960870836\n",
      "Pruning layer with pruning rate: 0.0\n",
      "Pruning layer with pruning rate: 0.004996593231887349\n",
      "Pruning layer with pruning rate: 0.0018818338146069239\n",
      "Pruning layer with pruning rate: 0.0\n",
      "Pruning layer with pruning rate: 0.0\n",
      "Pruning layer with pruning rate: 0.0\n",
      "Pruning layer with pruning rate: 0.0016871613510268972\n",
      "Pruning layer with pruning rate: 0.001914279225203595\n",
      "Pruning layer with pruning rate: 0.0\n",
      "Pruning layer with pruning rate: 0.0012329256026735018\n",
      "Pruning layer with pruning rate: 0.0\n",
      "Pruning layer with pruning rate: 0.0\n",
      "Pruning layer with pruning rate: 0.0\n",
      "Pruning layer with pruning rate: 0.0\n",
      "Pruning layer with pruning rate: 0.0\n",
      "Pruning layer with pruning rate: 0.0015249342980435418\n",
      "Pruning layer with pruning rate: 0.00038934492716005323\n",
      "Pruning layer with pruning rate: 0.0\n",
      "Pruning layer with pruning rate: 9.733623179001331e-05\n",
      "Pruning layer with pruning rate: 0.0004866811589500665\n",
      "Pruning layer with pruning rate: 0.0\n",
      "Pruning layer with pruning rate: 0.0\n",
      "Pruning layer with pruning rate: 0.0\n",
      "Pruning layer with pruning rate: 0.0\n",
      "Pruning layer with pruning rate: 0.0\n",
      "Pruning layer with pruning rate: 0.0\n",
      "Pruning layer with pruning rate: 0.005450828980240745\n",
      "Pruning layer with pruning rate: 0.0\n",
      "Pruning layer with pruning rate: 0.0\n",
      "Pruning layer with pruning rate: 0.0\n",
      "Pruning layer with pruning rate: 0.0\n",
      "Pruning layer with pruning rate: 0.001589825119236884\n",
      "Pruning layer with pruning rate: 0.000973362317900133\n",
      "Pruning layer with pruning rate: 0.0001297816423866844\n",
      "Pruning layer with pruning rate: 0.0\n",
      "Pruning layer with pruning rate: 0.0004542357483533954\n",
      "Pruning layer with pruning rate: 0.0\n",
      "Pruning layer with pruning rate: 0.0004866811589500665\n",
      "Pruning layer with pruning rate: 6.48908211933422e-05\n",
      "Pruning layer with pruning rate: 9.733623179001331e-05\n",
      "Pruning layer with pruning rate: 0.0\n",
      "Pruning layer with pruning rate: 0.021057071477239543\n",
      "Pruning layer with pruning rate: 0.14681548294993674\n",
      "Pruning layer with pruning rate: 0.03543038837156484\n",
      "Pruning layer with pruning rate: 0.009311832841244606\n",
      "Pruning layer with pruning rate: 0.0645663670873755\n",
      "Pruning layer with pruning rate: 0.031991174848317705\n",
      "Pruning layer with pruning rate: 0.004282794198760586\n",
      "Pruning layer with pruning rate: 0.001297816423866844\n",
      "Pruning layer with pruning rate: 0.0\n",
      "Pruning layer with pruning rate: 0.07429999026637682\n",
      "Pruning layer with pruning rate: 0.0\n",
      "Pruning layer with pruning rate: 0.0\n",
      "Pruning layer with pruning rate: 0.0011031439602868175\n",
      "Pruning layer with pruning rate: 0.0\n",
      "Pruning layer with pruning rate: 0.015087115927452061\n",
      "Pruning layer with pruning rate: 0.0018169429934135816\n",
      "Pruning layer with pruning rate: 0.0\n",
      "Pruning layer with pruning rate: 0.0004217903377567243\n",
      "Pruning layer with pruning rate: 0.0017196067616235683\n",
      "Pruning layer with pruning rate: 0.004996593231887349\n",
      "Pruning layer with pruning rate: 0.0\n",
      "Pruning layer with pruning rate: 6.48908211933422e-05\n",
      "Pruning layer with pruning rate: 0.0\n",
      "Pruning layer with pruning rate: 0.0008760260861101197\n",
      "Pruning layer with pruning rate: 0.002238733331170306\n",
      "Pruning layer with pruning rate: 0.012459037669121703\n",
      "Pruning layer with pruning rate: 0.0\n",
      "Pruning layer with pruning rate: 0.001297816423866844\n",
      "Pruning layer with pruning rate: 0.0011355893708834886\n",
      "Pruning layer with pruning rate: 0.002595632847733688\n",
      "Pruning layer with pruning rate: 0.0019791700463969372\n",
      "Pruning layer with pruning rate: 0.0\n",
      "Pruning layer with pruning rate: 0.0011680347814801595\n",
      "Pruning layer with pruning rate: 0.0\n",
      "Pruning layer with pruning rate: 0.021608643457382955\n",
      "Pruning layer with pruning rate: 0.0\n",
      "Pruning layer with pruning rate: 0.0007137990331267642\n",
      "Pruning layer with pruning rate: 0.0\n",
      "Pruning layer with pruning rate: 0.0\n",
      "Pruning layer with pruning rate: 0.0\n",
      "Pruning layer with pruning rate: 0.0034392135232471366\n",
      "Pruning layer with pruning rate: 0.0\n",
      "Pruning layer with pruning rate: 0.0001622270529833555\n",
      "Pruning layer with pruning rate: 0.0\n",
      "Pruning layer with pruning rate: 0.007040654099477629\n",
      "Pruning layer with pruning rate: 0.01677427727847896\n",
      "Pruning layer with pruning rate: 0.0024334057947503324\n",
      "Pruning layer with pruning rate: 0.0012004801920768306\n",
      "Pruning layer with pruning rate: 0.0\n",
      "Pruning layer with pruning rate: 0.0\n",
      "Pruning layer with pruning rate: 0.006034846370980825\n",
      "Pruning layer with pruning rate: 0.002887641543103728\n",
      "Pruning layer with pruning rate: 0.0\n",
      "Pruning layer with pruning rate: 0.001654715940430226\n",
      "Pruning layer with pruning rate: 0.00885759709289121\n",
      "Pruning layer with pruning rate: 0.01790986664936245\n",
      "Pruning layer with pruning rate: 0.0\n",
      "Pruning layer with pruning rate: 0.0001297816423866844\n",
      "Pruning layer with pruning rate: 0.0\n",
      "Pruning layer with pruning rate: 0.0\n",
      "Pruning layer with pruning rate: 0.0\n",
      "Pruning layer with pruning rate: 0.010122968106161383\n",
      "Pruning layer with pruning rate: 3.24454105966711e-05\n",
      "Pruning layer with pruning rate: 0.0\n",
      "Pruning layer with pruning rate: 0.017260958437429027\n",
      "Pruning layer with pruning rate: 1.0\n",
      "Pruning layer with pruning rate: 0.0\n",
      "Pruning layer with pruning rate: 0.0\n",
      "Pruning layer with pruning rate: 0.0\n",
      "Pruning layer with pruning rate: 0.2131014567989358\n",
      "Pruning layer with pruning rate: 0.0\n",
      "Pruning layer with pruning rate: 0.0\n",
      "Pruning layer with pruning rate: 0.006359300476947536\n",
      "Pruning layer with pruning rate: 0.0621978521138185\n",
      "Pruning layer with pruning rate: 6.48908211933422e-05\n",
      "Pruning layer with pruning rate: 0.0\n",
      "Pruning layer with pruning rate: 1.0\n",
      "Pruning layer with pruning rate: 0.0\n",
      "Pruning layer with pruning rate: 0.0\n",
      "Pruning layer with pruning rate: 0.010155413516758055\n",
      "Pruning layer with pruning rate: 0.0\n",
      "Pruning layer with pruning rate: 0.38434833392816586\n",
      "Pruning layer with pruning rate: 0.03484637098082476\n",
      "Pruning layer with pruning rate: 0.060608026994581614\n",
      "Pruning layer with pruning rate: 0.09467570812108628\n",
      "Pruning layer with pruning rate: 0.6469614872976217\n",
      "Pruning layer with pruning rate: 0.0\n",
      "Pruning layer with pruning rate: 0.0\n"
     ]
    }
   ],
   "source": [
    "# Determine adaptive pruning rates\n",
    "total_sensitivity = sum(sensitivities.values())\n",
    "pruning_rates = {name: max(0.0, min(1.0, sens / total_sensitivity)) for name, sens in sensitivities.items()}\n",
    "\n",
    "print(\"Applying adaptive pruning...\")\n",
    "# Apply adaptive pruning\n",
    "for name, layer in model.named_modules():\n",
    "    if name in pruning_rates:\n",
    "        prune_layer(layer, pruning_rates[name])\n"
   ]
  },
  {
   "cell_type": "code",
   "execution_count": 19,
   "id": "04716dfd-adaa-486a-ada1-e3c9cb77ecfc",
   "metadata": {},
   "outputs": [
    {
     "name": "stdout",
     "output_type": "stream",
     "text": [
      "Fine-tuning the pruned model...\n",
      "Starting fine-tuning...\n",
      "Epoch 1/5\n"
     ]
    },
    {
     "name": "stderr",
     "output_type": "stream",
     "text": [
      "Epoch 1/5: 100%|█████████████████████████████████████████████████████████████| 6/6 [16:21<00:00, 163.61s/it, loss=4.68]\n"
     ]
    },
    {
     "name": "stdout",
     "output_type": "stream",
     "text": [
      "Epoch [1/5], Loss: 4.67975115776062\n",
      "Epoch 2/5\n"
     ]
    },
    {
     "name": "stderr",
     "output_type": "stream",
     "text": [
      "Epoch 2/5: 100%|██████████████████████████████████████████████████████████████| 6/6 [05:58<00:00, 59.82s/it, loss=4.62]\n"
     ]
    },
    {
     "name": "stdout",
     "output_type": "stream",
     "text": [
      "Epoch [2/5], Loss: 4.615553140640259\n",
      "Epoch 3/5\n"
     ]
    },
    {
     "name": "stderr",
     "output_type": "stream",
     "text": [
      "Epoch 3/5: 100%|█████████████████████████████████████████████████████████████| 6/6 [17:26<00:00, 174.49s/it, loss=4.62]\n"
     ]
    },
    {
     "name": "stdout",
     "output_type": "stream",
     "text": [
      "Epoch [3/5], Loss: 4.615041097005208\n",
      "Epoch 4/5\n"
     ]
    },
    {
     "name": "stderr",
     "output_type": "stream",
     "text": [
      "Epoch 4/5: 100%|██████████████████████████████████████████████████████████████| 6/6 [06:11<00:00, 61.95s/it, loss=4.61]\n"
     ]
    },
    {
     "name": "stdout",
     "output_type": "stream",
     "text": [
      "Epoch [4/5], Loss: 4.614466428756714\n",
      "Epoch 5/5\n"
     ]
    },
    {
     "name": "stderr",
     "output_type": "stream",
     "text": [
      "Epoch 5/5: 100%|██████████████████████████████████████████████████████████████| 6/6 [06:05<00:00, 60.84s/it, loss=4.62]"
     ]
    },
    {
     "name": "stdout",
     "output_type": "stream",
     "text": [
      "Epoch [5/5], Loss: 4.615865310033162\n"
     ]
    },
    {
     "name": "stderr",
     "output_type": "stream",
     "text": [
      "\n"
     ]
    }
   ],
   "source": [
    "print(\"Fine-tuning the pruned model...\")\n",
    "# Fine-tune the pruned model\n",
    "loss_log = []\n",
    "pruning_rates_log = []\n",
    "fine_tune_model(model, train_loader, criterion, optimizer, num_epochs=5)"
   ]
  },
  {
   "cell_type": "code",
   "execution_count": 20,
   "id": "10c3640c-3c03-4230-9462-87d2061472d7",
   "metadata": {},
   "outputs": [
    {
     "name": "stdout",
     "output_type": "stream",
     "text": [
      "Saving the pruned and fine-tuned model...\n"
     ]
    }
   ],
   "source": [
    "print(\"Saving the pruned and fine-tuned model...\")\n",
    "# Save the model\n",
    "torch.save(model.state_dict(), 'food101_EB7_pruned.pth')"
   ]
  },
  {
   "cell_type": "code",
   "execution_count": 21,
   "id": "c6874158-cfa1-4f4f-a156-2aa80de669b4",
   "metadata": {},
   "outputs": [
    {
     "name": "stdout",
     "output_type": "stream",
     "text": [
      "Evaluating the final model on the test set...\n"
     ]
    },
    {
     "name": "stderr",
     "output_type": "stream",
     "text": [
      "Testing model: 100%|█████████████████████████████████████████████████████████████████████| 3/3 [01:11<00:00, 23.75s/it]\n"
     ]
    },
    {
     "name": "stdout",
     "output_type": "stream",
     "text": [
      "Test Accuracy: 1.17%\n"
     ]
    },
    {
     "data": {
      "image/png": "[encoded data removed]",
      "text/plain": [
       "<Figure size 1200x500 with 2 Axes>"
      ]
     },
     "metadata": {},
     "output_type": "display_data"
    }
   ],
   "source": [
    "print(\"Evaluating the final model on the test set...\")\n",
    "# Evaluate the final model on the test set\n",
    "model.eval()\n",
    "correct = 0\n",
    "total = 0\n",
    "with torch.no_grad():\n",
    "    for inputs, labels in tqdm(test_loader, desc=\"Testing model\"):\n",
    "        inputs, labels = inputs.to(device), labels.to(device)\n",
    "        outputs = model(inputs)\n",
    "        _, predicted = torch.max(outputs.data, 1)\n",
    "        total += labels.size(0)\n",
    "        correct += (predicted == labels).sum().item()\n",
    "\n",
    "test_accuracy = 100 * correct / total\n",
    "print(f'Test Accuracy: {test_accuracy:.2f}%')\n",
    "\n",
    "# Plotting the loss log and pruning rates log\n",
    "plt.figure(figsize=(12, 5))\n",
    "plt.subplot(1, 2, 1)\n",
    "plt.plot(range(1, len(loss_log) + 1), loss_log, marker='o')\n",
    "plt.title('Loss During Fine-tuning')\n",
    "plt.xlabel('Epoch')\n",
    "plt.ylabel('Loss')\n",
    "plt.grid(True)\n",
    "\n",
    "plt.subplot(1, 2, 2)\n",
    "for name, rate in pruning_rates.items():\n",
    "    plt.plot(range(1, 11), [rate] * 10, label=name)\n",
    "plt.title('Pruning Rates After Fine-tuning')\n",
    "plt.xlabel('Epoch')\n",
    "plt.ylabel('Pruning Rate')\n",
    "plt.legend()\n",
    "plt.grid(True)\n",
    "plt.show()"
   ]
  },
  {
   "cell_type": "code",
   "execution_count": null,
   "id": "8a927432-f359-4d46-969a-3d3e8485f6ba",
   "metadata": {},
   "outputs": [],
   "source": []
  }
 ],
 "metadata": {
  "kernelspec": {
   "display_name": "Python 3 (ipykernel)",
   "language": "python",
   "name": "python3"
  },
  "language_info": {
   "codemirror_mode": {
    "name": "ipython",
    "version": 3
   },
   "file_extension": ".py",
   "mimetype": "text/x-python",
   "name": "python",
   "nbconvert_exporter": "python",
   "pygments_lexer": "ipython3",
   "version": "3.8.19"
  }
 },
 "nbformat": 4,
 "nbformat_minor": 5
}
