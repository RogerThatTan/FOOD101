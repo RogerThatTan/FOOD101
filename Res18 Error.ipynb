{
 "cells": [
  {
   "cell_type": "code",
   "execution_count": 1,
   "id": "1aec4ad2",
   "metadata": {},
   "outputs": [],
   "source": [
    "import json\n",
    "import os\n",
    "import torch\n",
    "import torch.nn as nn\n",
    "import torch.optim as optim\n",
    "from sklearn.model_selection import train_test_split\n",
    "from torch.utils.data import DataLoader, Subset\n",
    "from torchvision.datasets import DatasetFolder\n",
    "from torchvision.io import read_image\n",
    "from torchvision.transforms import functional as F\n",
    "from torchvision import transforms, models\n",
    "from tqdm import tqdm\n",
    "import random\n",
    "import matplotlib.pyplot as plt\n",
    "from efficientnet_pytorch import EfficientNet"
   ]
  },
  {
   "cell_type": "code",
   "execution_count": 2,
   "id": "fa573721-190f-40f0-a469-679418e6b91a",
   "metadata": {},
   "outputs": [],
   "source": [
    "# Paths to JSON files and data directory\n",
    "train_json_path = 'G:/food-101.zip/food-101/meta/train.json'\n",
    "test_json_path = 'G:/food-101.zip/food-101/meta/test.json'\n",
    "data_dir = 'G:/food-101.zip/food-101/images'"
   ]
  },
  {
   "cell_type": "code",
   "execution_count": 3,
   "id": "4981d10a-b2f6-4d5e-b2a0-3383b5cd6080",
   "metadata": {},
   "outputs": [
    {
     "name": "stdout",
     "output_type": "stream",
     "text": [
      "Loading JSON files...\n"
     ]
    }
   ],
   "source": [
    "print(\"Loading JSON files...\")\n",
    "# Load JSON files\n",
    "with open(train_json_path, 'r') as f:\n",
    "    train_data = json.load(f)\n",
    "with open(test_json_path, 'r') as f:\n",
    "    test_data = json.load(f)"
   ]
  },
  {
   "cell_type": "code",
   "execution_count": 4,
   "id": "8f3eeaee-e9d7-4d9a-895a-a3448eb73550",
   "metadata": {},
   "outputs": [
    {
     "name": "stdout",
     "output_type": "stream",
     "text": [
      "Splitting train data into training and validation sets...\n"
     ]
    }
   ],
   "source": [
    "print(\"Splitting train data into training and validation sets...\")\n",
    "# Split train data into train and validation\n",
    "train_data_split = {}\n",
    "val_data_split = {}\n",
    "\n",
    "for cls, items in train_data.items():\n",
    "    train_items, val_items = train_test_split(items, test_size=0.2, random_state=42)\n",
    "    train_data_split[cls] = train_items\n",
    "    val_data_split[cls] = val_items"
   ]
  },
  {
   "cell_type": "code",
   "execution_count": 5,
   "id": "2c0bfde1-df25-4b8e-b439-03067e7e4309",
   "metadata": {},
   "outputs": [],
   "source": [
    "# Create custom dataset class\n",
    "class FoodDataset(DatasetFolder):\n",
    "    def __init__(self, data, root_dir, transform=None):\n",
    "        self.data = data\n",
    "        self.root_dir = root_dir\n",
    "        self.transform = transform\n",
    "        self.classes = list(self.data.keys())\n",
    "        self.class_to_idx = {cls: idx for idx, cls in enumerate(self.classes)}\n",
    "        self.samples = [(os.path.join(self.root_dir, item + \".jpg\"), self.class_to_idx[cls])\n",
    "                        for cls, items in self.data.items() for item in items]\n",
    "\n",
    "    def __len__(self):\n",
    "        return len(self.samples)\n",
    "\n",
    "    def __getitem__(self, idx):\n",
    "        img_path, label = self.samples[idx]\n",
    "        image = read_image(img_path)\n",
    "        if image.shape[0] == 1:  # Check if the image has 1 channel\n",
    "            image = image.repeat(3, 1, 1)  # Convert 1-channel image to 3-channel\n",
    "        if self.transform:\n",
    "            image = F.to_pil_image(image)\n",
    "            image = self.transform(image)\n",
    "        return image, label"
   ]
  },
  {
   "cell_type": "code",
   "execution_count": 6,
   "id": "813d7667-3c92-4242-85ca-23dda7967818",
   "metadata": {},
   "outputs": [],
   "source": [
    "# Define transformations\n",
    "transform = transforms.Compose([\n",
    "    transforms.Resize((32, 32)),\n",
    "    transforms.ToTensor(),\n",
    "    transforms.Normalize(mean=[0.485, 0.456, 0.406], std=[0.229, 0.224, 0.225])\n",
    "])"
   ]
  },
  {
   "cell_type": "code",
   "execution_count": 7,
   "id": "9b7e9bb4-a991-4e27-b18c-f582bc626c4c",
   "metadata": {},
   "outputs": [
    {
     "name": "stdout",
     "output_type": "stream",
     "text": [
      "Initializing datasets and dataloaders...\n"
     ]
    }
   ],
   "source": [
    "print(\"Initializing datasets and dataloaders...\")\n",
    "# Initialize datasets and dataloaders\n",
    "train_dataset = FoodDataset(data=train_data_split, root_dir=data_dir, transform=transform)\n",
    "val_dataset = FoodDataset(data=val_data_split, root_dir=data_dir, transform=transform)\n",
    "test_dataset = FoodDataset(data=test_data, root_dir=data_dir, transform=transform)"
   ]
  },
  {
   "cell_type": "code",
   "execution_count": 8,
   "id": "a96fbf19-1e76-4ee2-9663-63055ff5d0b5",
   "metadata": {},
   "outputs": [
    {
     "name": "stdout",
     "output_type": "stream",
     "text": [
      "Number of training images: 6060\n",
      "Number of validation images: 1515\n",
      "Number of testing images: 2525\n"
     ]
    }
   ],
   "source": [
    "# Use a small subset of the dataset for initial testing\n",
    "def get_subset(dataset, fraction=0.1):\n",
    "    num_samples = int(len(dataset) * fraction)\n",
    "    subset_indices = random.sample(range(len(dataset)), num_samples)\n",
    "    return Subset(dataset, subset_indices)\n",
    "\n",
    "train_subset = get_subset(train_dataset, fraction=0.1)\n",
    "val_subset = get_subset(val_dataset, fraction=0.1)\n",
    "test_subset = get_subset(test_dataset, fraction=0.1)\n",
    "\n",
    "print(f\"Number of training images: {len(train_subset)}\")\n",
    "print(f\"Number of validation images: {len(val_subset)}\")\n",
    "print(f\"Number of testing images: {len(test_subset)}\")"
   ]
  },
  {
   "cell_type": "code",
   "execution_count": 9,
   "id": "a23a99b7-2dda-4e5d-ab0d-81c2e9f6d2ff",
   "metadata": {},
   "outputs": [],
   "source": [
    "batch_size = 2048\n",
    "train_loader = DataLoader(train_subset, batch_size=batch_size, shuffle=True)\n",
    "val_loader = DataLoader(val_subset, batch_size=batch_size, shuffle=False)\n",
    "test_loader = DataLoader(test_subset, batch_size=batch_size, shuffle=False)"
   ]
  },
  {
   "cell_type": "code",
   "execution_count": 10,
   "id": "ff446bf3-53b8-4769-b63c-a1a85c9e08ea",
   "metadata": {},
   "outputs": [
    {
     "name": "stdout",
     "output_type": "stream",
     "text": [
      "Using device: cuda\n",
      "Loading pre-trained ResNet18 model...\n"
     ]
    },
    {
     "name": "stderr",
     "output_type": "stream",
     "text": [
      "C:\\Users\\xtanv\\anaconda3\\envs\\pytorch\\lib\\site-packages\\torchvision\\models\\_utils.py:208: UserWarning: The parameter 'pretrained' is deprecated since 0.13 and may be removed in the future, please use 'weights' instead.\n",
      "  warnings.warn(\n",
      "C:\\Users\\xtanv\\anaconda3\\envs\\pytorch\\lib\\site-packages\\torchvision\\models\\_utils.py:223: UserWarning: Arguments other than a weight enum or `None` for 'weights' are deprecated since 0.13 and may be removed in the future. The current behavior is equivalent to passing `weights=ResNet18_Weights.IMAGENET1K_V1`. You can also use `weights=ResNet18_Weights.DEFAULT` to get the most up-to-date weights.\n",
      "  warnings.warn(msg)\n"
     ]
    }
   ],
   "source": [
    "# Check for GPU\n",
    "device = torch.device(\"cuda\" if torch.cuda.is_available() else \"cpu\")\n",
    "print(f\"Using device: {device}\")\n",
    "\n",
    "# print(\"Loading pre-trained ResNet18 model...\")\n",
    "# model = models.resnet18(pretrained=True)\n",
    "# print(\"Loading pre-trained EfficientNet B7 model...\")\n",
    "# model = EfficientNet.from_pretrained('efficientnet-b7', num_classes=101)\n",
    "# # num_ftrs = model.fc.in_features\n",
    "# num_ftrs = model._fc.in_features  # or model._classifier.in_features\n",
    "\n",
    "# model.fc = nn.Linear(num_ftrs, 101)  # 101 classes\n",
    "# model = model.to(device)\n",
    "\n",
    "\n",
    "\n",
    "print(\"Loading pre-trained ResNet18 model...\")\n",
    "model = models.resnet18(pretrained=True)\n",
    "num_ftrs = model.fc.in_features\n",
    "model.fc = nn.Linear(num_ftrs, 101)  # 101 classes\n",
    "model = model.to(device)"
   ]
  },
  {
   "cell_type": "code",
   "execution_count": 11,
   "id": "838a37cb-21df-4f31-8a62-2c7545058e41",
   "metadata": {},
   "outputs": [],
   "source": [
    "# Loss and optimizer\n",
    "criterion = nn.CrossEntropyLoss()\n",
    "optimizer = optim.Adam(model.parameters(), lr=0.001)"
   ]
  },
  {
   "cell_type": "code",
   "execution_count": 12,
   "id": "34c8713d-bb48-4a4c-8b5f-b0e8b6c7c5d5",
   "metadata": {},
   "outputs": [],
   "source": [
    "# def prune_layer(layer, pruning_rate):\n",
    "#     \"\"\"Prunes the given layer by setting a percentage of its weights to zero.\"\"\"\n",
    "#     print(f\"Pruning layer with pruning rate: {pruning_rate}\")\n",
    "#     with torch.no_grad():\n",
    "#         weight = layer.weight.data.abs().clone()\n",
    "#         threshold = torch.quantile(weight, pruning_rate)\n",
    "#         mask = weight.ge(threshold).float()\n",
    "#         layer.weight.data.mul_(mask)\n",
    "#         return mask"
   ]
  },
  {
   "cell_type": "code",
   "execution_count": 13,
   "id": "f23458c8-9f3b-44e3-ac53-8897b8ef9a81",
   "metadata": {},
   "outputs": [],
   "source": [
    "# def prune_layer(layer, pruning_rate):\n",
    "#     \"\"\"Prunes the given layer by setting a percentage of its weights to zero.\"\"\"\n",
    "#     print(f\"Pruning layer with pruning rate: {pruning_rate}\")\n",
    "#     with torch.no_grad():\n",
    "#         weight = layer.weight.data.abs().clone()\n",
    "#         threshold = torch.quantile(weight, pruning_rate)\n",
    "#         mask = weight.ge(threshold).float()\n",
    "#         layer.weight.data.mul_(mask)\n",
    "#         return mask.clone().detach()  # Return a copy of the mask tensor"
   ]
  },
  {
   "cell_type": "code",
   "execution_count": 14,
   "id": "4af4696f-8508-4e30-8228-8aba6766f587",
   "metadata": {},
   "outputs": [],
   "source": [
    "# def prune_layer(layer, pruning_rate):\n",
    "#     \"\"\"Prunes the given layer by setting a percentage of its weights to zero.\"\"\"\n",
    "#     print(f\"Pruning layer with pruning rate: {pruning_rate}\")\n",
    "#     with torch.no_grad():\n",
    "#         weight = layer.weight.data.abs().clone()\n",
    "#         threshold = torch.quantile(weight, pruning_rate)\n",
    "#         mask = weight.ge(threshold).float()\n",
    "#         layer.weight.data.mul_(mask)\n",
    "#         return torch.tensor(mask, dtype=torch.float32)  # Convert mask to tensor explicitly"
   ]
  },
  {
   "cell_type": "code",
   "execution_count": 15,
   "id": "34138942-0c92-465f-9d23-096467abd528",
   "metadata": {},
   "outputs": [],
   "source": [
    "def prune_layer(layer, pruning_rate):\n",
    "    \"\"\"Prunes the given layer by setting a percentage of its weights to zero.\"\"\"\n",
    "    print(f\"Pruning layer with pruning rate: {pruning_rate}\")\n",
    "    with torch.no_grad():\n",
    "        weight = layer.weight.data.abs().clone()\n",
    "        threshold = torch.quantile(weight, pruning_rate)\n",
    "        mask = weight.ge(threshold).float()\n",
    "        layer.weight.data.mul_(mask)\n",
    "        # print(f\"Mask type: {type(mask)}\")\n",
    "        # print(f\"Mask value: {mask}\")\n",
    "        return mask"
   ]
  },
  {
   "cell_type": "code",
   "execution_count": 16,
   "id": "2a96a888-53e2-459d-9a2a-b4ec5ff69b7f",
   "metadata": {},
   "outputs": [],
   "source": [
    "# def fine_tune_model(model, train_loader, criterion, optimizer, num_epochs):\n",
    "#     \"\"\"Fine-tunes the model after pruning.\"\"\"\n",
    "#     print(\"Starting fine-tuning...\")\n",
    "#     for epoch in range(num_epochs):\n",
    "#         print(f\"Epoch {epoch + 1}/{num_epochs}\")\n",
    "#         running_loss = 0.0\n",
    "#         train_loader_tqdm = tqdm(train_loader, desc=f'Epoch {epoch+1}/{num_epochs}')\n",
    "#         for inputs, labels in train_loader_tqdm:\n",
    "#             inputs, labels = inputs.to(device), labels.to(device)\n",
    "#             optimizer.zero_grad()\n",
    "#             outputs = model(inputs)\n",
    "#             loss = criterion(outputs, labels)\n",
    "#             loss.backward()\n",
    "#             optimizer.step()\n",
    "#             running_loss += loss.item()\n",
    "#             train_loader_tqdm.set_postfix(loss=running_loss/len(train_loader))\n",
    "#         epoch_loss = running_loss / len(train_loader)\n",
    "#         print(f'Epoch [{epoch+1}/{num_epochs}], Loss: {epoch_loss}')"
   ]
  },
  {
   "cell_type": "code",
   "execution_count": 17,
   "id": "faebe170-37df-463f-a2ee-3d1557a63686",
   "metadata": {},
   "outputs": [],
   "source": [
    "pruning_rates_log = []\n",
    "\n",
    "def fine_tune_model(model, train_loader, criterion, optimizer, num_epochs):\n",
    "    \"\"\"Fine-tunes the model after pruning.\"\"\"\n",
    "    print(\"Starting fine-tuning...\")\n",
    "    for epoch in range(num_epochs):\n",
    "        print(f\"Epoch {epoch + 1}/{num_epochs}\")\n",
    "        running_loss = 0.0\n",
    "        train_loader_tqdm = tqdm(train_loader, desc=f'Epoch {epoch+1}/{num_epochs}')\n",
    "        for inputs, labels in train_loader_tqdm:\n",
    "            inputs, labels = inputs.to(device), labels.to(device)\n",
    "            optimizer.zero_grad()\n",
    "            outputs = model(inputs)\n",
    "            loss = criterion(outputs, labels)\n",
    "            loss.backward()\n",
    "            optimizer.step()\n",
    "            running_loss += loss.item()\n",
    "            train_loader_tqdm.set_postfix(loss=running_loss/len(train_loader))\n",
    "        epoch_loss = running_loss / len(train_loader)\n",
    "        print(f'Epoch [{epoch+1}/{num_epochs}], Loss: {epoch_loss}')\n",
    "\n",
    "        # Append loss to log\n",
    "        loss_log.append(epoch_loss)\n",
    "        \n",
    "        # Log pruning rates after each epoch\n",
    "        # epoch_pruning_rates = {name: float(mask.sum()) / float(mask.numel()) for name, mask in pruning_rates.items()}\n",
    "        # pruning_rates_log.append(epoch_pruning_rates)\n",
    "\n",
    "        # Log pruning rates after each epoch\n",
    "        epoch_pruning_rates = {}\n",
    "        for name, mask in pruning_rates.items():\n",
    "            print(f\"Mask type for {name}: {type(mask)}\")\n",
    "            epoch_pruning_rates[name] = float(torch.tensor(mask).sum()) / float(mask.numel())\n",
    "        pruning_rates_log.append(epoch_pruning_rates)\n",
    "        \n",
    "        # Append loss to log\n",
    "        loss_log.append(epoch_loss)\n",
    "        \n",
    "        # Log pruning rates after each epoch\n",
    "        pruning_rates_log.append({name: float(mask.sum()) / float(mask.numel()) for name, mask in pruning_rates.items()})"
   ]
  },
  {
   "cell_type": "code",
   "execution_count": 18,
   "id": "e85f4afd-e9fe-422c-bc60-98a6ae0ad188",
   "metadata": {},
   "outputs": [],
   "source": [
    "def layer_sensitivity_analysis(model, data_loader, criterion):\n",
    "    \"\"\"Performs sensitivity analysis for each layer.\"\"\"\n",
    "    print(\"Starting layer sensitivity analysis...\")\n",
    "    sensitivities = {}\n",
    "    for name, layer in model.named_modules():\n",
    "        if isinstance(layer, nn.Conv2d) or isinstance(layer, nn.Linear):\n",
    "            print(f\"Analyzing layer: {name}\")\n",
    "            initial_loss = evaluate_model(model, data_loader, criterion)\n",
    "            mask = prune_layer(layer, 0.1)  # Prune 10% as a test\n",
    "            new_loss = evaluate_model(model, data_loader, criterion)\n",
    "            sensitivities[name] = new_loss - initial_loss\n",
    "            layer.weight.data.mul_(mask)  # Revert pruning\n",
    "            print(f\"Sensitivity for layer {name}: {sensitivities[name]}\")\n",
    "    return sensitivities"
   ]
  },
  {
   "cell_type": "code",
   "execution_count": 19,
   "id": "af6ea99f-1692-442e-adcf-d168d2c57aa8",
   "metadata": {},
   "outputs": [],
   "source": [
    "def evaluate_model(model, data_loader, criterion):\n",
    "    \"\"\"Evaluates the model performance.\"\"\"\n",
    "    model.eval()\n",
    "    total_loss = 0.0\n",
    "    total_correct = 0\n",
    "    total_samples = 0\n",
    "    with torch.no_grad():\n",
    "        for inputs, labels in tqdm(data_loader, desc=\"Evaluating model\", leave=False):\n",
    "            inputs, labels = inputs.to(device), labels.to(device)\n",
    "            outputs = model(inputs)\n",
    "            loss = criterion(outputs, labels)\n",
    "            total_loss += loss.item()\n",
    "\n",
    "            # Calculate accuracy\n",
    "            _, predicted = torch.max(outputs, 1)\n",
    "            total_correct += (predicted == labels).sum().item()\n",
    "            total_samples += labels.size(0)\n",
    "\n",
    "    average_loss = total_loss / len(data_loader)\n",
    "    accuracy = 100 * total_correct / total_samples\n",
    "    print(f\"Validation Loss: {average_loss:.4f}, Validation Accuracy: {accuracy:.2f}%\")\n",
    "    return average_loss"
   ]
  },
  {
   "cell_type": "code",
   "execution_count": 20,
   "id": "e0ca64d6-5984-4c24-8f1a-6040c247c1d9",
   "metadata": {},
   "outputs": [
    {
     "name": "stdout",
     "output_type": "stream",
     "text": [
      "Performing sensitivity analysis...\n",
      "Starting layer sensitivity analysis...\n",
      "Analyzing layer: conv1\n"
     ]
    },
    {
     "name": "stderr",
     "output_type": "stream",
     "text": [
      "                                                                                                                       \r"
     ]
    },
    {
     "name": "stdout",
     "output_type": "stream",
     "text": [
      "Validation Loss: 4.7830, Validation Accuracy: 1.32%\n",
      "Pruning layer with pruning rate: 0.1\n"
     ]
    },
    {
     "name": "stderr",
     "output_type": "stream",
     "text": [
      "                                                                                                                       \r"
     ]
    },
    {
     "name": "stdout",
     "output_type": "stream",
     "text": [
      "Validation Loss: 4.7830, Validation Accuracy: 1.32%\n",
      "Sensitivity for layer conv1: 0.0\n",
      "Analyzing layer: layer1.0.conv1\n"
     ]
    },
    {
     "name": "stderr",
     "output_type": "stream",
     "text": [
      "                                                                                                                       \r"
     ]
    },
    {
     "name": "stdout",
     "output_type": "stream",
     "text": [
      "Validation Loss: 4.7830, Validation Accuracy: 1.32%\n",
      "Pruning layer with pruning rate: 0.1\n"
     ]
    },
    {
     "name": "stderr",
     "output_type": "stream",
     "text": [
      "                                                                                                                       \r"
     ]
    },
    {
     "name": "stdout",
     "output_type": "stream",
     "text": [
      "Validation Loss: 4.7830, Validation Accuracy: 1.32%\n",
      "Sensitivity for layer layer1.0.conv1: 0.0\n",
      "Analyzing layer: layer1.0.conv2\n"
     ]
    },
    {
     "name": "stderr",
     "output_type": "stream",
     "text": [
      "                                                                                                                       \r"
     ]
    },
    {
     "name": "stdout",
     "output_type": "stream",
     "text": [
      "Validation Loss: 4.7830, Validation Accuracy: 1.32%\n",
      "Pruning layer with pruning rate: 0.1\n"
     ]
    },
    {
     "name": "stderr",
     "output_type": "stream",
     "text": [
      "                                                                                                                       \r"
     ]
    },
    {
     "name": "stdout",
     "output_type": "stream",
     "text": [
      "Validation Loss: 4.7828, Validation Accuracy: 1.32%\n",
      "Sensitivity for layer layer1.0.conv2: -0.00014925003051757812\n",
      "Analyzing layer: layer1.1.conv1\n"
     ]
    },
    {
     "name": "stderr",
     "output_type": "stream",
     "text": [
      "                                                                                                                       \r"
     ]
    },
    {
     "name": "stdout",
     "output_type": "stream",
     "text": [
      "Validation Loss: 4.7828, Validation Accuracy: 1.32%\n",
      "Pruning layer with pruning rate: 0.1\n"
     ]
    },
    {
     "name": "stderr",
     "output_type": "stream",
     "text": [
      "                                                                                                                       \r"
     ]
    },
    {
     "name": "stdout",
     "output_type": "stream",
     "text": [
      "Validation Loss: 4.7830, Validation Accuracy: 1.32%\n",
      "Sensitivity for layer layer1.1.conv1: 0.00017690658569335938\n",
      "Analyzing layer: layer1.1.conv2\n"
     ]
    },
    {
     "name": "stderr",
     "output_type": "stream",
     "text": [
      "                                                                                                                       \r"
     ]
    },
    {
     "name": "stdout",
     "output_type": "stream",
     "text": [
      "Validation Loss: 4.7830, Validation Accuracy: 1.32%\n",
      "Pruning layer with pruning rate: 0.1\n"
     ]
    },
    {
     "name": "stderr",
     "output_type": "stream",
     "text": [
      "                                                                                                                       \r"
     ]
    },
    {
     "name": "stdout",
     "output_type": "stream",
     "text": [
      "Validation Loss: 4.7829, Validation Accuracy: 1.25%\n",
      "Sensitivity for layer layer1.1.conv2: -0.00012826919555664062\n",
      "Analyzing layer: layer2.0.conv1\n"
     ]
    },
    {
     "name": "stderr",
     "output_type": "stream",
     "text": [
      "                                                                                                                       \r"
     ]
    },
    {
     "name": "stdout",
     "output_type": "stream",
     "text": [
      "Validation Loss: 4.7829, Validation Accuracy: 1.25%\n",
      "Pruning layer with pruning rate: 0.1\n"
     ]
    },
    {
     "name": "stderr",
     "output_type": "stream",
     "text": [
      "                                                                                                                       \r"
     ]
    },
    {
     "name": "stdout",
     "output_type": "stream",
     "text": [
      "Validation Loss: 4.7828, Validation Accuracy: 1.32%\n",
      "Sensitivity for layer layer2.0.conv1: -0.00011539459228515625\n",
      "Analyzing layer: layer2.0.conv2\n"
     ]
    },
    {
     "name": "stderr",
     "output_type": "stream",
     "text": [
      "                                                                                                                       \r"
     ]
    },
    {
     "name": "stdout",
     "output_type": "stream",
     "text": [
      "Validation Loss: 4.7828, Validation Accuracy: 1.32%\n",
      "Pruning layer with pruning rate: 0.1\n"
     ]
    },
    {
     "name": "stderr",
     "output_type": "stream",
     "text": [
      "                                                                                                                       \r"
     ]
    },
    {
     "name": "stdout",
     "output_type": "stream",
     "text": [
      "Validation Loss: 4.7828, Validation Accuracy: 1.32%\n",
      "Sensitivity for layer layer2.0.conv2: -2.86102294921875e-06\n",
      "Analyzing layer: layer2.0.downsample.0\n"
     ]
    },
    {
     "name": "stderr",
     "output_type": "stream",
     "text": [
      "                                                                                                                       \r"
     ]
    },
    {
     "name": "stdout",
     "output_type": "stream",
     "text": [
      "Validation Loss: 4.7828, Validation Accuracy: 1.32%\n",
      "Pruning layer with pruning rate: 0.1\n"
     ]
    },
    {
     "name": "stderr",
     "output_type": "stream",
     "text": [
      "                                                                                                                       \r"
     ]
    },
    {
     "name": "stdout",
     "output_type": "stream",
     "text": [
      "Validation Loss: 4.7831, Validation Accuracy: 1.32%\n",
      "Sensitivity for layer layer2.0.downsample.0: 0.00035762786865234375\n",
      "Analyzing layer: layer2.1.conv1\n"
     ]
    },
    {
     "name": "stderr",
     "output_type": "stream",
     "text": [
      "                                                                                                                       \r"
     ]
    },
    {
     "name": "stdout",
     "output_type": "stream",
     "text": [
      "Validation Loss: 4.7831, Validation Accuracy: 1.32%\n",
      "Pruning layer with pruning rate: 0.1\n"
     ]
    },
    {
     "name": "stderr",
     "output_type": "stream",
     "text": [
      "                                                                                                                       \r"
     ]
    },
    {
     "name": "stdout",
     "output_type": "stream",
     "text": [
      "Validation Loss: 4.7829, Validation Accuracy: 1.32%\n",
      "Sensitivity for layer layer2.1.conv1: -0.00026035308837890625\n",
      "Analyzing layer: layer2.1.conv2\n"
     ]
    },
    {
     "name": "stderr",
     "output_type": "stream",
     "text": [
      "                                                                                                                       \r"
     ]
    },
    {
     "name": "stdout",
     "output_type": "stream",
     "text": [
      "Validation Loss: 4.7829, Validation Accuracy: 1.32%\n",
      "Pruning layer with pruning rate: 0.1\n"
     ]
    },
    {
     "name": "stderr",
     "output_type": "stream",
     "text": [
      "                                                                                                                       \r"
     ]
    },
    {
     "name": "stdout",
     "output_type": "stream",
     "text": [
      "Validation Loss: 4.7826, Validation Accuracy: 1.32%\n",
      "Sensitivity for layer layer2.1.conv2: -0.0002875328063964844\n",
      "Analyzing layer: layer3.0.conv1\n"
     ]
    },
    {
     "name": "stderr",
     "output_type": "stream",
     "text": [
      "                                                                                                                       \r"
     ]
    },
    {
     "name": "stdout",
     "output_type": "stream",
     "text": [
      "Validation Loss: 4.7826, Validation Accuracy: 1.32%\n",
      "Pruning layer with pruning rate: 0.1\n"
     ]
    },
    {
     "name": "stderr",
     "output_type": "stream",
     "text": [
      "                                                                                                                       \r"
     ]
    },
    {
     "name": "stdout",
     "output_type": "stream",
     "text": [
      "Validation Loss: 4.7829, Validation Accuracy: 1.32%\n",
      "Sensitivity for layer layer3.0.conv1: 0.0003285408020019531\n",
      "Analyzing layer: layer3.0.conv2\n"
     ]
    },
    {
     "name": "stderr",
     "output_type": "stream",
     "text": [
      "                                                                                                                       \r"
     ]
    },
    {
     "name": "stdout",
     "output_type": "stream",
     "text": [
      "Validation Loss: 4.7829, Validation Accuracy: 1.32%\n",
      "Pruning layer with pruning rate: 0.1\n"
     ]
    },
    {
     "name": "stderr",
     "output_type": "stream",
     "text": [
      "                                                                                                                       \r"
     ]
    },
    {
     "name": "stdout",
     "output_type": "stream",
     "text": [
      "Validation Loss: 4.7828, Validation Accuracy: 1.25%\n",
      "Sensitivity for layer layer3.0.conv2: -0.00010538101196289062\n",
      "Analyzing layer: layer3.0.downsample.0\n"
     ]
    },
    {
     "name": "stderr",
     "output_type": "stream",
     "text": [
      "                                                                                                                       \r"
     ]
    },
    {
     "name": "stdout",
     "output_type": "stream",
     "text": [
      "Validation Loss: 4.7828, Validation Accuracy: 1.25%\n",
      "Pruning layer with pruning rate: 0.1\n"
     ]
    },
    {
     "name": "stderr",
     "output_type": "stream",
     "text": [
      "                                                                                                                       \r"
     ]
    },
    {
     "name": "stdout",
     "output_type": "stream",
     "text": [
      "Validation Loss: 4.7830, Validation Accuracy: 1.25%\n",
      "Sensitivity for layer layer3.0.downsample.0: 0.00016069412231445312\n",
      "Analyzing layer: layer3.1.conv1\n"
     ]
    },
    {
     "name": "stderr",
     "output_type": "stream",
     "text": [
      "                                                                                                                       \r"
     ]
    },
    {
     "name": "stdout",
     "output_type": "stream",
     "text": [
      "Validation Loss: 4.7830, Validation Accuracy: 1.25%\n",
      "Pruning layer with pruning rate: 0.1\n"
     ]
    },
    {
     "name": "stderr",
     "output_type": "stream",
     "text": [
      "                                                                                                                       \r"
     ]
    },
    {
     "name": "stdout",
     "output_type": "stream",
     "text": [
      "Validation Loss: 4.7828, Validation Accuracy: 1.25%\n",
      "Sensitivity for layer layer3.1.conv1: -0.00017261505126953125\n",
      "Analyzing layer: layer3.1.conv2\n"
     ]
    },
    {
     "name": "stderr",
     "output_type": "stream",
     "text": [
      "                                                                                                                       \r"
     ]
    },
    {
     "name": "stdout",
     "output_type": "stream",
     "text": [
      "Validation Loss: 4.7828, Validation Accuracy: 1.25%\n",
      "Pruning layer with pruning rate: 0.1\n"
     ]
    },
    {
     "name": "stderr",
     "output_type": "stream",
     "text": [
      "                                                                                                                       \r"
     ]
    },
    {
     "name": "stdout",
     "output_type": "stream",
     "text": [
      "Validation Loss: 4.7830, Validation Accuracy: 1.32%\n",
      "Sensitivity for layer layer3.1.conv2: 0.00018262863159179688\n",
      "Analyzing layer: layer4.0.conv1\n"
     ]
    },
    {
     "name": "stderr",
     "output_type": "stream",
     "text": [
      "                                                                                                                       \r"
     ]
    },
    {
     "name": "stdout",
     "output_type": "stream",
     "text": [
      "Validation Loss: 4.7830, Validation Accuracy: 1.32%\n",
      "Pruning layer with pruning rate: 0.1\n"
     ]
    },
    {
     "name": "stderr",
     "output_type": "stream",
     "text": [
      "                                                                                                                       \r"
     ]
    },
    {
     "name": "stdout",
     "output_type": "stream",
     "text": [
      "Validation Loss: 4.7828, Validation Accuracy: 1.32%\n",
      "Sensitivity for layer layer4.0.conv1: -0.00021648406982421875\n",
      "Analyzing layer: layer4.0.conv2\n"
     ]
    },
    {
     "name": "stderr",
     "output_type": "stream",
     "text": [
      "                                                                                                                       \r"
     ]
    },
    {
     "name": "stdout",
     "output_type": "stream",
     "text": [
      "Validation Loss: 4.7828, Validation Accuracy: 1.32%\n",
      "Pruning layer with pruning rate: 0.1\n"
     ]
    },
    {
     "name": "stderr",
     "output_type": "stream",
     "text": [
      "                                                                                                                       \r"
     ]
    },
    {
     "name": "stdout",
     "output_type": "stream",
     "text": [
      "Validation Loss: 4.7826, Validation Accuracy: 1.32%\n",
      "Sensitivity for layer layer4.0.conv2: -0.0001125335693359375\n",
      "Analyzing layer: layer4.0.downsample.0\n"
     ]
    },
    {
     "name": "stderr",
     "output_type": "stream",
     "text": [
      "                                                                                                                       \r"
     ]
    },
    {
     "name": "stdout",
     "output_type": "stream",
     "text": [
      "Validation Loss: 4.7826, Validation Accuracy: 1.32%\n",
      "Pruning layer with pruning rate: 0.1\n"
     ]
    },
    {
     "name": "stderr",
     "output_type": "stream",
     "text": [
      "                                                                                                                       \r"
     ]
    },
    {
     "name": "stdout",
     "output_type": "stream",
     "text": [
      "Validation Loss: 4.7826, Validation Accuracy: 1.32%\n",
      "Sensitivity for layer layer4.0.downsample.0: -5.1975250244140625e-05\n",
      "Analyzing layer: layer4.1.conv1\n"
     ]
    },
    {
     "name": "stderr",
     "output_type": "stream",
     "text": [
      "                                                                                                                       \r"
     ]
    },
    {
     "name": "stdout",
     "output_type": "stream",
     "text": [
      "Validation Loss: 4.7826, Validation Accuracy: 1.32%\n",
      "Pruning layer with pruning rate: 0.1\n"
     ]
    },
    {
     "name": "stderr",
     "output_type": "stream",
     "text": [
      "                                                                                                                       \r"
     ]
    },
    {
     "name": "stdout",
     "output_type": "stream",
     "text": [
      "Validation Loss: 4.7825, Validation Accuracy: 1.39%\n",
      "Sensitivity for layer layer4.1.conv1: -9.679794311523438e-05\n",
      "Analyzing layer: layer4.1.conv2\n"
     ]
    },
    {
     "name": "stderr",
     "output_type": "stream",
     "text": [
      "                                                                                                                       \r"
     ]
    },
    {
     "name": "stdout",
     "output_type": "stream",
     "text": [
      "Validation Loss: 4.7825, Validation Accuracy: 1.39%\n",
      "Pruning layer with pruning rate: 0.1\n"
     ]
    },
    {
     "name": "stderr",
     "output_type": "stream",
     "text": [
      "                                                                                                                       \r"
     ]
    },
    {
     "name": "stdout",
     "output_type": "stream",
     "text": [
      "Validation Loss: 4.7838, Validation Accuracy: 1.39%\n",
      "Sensitivity for layer layer4.1.conv2: 0.0012545585632324219\n",
      "Analyzing layer: fc\n"
     ]
    },
    {
     "name": "stderr",
     "output_type": "stream",
     "text": [
      "                                                                                                                       \r"
     ]
    },
    {
     "name": "stdout",
     "output_type": "stream",
     "text": [
      "Validation Loss: 4.7838, Validation Accuracy: 1.39%\n",
      "Pruning layer with pruning rate: 0.1\n"
     ]
    },
    {
     "name": "stderr",
     "output_type": "stream",
     "text": [
      "                                                                                                                       "
     ]
    },
    {
     "name": "stdout",
     "output_type": "stream",
     "text": [
      "Validation Loss: 4.7834, Validation Accuracy: 1.32%\n",
      "Sensitivity for layer fc: -0.0003199577331542969\n"
     ]
    },
    {
     "name": "stderr",
     "output_type": "stream",
     "text": [
      "\r"
     ]
    }
   ],
   "source": [
    "print(\"Performing sensitivity analysis...\")\n",
    "# Perform sensitivity analysis\n",
    "sensitivities = layer_sensitivity_analysis(model, val_loader, criterion)"
   ]
  },
  {
   "cell_type": "code",
   "execution_count": 21,
   "id": "249b0b81-8555-45f1-a2aa-a88882cafbe4",
   "metadata": {},
   "outputs": [
    {
     "name": "stdout",
     "output_type": "stream",
     "text": [
      "Applying adaptive pruning...\n",
      "Pruning layer with pruning rate: 0.0\n",
      "Pruning layer with pruning rate: 0.0\n",
      "Pruning layer with pruning rate: 0.0\n",
      "Pruning layer with pruning rate: 0.4006479481641469\n",
      "Pruning layer with pruning rate: 0.0\n",
      "Pruning layer with pruning rate: 0.0\n",
      "Pruning layer with pruning rate: 0.0\n",
      "Pruning layer with pruning rate: 0.8099352051835853\n",
      "Pruning layer with pruning rate: 0.0\n",
      "Pruning layer with pruning rate: 0.0\n",
      "Pruning layer with pruning rate: 0.744060475161987\n",
      "Pruning layer with pruning rate: 0.0\n",
      "Pruning layer with pruning rate: 0.36393088552915764\n",
      "Pruning layer with pruning rate: 0.0\n",
      "Pruning layer with pruning rate: 0.4136069114470842\n",
      "Pruning layer with pruning rate: 0.0\n",
      "Pruning layer with pruning rate: 0.0\n",
      "Pruning layer with pruning rate: 0.0\n",
      "Pruning layer with pruning rate: 0.0\n",
      "Pruning layer with pruning rate: 1.0\n",
      "Pruning layer with pruning rate: 0.0\n"
     ]
    }
   ],
   "source": [
    "# Determine adaptive pruning rates\n",
    "total_sensitivity = sum(sensitivities.values())\n",
    "pruning_rates = {name: max(0.0, min(1.0, sens / total_sensitivity)) for name, sens in sensitivities.items()}\n",
    "\n",
    "print(\"Applying adaptive pruning...\")\n",
    "# Apply adaptive pruning\n",
    "for name, layer in model.named_modules():\n",
    "    if name in pruning_rates:\n",
    "        prune_layer(layer, pruning_rates[name])\n"
   ]
  },
  {
   "cell_type": "code",
   "execution_count": 22,
   "id": "04716dfd-adaa-486a-ada1-e3c9cb77ecfc",
   "metadata": {},
   "outputs": [
    {
     "name": "stdout",
     "output_type": "stream",
     "text": [
      "Fine-tuning the pruned model...\n",
      "Starting fine-tuning...\n",
      "Epoch 1/5\n"
     ]
    },
    {
     "name": "stderr",
     "output_type": "stream",
     "text": [
      "Epoch 1/5: 100%|███████████████████████████████████████████████████████████████| 3/3 [00:25<00:00,  8.50s/it, loss=4.9]\n"
     ]
    },
    {
     "name": "stdout",
     "output_type": "stream",
     "text": [
      "Epoch [1/5], Loss: 4.895213603973389\n",
      "Mask type for conv1: <class 'float'>\n"
     ]
    },
    {
     "ename": "AttributeError",
     "evalue": "'float' object has no attribute 'numel'",
     "output_type": "error",
     "traceback": [
      "\u001b[1;31m---------------------------------------------------------------------------\u001b[0m",
      "\u001b[1;31mAttributeError\u001b[0m                            Traceback (most recent call last)",
      "Cell \u001b[1;32mIn[22], line 5\u001b[0m\n\u001b[0;32m      3\u001b[0m loss_log \u001b[38;5;241m=\u001b[39m []\n\u001b[0;32m      4\u001b[0m pruning_rates_log \u001b[38;5;241m=\u001b[39m []\n\u001b[1;32m----> 5\u001b[0m \u001b[43mfine_tune_model\u001b[49m\u001b[43m(\u001b[49m\u001b[43mmodel\u001b[49m\u001b[43m,\u001b[49m\u001b[43m \u001b[49m\u001b[43mtrain_loader\u001b[49m\u001b[43m,\u001b[49m\u001b[43m \u001b[49m\u001b[43mcriterion\u001b[49m\u001b[43m,\u001b[49m\u001b[43m \u001b[49m\u001b[43moptimizer\u001b[49m\u001b[43m,\u001b[49m\u001b[43m \u001b[49m\u001b[43mnum_epochs\u001b[49m\u001b[38;5;241;43m=\u001b[39;49m\u001b[38;5;241;43m5\u001b[39;49m\u001b[43m)\u001b[49m\n",
      "Cell \u001b[1;32mIn[17], line 33\u001b[0m, in \u001b[0;36mfine_tune_model\u001b[1;34m(model, train_loader, criterion, optimizer, num_epochs)\u001b[0m\n\u001b[0;32m     31\u001b[0m \u001b[38;5;28;01mfor\u001b[39;00m name, mask \u001b[38;5;129;01min\u001b[39;00m pruning_rates\u001b[38;5;241m.\u001b[39mitems():\n\u001b[0;32m     32\u001b[0m     \u001b[38;5;28mprint\u001b[39m(\u001b[38;5;124mf\u001b[39m\u001b[38;5;124m\"\u001b[39m\u001b[38;5;124mMask type for \u001b[39m\u001b[38;5;132;01m{\u001b[39;00mname\u001b[38;5;132;01m}\u001b[39;00m\u001b[38;5;124m: \u001b[39m\u001b[38;5;132;01m{\u001b[39;00m\u001b[38;5;28mtype\u001b[39m(mask)\u001b[38;5;132;01m}\u001b[39;00m\u001b[38;5;124m\"\u001b[39m)\n\u001b[1;32m---> 33\u001b[0m     epoch_pruning_rates[name] \u001b[38;5;241m=\u001b[39m \u001b[38;5;28mfloat\u001b[39m(torch\u001b[38;5;241m.\u001b[39mtensor(mask)\u001b[38;5;241m.\u001b[39msum()) \u001b[38;5;241m/\u001b[39m \u001b[38;5;28mfloat\u001b[39m(\u001b[43mmask\u001b[49m\u001b[38;5;241;43m.\u001b[39;49m\u001b[43mnumel\u001b[49m())\n\u001b[0;32m     34\u001b[0m pruning_rates_log\u001b[38;5;241m.\u001b[39mappend(epoch_pruning_rates)\n\u001b[0;32m     36\u001b[0m \u001b[38;5;66;03m# Append loss to log\u001b[39;00m\n",
      "\u001b[1;31mAttributeError\u001b[0m: 'float' object has no attribute 'numel'"
     ]
    }
   ],
   "source": [
    "print(\"Fine-tuning the pruned model...\")\n",
    "# Fine-tune the pruned model\n",
    "loss_log = []\n",
    "pruning_rates_log = []\n",
    "fine_tune_model(model, train_loader, criterion, optimizer, num_epochs=5)"
   ]
  },
  {
   "cell_type": "code",
   "execution_count": null,
   "id": "10c3640c-3c03-4230-9462-87d2061472d7",
   "metadata": {},
   "outputs": [],
   "source": [
    "print(\"Saving the pruned and fine-tuned model...\")\n",
    "# Save the model\n",
    "torch.save(model.state_dict(), 'food101_Res18_pruned.pth')"
   ]
  },
  {
   "cell_type": "code",
   "execution_count": null,
   "id": "c6874158-cfa1-4f4f-a156-2aa80de669b4",
   "metadata": {},
   "outputs": [],
   "source": [
    "print(\"Evaluating the final model on the test set...\")\n",
    "# Evaluate the final model on the test set\n",
    "model.eval()\n",
    "correct = 0\n",
    "total = 0\n",
    "with torch.no_grad():\n",
    "    for inputs, labels in tqdm(test_loader, desc=\"Testing model\"):\n",
    "        inputs, labels = inputs.to(device), labels.to(device)\n",
    "        outputs = model(inputs)\n",
    "        _, predicted = torch.max(outputs.data, 1)\n",
    "        total += labels.size(0)\n",
    "        correct += (predicted == labels).sum().item()\n",
    "\n",
    "test_accuracy = 100 * correct / total\n",
    "print(f'Test Accuracy: {test_accuracy:.2f}%')\n",
    "\n",
    "# Plotting the loss log and pruning rates log\n",
    "plt.figure(figsize=(12, 5))\n",
    "plt.subplot(1, 2, 1)\n",
    "plt.plot(range(1, len(loss_log) + 1), loss_log, marker='o')\n",
    "plt.title('Loss During Fine-tuning')\n",
    "plt.xlabel('Epoch')\n",
    "plt.ylabel('Loss')\n",
    "plt.grid(True)\n",
    "\n",
    "plt.subplot(1, 2, 2)\n",
    "for name, rate in pruning_rates.items():\n",
    "    plt.plot(range(1, 11), [rate] * 10, label=name)\n",
    "plt.title('Pruning Rates After Fine-tuning')\n",
    "plt.xlabel('Epoch')\n",
    "plt.ylabel('Pruning Rate')\n",
    "plt.legend()\n",
    "plt.grid(True)\n",
    "plt.show()"
   ]
  },
  {
   "cell_type": "code",
   "execution_count": null,
   "id": "8a927432-f359-4d46-969a-3d3e8485f6ba",
   "metadata": {},
   "outputs": [],
   "source": []
  }
 ],
 "metadata": {
  "kernelspec": {
   "display_name": "Python 3 (ipykernel)",
   "language": "python",
   "name": "python3"
  },
  "language_info": {
   "codemirror_mode": {
    "name": "ipython",
    "version": 3
   },
   "file_extension": ".py",
   "mimetype": "text/x-python",
   "name": "python",
   "nbconvert_exporter": "python",
   "pygments_lexer": "ipython3",
   "version": "3.8.19"
  }
 },
 "nbformat": 4,
 "nbformat_minor": 5
}
